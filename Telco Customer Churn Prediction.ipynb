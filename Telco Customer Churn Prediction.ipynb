{
 "cells": [
  {
   "cell_type": "markdown",
   "metadata": {
    "id": "VVbqyBZRDRzD"
   },
   "source": [
    "# Introduction"
   ]
  },
  {
   "cell_type": "markdown",
   "metadata": {
    "id": "Kjgp-x1TSCE6"
   },
   "source": [
    "### Problem Statement\n",
    "This is a python exploratory data analysis and customer churn prediction project that I have completed as a part of my first semister Master's in Data Science.\n",
    "\n",
    "The project explores the data of a fictional Tele communications company called Telco and its customers churn data that provided home phone and Internet service to 7,043 customers in California during the third quarter. It shows which customers have left, stayed or signed up for their services. Multiple important demographics are included for each customer, as well as a Satisfaction Score, Churn Score, and Customer Lifetime Value (CLTV) index.\n",
    "\n",
    "For each of these data objects, there are 6 different files that I have uploaded to Google Drive to read data into the Google Cloud Colab Environment.\n",
    "\n",
    "The project aims to use customer data like demographics, services opted by customers, and location of a customer to predict the possibility of churning out of a customer."
   ]
  },
  {
   "cell_type": "markdown",
   "metadata": {
    "id": "w2m7RdmvSAjA"
   },
   "source": [
    "### Skills Used\n",
    "In this exploratory data analysis and model prediction I'll be applying my knowledge and skills in:\n",
    "\n",
    "* Python\n",
    "  * Numpy\n",
    "  * Pandas\n",
    "  * Matplotlib\n",
    "  * Seaborn\n",
    "  * Scikit-Learn\n",
    "\n"
   ]
  },
  {
   "cell_type": "markdown",
   "metadata": {
    "id": "x8x8S4KLakO2"
   },
   "source": [
    "# Data Sources\n",
    "\n",
    "The Telco Chustomer churn data has 6 different files containing 7043 customers data of both running and churned out customers. The 6 different files and their data description is as follows:"
   ]
  },
  {
   "cell_type": "markdown",
   "metadata": {
    "id": "ltaT5Fz7ffnB"
   },
   "source": [
    "## **Demographics**"
   ]
  },
  {
   "cell_type": "markdown",
   "metadata": {
    "id": "qO2c8f91Waau"
   },
   "source": [
    "1. **Customer ID:**\n",
    "   - Unique identifier assigned to each customer.\n",
    "\n",
    "2. **Count:**\n",
    "   - Numeric count or frequency associated with each customer, possibly indicating the number of occurrences or transactions.\n",
    "\n",
    "3. **Gender:**\n",
    "   - Categorical variable indicating the gender of the customer (e.g., Male, Female).\n",
    "\n",
    "4. **Age:**\n",
    "   - Numeric variable representing the age of the customer.\n",
    "\n",
    "5. **Under 30:**\n",
    "   - Binary variable indicating whether the customer is under 30 years old (1 for Yes, 0 for No).\n",
    "\n",
    "6. **Senior Citizen:**\n",
    "   - Binary variable indicating whether the customer is a senior citizen (1 for Yes, 0 for No).\n",
    "\n",
    "7. **Married:**\n",
    "   - Binary variable indicating whether the customer is married (1 for Yes, 0 for No).\n",
    "\n",
    "8. **Dependents:**\n",
    "   - Binary variable indicating whether the customer has dependents (1 for Yes, 0 for No).\n",
    "\n",
    "9. **Number of Dependents:**\n",
    "   - Numeric variable representing the count of dependents associated with the customer.\n",
    "\n",
    "This demographics data table appears to contain information about customers, including their unique identifier, gender, age, marital status, presence of dependents, and count-related variables. It's a mix of categorical and numerical features that could be used for analyzing customer demographics and behavior.\n"
   ]
  },
  {
   "cell_type": "markdown",
   "metadata": {
    "id": "43kvOcuZf-Jk"
   },
   "source": [
    "## **Location**"
   ]
  },
  {
   "cell_type": "markdown",
   "metadata": {
    "id": "UGAaCIhHfUQi"
   },
   "source": [
    "1. **Customer ID:**\n",
    "   - Unique identifier assigned to each customer.\n",
    "\n",
    "2. **Count:**\n",
    "   - Numeric count or frequency associated with each customer, possibly indicating the number of occurrences or transactions.\n",
    "\n",
    "3. **Country:**\n",
    "   - Categorical variable indicating the country of residence for each customer.\n",
    "\n",
    "4. **State:**\n",
    "   - Categorical variable representing the state or region within the country where the customer resides.\n",
    "\n",
    "5. **City:**\n",
    "   - Categorical variable specifying the city of residence for each customer.\n",
    "\n",
    "6. **Zip Code:**\n",
    "   - Alphanumeric code representing the postal code or ZIP code associated with the customer's address.\n",
    "\n",
    "7. **Lat Long (Latitude and Longitude):**\n",
    "   - Geographic coordinates specifying the latitude and longitude of the customer's location.\n",
    "\n",
    "8. **Latitude:**\n",
    "   - Numeric variable indicating the latitude of the customer's location.\n",
    "\n",
    "9. **Longitude:**\n",
    "   - Numeric variable indicating the longitude of the customer's location.\n",
    "\n",
    "This locations data table contains information about customers' geographical locations, including their country, state, city, ZIP code, and geographic coordinates (latitude and longitude). Additionally, it includes a unique identifier (Customer ID) and a count-related variable. This geographical information can be valuable for analyzing customer distribution, regional patterns, and location-based insights."
   ]
  },
  {
   "cell_type": "markdown",
   "metadata": {
    "id": "K9_T9fgPjAdx"
   },
   "source": [
    "## **Population**"
   ]
  },
  {
   "cell_type": "markdown",
   "metadata": {
    "id": "J3IgpC6wif64"
   },
   "source": [
    "1. **ID:**\n",
    "    Unique identifier assigned to each record in the population data table.\n",
    "\n",
    "2. **Zip Code:**\n",
    "    Alphanumeric code representing the postal code or ZIP code associated with a specific geographic area.\n",
    "\n",
    "3. **Population:**\n",
    "    Numeric variable indicating the population count associated with the corresponding ZIP code. This variable represents the number of residents or individuals in the specified geographic area.\n",
    "\n",
    "This population data table appears to contain information about population counts in different ZIP codes or geographic areas. The combination of ID and Zip Code provides a unique identifier for each record, and the Population column holds the corresponding population count for each geographic area. This data can be valuable for demographic analysis, understanding population distribution, and related insights."
   ]
  },
  {
   "cell_type": "markdown",
   "metadata": {
    "id": "FPNdXkPOjVhx"
   },
   "source": [
    "## **Services**"
   ]
  },
  {
   "cell_type": "markdown",
   "metadata": {
    "id": "J9cjx5b_jaXg"
   },
   "source": [
    "1. **Customer ID:** Unique identifier assigned to each customer.\n",
    "\n",
    "2. **Count:** Numeric count or frequency associated with each customer, possibly indicating the number of occurrences or transactions.\n",
    "\n",
    "3. **Quarter:** Categorical variable representing the quarter or time period during which the data was recorded.\n",
    "\n",
    "4. **Referred a Friend:** Binary variable indicating whether the customer referred a friend (1 for Yes, 0 for No).\n",
    "\n",
    "5. **Number of Referrals:** Numeric variable indicating the count of referrals made by the customer.\n",
    "\n",
    "6. **Tenure in Months:** Numeric variable representing the duration of the customer's association with the service provider in months.\n",
    "\n",
    "7. **Offer:** Categorical variable specifying the type of offer or plan subscribed to by the customer.\n",
    "\n",
    "8. **Phone Service:** Binary variable indicating whether the customer has phone service (1 for Yes, 0 for No).\n",
    "\n",
    "9. **Avg Monthly Long Distance Charges:** Numeric variable representing the average monthly long-distance charges incurred by the customer.\n",
    "\n",
    "10. **Multiple Lines:** Binary variable indicating whether the customer has multiple phone lines (1 for Yes, 0 for No).\n",
    "\n",
    "11. **Internet Service:** Binary variable indicating whether the customer has Internet Service (1 for Yes, 0 for No).\n",
    "\n",
    "12. **Internet Type:** Categorical variable indicating the type of internet connection (e.g., DSL, Fiber).\n",
    "\n",
    "13. **Avg Monthly GB Download:** Numeric variable representing the average monthly gigabytes of data downloaded by the customer.\n",
    "\n",
    "14. **Online Security:** Binary variable indicating whether the customer has online security service (1 for True, 0 for False).\n",
    "\n",
    "15. **Online Backup:** Binary variable indicating whether the customer has online backup service (1 for True, 0 for False).\n",
    "\n",
    "16. **Device Protection Plan:** Binary variable indicating whether the customer has a device protection plan (1 for True, 0 for False).\n",
    "\n",
    "17. **Premium Tech Support:** Binary variable indicating whether the customer has premium tech support service (1 for True, 0 for False).\n",
    "\n",
    "18. **Streaming TV:** Binary variable indicating whether the customer has streaming TV service (1 for True, 0 for False).\n",
    "\n",
    "19. **Streaming Movies:** Binary variable indicating whether the customer has streaming movies service (1 for True, 0 for False).\n",
    "\n",
    "20. **Streaming Music:** Binary variable indicating whether the customer has streaming music service (1 for True, 0 for False).\n",
    "\n",
    "21. **Unlimited Data:** Binary variable indicating whether the customer has unlimited data service (1 for True, 0 for False).\n",
    "\n",
    "22. **Contract:** Categorical variable specifying the type of contract (e.g., month-to-month, one-year, two-year).\n",
    "\n",
    "23. **Paperless Billing:** Binary variable indicating whether the customer has opted for paperless billing (1 for True, 0 for False).\n",
    "\n",
    "24. **Payment Method:** Categorical variable specifying the customer's payment method.\n",
    "\n",
    "25. **Monthly Charge:** Numeric variable representing the monthly charge incurred by the customer.\n",
    "\n",
    "26. **Total Charges:** Numeric variable representing the total charges incurred by the customer.\n",
    "\n",
    "27. **Total Refunds:** Numeric variable representing the total refund amount for the customer.\n",
    "\n",
    "28. **Total Extra Data Charges:** Numeric variable representing the total extra data charges incurred by the customer.\n",
    "\n",
    "29. **Total Long Distance Charges:** Numeric variable representing the total long-distance charges incurred by the customer.\n",
    "\n",
    "30. **Total Revenue:** Numeric variable representing the total revenue generated from the customer, accounting for charges, refunds, and additional charges.\n",
    "\n",
    "This service data table provides a comprehensive view of various aspects related to customer interactions, services subscribed, and financial transactions. The combination of categorical and numerical features allows for in-depth analysis of customer behavior and preferences."
   ]
  },
  {
   "cell_type": "markdown",
   "metadata": {
    "id": "Unv-_oPKuBlM"
   },
   "source": [
    "## **Status**"
   ]
  },
  {
   "cell_type": "markdown",
   "metadata": {
    "id": "VCgtUo6DuBYZ"
   },
   "source": [
    "1. **Customer ID:**\n",
    "   - Unique identifier assigned to each customer.\n",
    "\n",
    "2. **Count:**\n",
    "   - Numeric count or frequency associated with each customer, possibly indicating the number of occurrences or transactions.\n",
    "\n",
    "3. **Quarter:**\n",
    "   - Categorical variable representing the quarter or time period during which the data was recorded.\n",
    "\n",
    "4. **Satisfaction Score:**\n",
    "   - Numeric variable representing the satisfaction score assigned to each customer.\n",
    "\n",
    "5. **Customer Status:**\n",
    "   - Categorical variable indicating the overall status of the customer (e.g., active, inactive).\n",
    "\n",
    "6. **Churn Label:**\n",
    "   - Categorical variable indicating whether the customer has churned (e.g., Yes, No).\n",
    "\n",
    "7. **Churn Value:**\n",
    "   - Binary variable indicating whether the customer has churned (1 for True, 0 for False).\n",
    "\n",
    "8. **Churn Score:**\n",
    "   - Numeric variable representing the churn score assigned to each customer.\n",
    "\n",
    "9. **CLTV (Customer Lifetime Value):**\n",
    "   - Numeric variable representing the predicted lifetime value of the customer.\n",
    "\n",
    "10. **Churn Category:**\n",
    "    - Categorical variable specifying the category of churn (e.g., voluntary, involuntary).\n",
    "\n",
    "11. **Churn Reason:**\n",
    "    - Categorical variable providing information about the reason for churn if applicable.\n",
    "\n",
    "This status data table provides information about the status and churn-related metrics for each customer. It includes satisfaction scores, churn labels, churn scores, customer lifetime values, and reasons for churn. Analyzing this data can help in understanding customer satisfaction, predicting churn, and identifying factors contributing to customer attrition."
   ]
  },
  {
   "cell_type": "markdown",
   "metadata": {
    "id": "XnTE_ffHuBJ6"
   },
   "source": [
    "## Churn"
   ]
  },
  {
   "cell_type": "markdown",
   "metadata": {
    "id": "7lprLDk47MK2"
   },
   "source": [
    "\n",
    "\n",
    "1. **Customer ID:** Unique identifier assigned to each customer.\n",
    "\n",
    "2. **Count:** Numeric count or frequency associated with each customer, possibly indicating the number of occurrences or transactions.\n",
    "\n",
    "3. **Country:** Categorical variable indicating the country of residence for each customer.\n",
    "\n",
    "4. **State:** Categorical variable representing the state or region within the country where the customer resides.\n",
    "\n",
    "5. **City:** Categorical variable specifying the city of residence for each customer.\n",
    "\n",
    "6. **Zip Code:** Alphanumeric code representing the postal code or ZIP code associated with the customer's address.\n",
    "\n",
    "7. **Lat Long (Latitude and Longitude):** Geographic coordinates specifying the latitude and longitude of the customer's location.\n",
    "\n",
    "8. **Latitude:** Numeric variable indicating the latitude of the customer's location.\n",
    "\n",
    "9. **Longitude:** Numeric variable indicating the longitude of the customer's location.\n",
    "\n",
    "10. **Gender:** Categorical variable indicating the gender of the customer (e.g., Male, Female).\n",
    "\n",
    "11. **Senior Citizen:** Binary variable indicating whether the customer is a senior citizen (1 for Yes, 0 for No).\n",
    "\n",
    "12. **Partner:** Binary variable indicating whether the customer is married (1 for Yes, 0 for No).\n",
    "\n",
    "13. **Dependents:** Binary variable indicating whether the customer has dependents (1 for Yes, 0 for No).\n",
    "\n",
    "14. **Tenure in Months:** Numeric variable representing the duration of the customer's association with the service provider in months.\n",
    "\n",
    "15. **Phone Service:** Binary variable indicating whether the customer has phone service (1 for Yes, 0 for No).\n",
    "\n",
    "16. **Multiple Lines:** Binary variable indicating whether the customer has multiple phone lines (1 for Yes, 0 for No).\n",
    "\n",
    "17. **Online Security:** Binary variable indicating whether the customer has online security service (1 for True, 0 for False).\n",
    "\n",
    "18. **Online Backup:** Binary variable indicating whether the customer has online backup service (1 for True, 0 for False).\n",
    "\n",
    "19. **Device Protection Plan:** Binary variable indicating whether the customer has a device protection plan (1 for True, 0 for False).\n",
    "\n",
    "20. Tech Support:** Binary variable indicating whether the customer has premium tech support service (1 for True, 0 for False).\n",
    "\n",
    "21. **Streaming TV:** Binary variable indicating whether the customer has streaming TV service (1 for True, 0 for False).\n",
    "\n",
    "22. **Streaming Movies:** Binary variable indicating whether the customer has streaming movies service (1 for True, 0 for False).\n",
    "\n",
    "23. **Contract:** Categorical variable specifying the type of contract (e.g., month-to-month, one-year, two-year).\n",
    "\n",
    "24. **Paperless Billing:** Binary variable indicating whether the customer has opted for paperless billing (1 for True, 0 for False).\n",
    "\n",
    "25. **Payment Method:** Categorical variable specifying the customer's payment method.\n",
    "\n",
    "26. **Monthly Charge:** Numeric variable representing the monthly charge incurred by the customer.\n",
    "\n",
    "27. **Churn Label:** Categorical variable indicating whether the customer has churned (e.g., Yes, No).\n",
    "\n",
    "28. **Churn Value:** Binary variable indicating whether the customer has churned (1 for True, 0 for False).\n",
    "\n",
    "29. **Churn Score:** Numeric variable representing the churn score assigned to each customer.\n",
    "\n",
    "30. **CLTV (Customer Lifetime Value):** Numeric variable representing the predicted lifetime value of the customer.\n"
   ]
  },
  {
   "cell_type": "markdown",
   "metadata": {
    "id": "JHq5XgrkSUKR"
   },
   "source": [
    "# Data Collection"
   ]
  },
  {
   "cell_type": "code",
   "execution_count": 6,
   "metadata": {
    "colab": {
     "base_uri": "https://localhost:8080/"
    },
    "executionInfo": {
     "elapsed": 19962,
     "status": "ok",
     "timestamp": 1702915230076,
     "user": {
      "displayName": "Aravind Bhimanathini",
      "userId": "06486059456027652245"
     },
     "user_tz": 300
    },
    "id": "X9xcsw0ZE4ZF",
    "outputId": "0dac79c2-b38c-4fab-be99-1692a38f55f4",
    "tags": []
   },
   "outputs": [],
   "source": [
    "# from google.colab import drive\n",
    "# drive.mount('/content/drive')"
   ]
  },
  {
   "cell_type": "code",
   "execution_count": 7,
   "metadata": {
    "executionInfo": {
     "elapsed": 5089,
     "status": "ok",
     "timestamp": 1702915235158,
     "user": {
      "displayName": "Aravind Bhimanathini",
      "userId": "06486059456027652245"
     },
     "user_tz": 300
    },
    "id": "786UlO4HDIoq",
    "tags": []
   },
   "outputs": [],
   "source": [
    "import pandas as pd\n",
    "import numpy as np\n",
    "import matplotlib.pyplot as plt\n",
    "import seaborn as sns"
   ]
  },
  {
   "cell_type": "code",
   "execution_count": 8,
   "metadata": {
    "executionInfo": {
     "elapsed": 28517,
     "status": "ok",
     "timestamp": 1702915263655,
     "user": {
      "displayName": "Aravind Bhimanathini",
      "userId": "06486059456027652245"
     },
     "user_tz": 300
    },
    "id": "6xJxgz_IEhxP",
    "tags": []
   },
   "outputs": [],
   "source": [
    "# Reading the data from google drive into dataframes\n",
    "# demographics= pd.read_excel(open('/content/drive/MyDrive/Colab Notebooks/Machine Learning/Customer Churn/Telco_customer_churn_demographics.xlsx', 'rb'), sheet_name='Telco_Churn')\n",
    "# location= pd.read_excel(open('/content/drive/MyDrive/Colab Notebooks/Machine Learning/Customer Churn/Telco_customer_churn_location.xlsx', 'rb'), sheet_name='Telco_Churn')\n",
    "# population= pd.read_excel(open('/content/drive/MyDrive/Colab Notebooks/Machine Learning/Customer Churn/Telco_customer_churn_population.xlsx', 'rb'), sheet_name='Population')\n",
    "# services= pd.read_excel(open('/content/drive/MyDrive/Colab Notebooks/Machine Learning/Customer Churn/Telco_customer_churn_services.xlsx', 'rb'), sheet_name='Telco_Churn')\n",
    "# status= pd.read_excel(open('/content/drive/MyDrive/Colab Notebooks/Machine Learning/Customer Churn/Telco_customer_churn_status.xlsx', 'rb'), sheet_name='Telco_Churn')\n",
    "# churn= pd.read_excel(open('/content/drive/MyDrive/Colab Notebooks/Machine Learning/Customer Churn/Telco_customer_churn.xlsx', 'rb'), sheet_name='Telco_Churn')\n",
    "\n",
    "\n",
    "demographics= pd.read_excel(open('E:/STUDY/MS/My files/College/UMBC/Course work/Fall 2023/601 Introduction to Data Science/project/CHURN/final/Telco_customer_churn_demographics.xlsx', 'rb'), sheet_name='Telco_Churn')\n",
    "location= pd.read_excel(open('E:/STUDY/MS/My files/College/UMBC/Course work/Fall 2023/601 Introduction to Data Science/project/CHURN/final/Telco_customer_churn_location.xlsx', 'rb'), sheet_name='Telco_Churn')\n",
    "population= pd.read_excel(open('E:/STUDY/MS/My files/College/UMBC/Course work/Fall 2023/601 Introduction to Data Science/project/CHURN/final/Telco_customer_churn_population.xlsx', 'rb'), sheet_name='Population')\n",
    "services= pd.read_excel(open('E:/STUDY/MS/My files/College/UMBC/Course work/Fall 2023/601 Introduction to Data Science/project/CHURN/final/Telco_customer_churn_services.xlsx', 'rb'), sheet_name='Telco_Churn')\n",
    "status= pd.read_excel(open('E:/STUDY/MS/My files/College/UMBC/Course work/Fall 2023/601 Introduction to Data Science/project/CHURN/final/Telco_customer_churn_status.xlsx', 'rb'), sheet_name='Telco_Churn')\n",
    "churn= pd.read_excel(open('E:/STUDY/MS/My files/College/UMBC/Course work/Fall 2023/601 Introduction to Data Science/project/CHURN/final/Telco_customer_churn.xlsx', 'rb'), sheet_name='Telco_Churn')\n"
   ]
  },
  {
   "cell_type": "markdown",
   "metadata": {
    "id": "LcTyp4FBScWd"
   },
   "source": [
    "# Data Cleaning"
   ]
  },
  {
   "cell_type": "markdown",
   "metadata": {
    "id": "4cB0NjVwYEwy"
   },
   "source": [
    "### Cleaning Demographics table"
   ]
  },
  {
   "cell_type": "code",
   "execution_count": 9,
   "metadata": {
    "colab": {
     "base_uri": "https://localhost:8080/"
    },
    "executionInfo": {
     "elapsed": 69,
     "status": "ok",
     "timestamp": 1702915263657,
     "user": {
      "displayName": "Aravind Bhimanathini",
      "userId": "06486059456027652245"
     },
     "user_tz": 300
    },
    "id": "bMbdyresDXZl",
    "outputId": "139df454-8b2f-4cbc-b957-ceafededd46f",
    "tags": []
   },
   "outputs": [
    {
     "name": "stdout",
     "output_type": "stream",
     "text": [
      "<class 'pandas.core.frame.DataFrame'>\n",
      "RangeIndex: 7043 entries, 0 to 7042\n",
      "Data columns (total 9 columns):\n",
      " #   Column                Non-Null Count  Dtype \n",
      "---  ------                --------------  ----- \n",
      " 0   Customer ID           7043 non-null   object\n",
      " 1   Count                 7043 non-null   int64 \n",
      " 2   Gender                7043 non-null   object\n",
      " 3   Age                   7043 non-null   int64 \n",
      " 4   Under 30              7043 non-null   object\n",
      " 5   Senior Citizen        7043 non-null   object\n",
      " 6   Married               7043 non-null   object\n",
      " 7   Dependents            7043 non-null   object\n",
      " 8   Number of Dependents  7043 non-null   int64 \n",
      "dtypes: int64(3), object(6)\n",
      "memory usage: 495.3+ KB\n"
     ]
    }
   ],
   "source": [
    "demographics.info()"
   ]
  },
  {
   "cell_type": "code",
   "execution_count": 10,
   "metadata": {
    "colab": {
     "base_uri": "https://localhost:8080/"
    },
    "executionInfo": {
     "elapsed": 65,
     "status": "ok",
     "timestamp": 1702915263658,
     "user": {
      "displayName": "Aravind Bhimanathini",
      "userId": "06486059456027652245"
     },
     "user_tz": 300
    },
    "id": "ByQfmuZ-SrBU",
    "outputId": "7ddd119f-e085-4280-e4eb-b11f3a3e364c"
   },
   "outputs": [
    {
     "data": {
      "text/plain": [
       "(7043, 9)"
      ]
     },
     "execution_count": 10,
     "metadata": {},
     "output_type": "execute_result"
    }
   ],
   "source": [
    "demographics.shape"
   ]
  },
  {
   "cell_type": "code",
   "execution_count": 11,
   "metadata": {
    "colab": {
     "base_uri": "https://localhost:8080/"
    },
    "executionInfo": {
     "elapsed": 55,
     "status": "ok",
     "timestamp": 1702915263660,
     "user": {
      "displayName": "Aravind Bhimanathini",
      "userId": "06486059456027652245"
     },
     "user_tz": 300
    },
    "id": "fk2oaMA9SxVQ",
    "outputId": "d66cfd92-91f8-41fd-e7e7-5873b52a72a8"
   },
   "outputs": [
    {
     "data": {
      "text/plain": [
       "Customer ID             object\n",
       "Count                    int64\n",
       "Gender                  object\n",
       "Age                      int64\n",
       "Under 30                object\n",
       "Senior Citizen          object\n",
       "Married                 object\n",
       "Dependents              object\n",
       "Number of Dependents     int64\n",
       "dtype: object"
      ]
     },
     "execution_count": 11,
     "metadata": {},
     "output_type": "execute_result"
    }
   ],
   "source": [
    "demographics.dtypes"
   ]
  },
  {
   "cell_type": "markdown",
   "metadata": {
    "id": "jzKvfTLncqHK"
   },
   "source": [
    "Checking Nulls"
   ]
  },
  {
   "cell_type": "code",
   "execution_count": 12,
   "metadata": {
    "colab": {
     "base_uri": "https://localhost:8080/"
    },
    "executionInfo": {
     "elapsed": 50,
     "status": "ok",
     "timestamp": 1702915263660,
     "user": {
      "displayName": "Aravind Bhimanathini",
      "userId": "06486059456027652245"
     },
     "user_tz": 300
    },
    "id": "3JDPXkUmcXlY",
    "outputId": "e9ed7913-9254-4791-9417-302907d891dc"
   },
   "outputs": [
    {
     "data": {
      "text/plain": [
       "Customer ID             0\n",
       "Count                   0\n",
       "Gender                  0\n",
       "Age                     0\n",
       "Under 30                0\n",
       "Senior Citizen          0\n",
       "Married                 0\n",
       "Dependents              0\n",
       "Number of Dependents    0\n",
       "dtype: int64"
      ]
     },
     "execution_count": 12,
     "metadata": {},
     "output_type": "execute_result"
    }
   ],
   "source": [
    "demographics.apply(lambda x:sum(x.isnull()), axis=0)"
   ]
  },
  {
   "cell_type": "markdown",
   "metadata": {
    "id": "9CIjDzy5cv2o"
   },
   "source": [
    "There are no null records in the data"
   ]
  },
  {
   "cell_type": "markdown",
   "metadata": {
    "id": "_yAoK46GYleQ"
   },
   "source": [
    "### Cleaning location table"
   ]
  },
  {
   "cell_type": "code",
   "execution_count": 13,
   "metadata": {
    "colab": {
     "base_uri": "https://localhost:8080/"
    },
    "executionInfo": {
     "elapsed": 43,
     "status": "ok",
     "timestamp": 1702915263661,
     "user": {
      "displayName": "Aravind Bhimanathini",
      "userId": "06486059456027652245"
     },
     "user_tz": 300
    },
    "id": "xtWL24mdYu2v",
    "outputId": "c8191553-d9a0-4f7d-e5f3-7bb63ce62739"
   },
   "outputs": [
    {
     "name": "stdout",
     "output_type": "stream",
     "text": [
      "<class 'pandas.core.frame.DataFrame'>\n",
      "RangeIndex: 7043 entries, 0 to 7042\n",
      "Data columns (total 9 columns):\n",
      " #   Column       Non-Null Count  Dtype  \n",
      "---  ------       --------------  -----  \n",
      " 0   Customer ID  7043 non-null   object \n",
      " 1   Count        7043 non-null   int64  \n",
      " 2   Country      7043 non-null   object \n",
      " 3   State        7043 non-null   object \n",
      " 4   City         7043 non-null   object \n",
      " 5   Zip Code     7043 non-null   int64  \n",
      " 6   Lat Long     7043 non-null   object \n",
      " 7   Latitude     7043 non-null   float64\n",
      " 8   Longitude    7043 non-null   float64\n",
      "dtypes: float64(2), int64(2), object(5)\n",
      "memory usage: 495.3+ KB\n"
     ]
    }
   ],
   "source": [
    "location.info()"
   ]
  },
  {
   "cell_type": "code",
   "execution_count": 14,
   "metadata": {
    "colab": {
     "base_uri": "https://localhost:8080/"
    },
    "executionInfo": {
     "elapsed": 48,
     "status": "ok",
     "timestamp": 1702915263673,
     "user": {
      "displayName": "Aravind Bhimanathini",
      "userId": "06486059456027652245"
     },
     "user_tz": 300
    },
    "id": "c2u83H8RYxbP",
    "outputId": "22a7af5e-bd01-4b8b-d9a6-f72b33a211f2"
   },
   "outputs": [
    {
     "data": {
      "text/plain": [
       "(7043, 9)"
      ]
     },
     "execution_count": 14,
     "metadata": {},
     "output_type": "execute_result"
    }
   ],
   "source": [
    "location.shape"
   ]
  },
  {
   "cell_type": "code",
   "execution_count": 15,
   "metadata": {
    "colab": {
     "base_uri": "https://localhost:8080/"
    },
    "executionInfo": {
     "elapsed": 227,
     "status": "ok",
     "timestamp": 1702915263856,
     "user": {
      "displayName": "Aravind Bhimanathini",
      "userId": "06486059456027652245"
     },
     "user_tz": 300
    },
    "id": "CoFNOs4CZAxQ",
    "outputId": "bc0ccc78-d6b6-41dd-9df1-fbb185ba3f4e"
   },
   "outputs": [
    {
     "data": {
      "text/plain": [
       "Customer ID    0\n",
       "Count          0\n",
       "Country        0\n",
       "State          0\n",
       "City           0\n",
       "Zip Code       0\n",
       "Lat Long       0\n",
       "Latitude       0\n",
       "Longitude      0\n",
       "dtype: int64"
      ]
     },
     "execution_count": 15,
     "metadata": {},
     "output_type": "execute_result"
    }
   ],
   "source": [
    "location.apply(lambda x:sum(x.isnull()), axis = 0)"
   ]
  },
  {
   "cell_type": "markdown",
   "metadata": {
    "id": "NeIVlvbJZn9h"
   },
   "source": [
    "### Cleaning population table"
   ]
  },
  {
   "cell_type": "code",
   "execution_count": 16,
   "metadata": {
    "colab": {
     "base_uri": "https://localhost:8080/"
    },
    "executionInfo": {
     "elapsed": 221,
     "status": "ok",
     "timestamp": 1702915263860,
     "user": {
      "displayName": "Aravind Bhimanathini",
      "userId": "06486059456027652245"
     },
     "user_tz": 300
    },
    "id": "Ff2hR-C2Zimo",
    "outputId": "f59cbf12-c7f3-4fc2-d8fe-74e6b45de549"
   },
   "outputs": [
    {
     "name": "stdout",
     "output_type": "stream",
     "text": [
      "<class 'pandas.core.frame.DataFrame'>\n",
      "RangeIndex: 1671 entries, 0 to 1670\n",
      "Data columns (total 3 columns):\n",
      " #   Column      Non-Null Count  Dtype\n",
      "---  ------      --------------  -----\n",
      " 0   ID          1671 non-null   int64\n",
      " 1   Zip Code    1671 non-null   int64\n",
      " 2   Population  1671 non-null   int64\n",
      "dtypes: int64(3)\n",
      "memory usage: 39.3 KB\n"
     ]
    }
   ],
   "source": [
    "population.info()"
   ]
  },
  {
   "cell_type": "code",
   "execution_count": 17,
   "metadata": {
    "colab": {
     "base_uri": "https://localhost:8080/"
    },
    "executionInfo": {
     "elapsed": 48,
     "status": "ok",
     "timestamp": 1702915263861,
     "user": {
      "displayName": "Aravind Bhimanathini",
      "userId": "06486059456027652245"
     },
     "user_tz": 300
    },
    "id": "acdcJJQ1Z30z",
    "outputId": "0329cdf9-8c2a-4060-a411-49963a4efac2"
   },
   "outputs": [
    {
     "data": {
      "text/plain": [
       "ID            0\n",
       "Zip Code      0\n",
       "Population    0\n",
       "dtype: int64"
      ]
     },
     "execution_count": 17,
     "metadata": {},
     "output_type": "execute_result"
    }
   ],
   "source": [
    "population.apply(lambda x:sum(x.isnull()), axis = 0)"
   ]
  },
  {
   "cell_type": "markdown",
   "metadata": {
    "id": "ohYupuZ1aDyF"
   },
   "source": [
    "### Cleaning services table"
   ]
  },
  {
   "cell_type": "code",
   "execution_count": 18,
   "metadata": {
    "colab": {
     "base_uri": "https://localhost:8080/"
    },
    "executionInfo": {
     "elapsed": 48,
     "status": "ok",
     "timestamp": 1702915263862,
     "user": {
      "displayName": "Aravind Bhimanathini",
      "userId": "06486059456027652245"
     },
     "user_tz": 300
    },
    "id": "YWKQnQ13Z8h2",
    "outputId": "b0617f49-3897-4562-9da7-e0b3d168fa39"
   },
   "outputs": [
    {
     "name": "stdout",
     "output_type": "stream",
     "text": [
      "<class 'pandas.core.frame.DataFrame'>\n",
      "RangeIndex: 7043 entries, 0 to 7042\n",
      "Data columns (total 30 columns):\n",
      " #   Column                             Non-Null Count  Dtype  \n",
      "---  ------                             --------------  -----  \n",
      " 0   Customer ID                        7043 non-null   object \n",
      " 1   Count                              7043 non-null   int64  \n",
      " 2   Quarter                            7043 non-null   object \n",
      " 3   Referred a Friend                  7043 non-null   object \n",
      " 4   Number of Referrals                7043 non-null   int64  \n",
      " 5   Tenure in Months                   7043 non-null   int64  \n",
      " 6   Offer                              7043 non-null   object \n",
      " 7   Phone Service                      7043 non-null   object \n",
      " 8   Avg Monthly Long Distance Charges  7043 non-null   float64\n",
      " 9   Multiple Lines                     7043 non-null   object \n",
      " 10  Internet Service                   7043 non-null   object \n",
      " 11  Internet Type                      7043 non-null   object \n",
      " 12  Avg Monthly GB Download            7043 non-null   int64  \n",
      " 13  Online Security                    7043 non-null   object \n",
      " 14  Online Backup                      7043 non-null   object \n",
      " 15  Device Protection Plan             7043 non-null   object \n",
      " 16  Premium Tech Support               7043 non-null   object \n",
      " 17  Streaming TV                       7043 non-null   object \n",
      " 18  Streaming Movies                   7043 non-null   object \n",
      " 19  Streaming Music                    7043 non-null   object \n",
      " 20  Unlimited Data                     7043 non-null   object \n",
      " 21  Contract                           7043 non-null   object \n",
      " 22  Paperless Billing                  7043 non-null   object \n",
      " 23  Payment Method                     7043 non-null   object \n",
      " 24  Monthly Charge                     7043 non-null   float64\n",
      " 25  Total Charges                      7043 non-null   float64\n",
      " 26  Total Refunds                      7043 non-null   float64\n",
      " 27  Total Extra Data Charges           7043 non-null   int64  \n",
      " 28  Total Long Distance Charges        7043 non-null   float64\n",
      " 29  Total Revenue                      7043 non-null   float64\n",
      "dtypes: float64(6), int64(5), object(19)\n",
      "memory usage: 1.6+ MB\n"
     ]
    }
   ],
   "source": [
    "services.info()"
   ]
  },
  {
   "cell_type": "code",
   "execution_count": 19,
   "metadata": {
    "colab": {
     "base_uri": "https://localhost:8080/"
    },
    "executionInfo": {
     "elapsed": 45,
     "status": "ok",
     "timestamp": 1702915263863,
     "user": {
      "displayName": "Aravind Bhimanathini",
      "userId": "06486059456027652245"
     },
     "user_tz": 300
    },
    "id": "xhFZrRrnaKw5",
    "outputId": "870684e7-6c96-4f27-d82c-8c6994b652cf"
   },
   "outputs": [
    {
     "data": {
      "text/plain": [
       "Customer ID                          0\n",
       "Count                                0\n",
       "Quarter                              0\n",
       "Referred a Friend                    0\n",
       "Number of Referrals                  0\n",
       "Tenure in Months                     0\n",
       "Offer                                0\n",
       "Phone Service                        0\n",
       "Avg Monthly Long Distance Charges    0\n",
       "Multiple Lines                       0\n",
       "Internet Service                     0\n",
       "Internet Type                        0\n",
       "Avg Monthly GB Download              0\n",
       "Online Security                      0\n",
       "Online Backup                        0\n",
       "Device Protection Plan               0\n",
       "Premium Tech Support                 0\n",
       "Streaming TV                         0\n",
       "Streaming Movies                     0\n",
       "Streaming Music                      0\n",
       "Unlimited Data                       0\n",
       "Contract                             0\n",
       "Paperless Billing                    0\n",
       "Payment Method                       0\n",
       "Monthly Charge                       0\n",
       "Total Charges                        0\n",
       "Total Refunds                        0\n",
       "Total Extra Data Charges             0\n",
       "Total Long Distance Charges          0\n",
       "Total Revenue                        0\n",
       "dtype: int64"
      ]
     },
     "execution_count": 19,
     "metadata": {},
     "output_type": "execute_result"
    }
   ],
   "source": [
    "services.apply(lambda x:sum(x.isnull()), axis = 0)"
   ]
  },
  {
   "cell_type": "markdown",
   "metadata": {
    "id": "ArhRL8-DaUSt"
   },
   "source": [
    "### Cleaning Status"
   ]
  },
  {
   "cell_type": "code",
   "execution_count": 20,
   "metadata": {
    "colab": {
     "base_uri": "https://localhost:8080/"
    },
    "executionInfo": {
     "elapsed": 39,
     "status": "ok",
     "timestamp": 1702915263863,
     "user": {
      "displayName": "Aravind Bhimanathini",
      "userId": "06486059456027652245"
     },
     "user_tz": 300
    },
    "id": "bDzt96UiaYYd",
    "outputId": "0f3b037d-82d5-4036-cedb-25c2698c0f5d"
   },
   "outputs": [
    {
     "name": "stdout",
     "output_type": "stream",
     "text": [
      "<class 'pandas.core.frame.DataFrame'>\n",
      "RangeIndex: 7043 entries, 0 to 7042\n",
      "Data columns (total 11 columns):\n",
      " #   Column              Non-Null Count  Dtype \n",
      "---  ------              --------------  ----- \n",
      " 0   Customer ID         7043 non-null   object\n",
      " 1   Count               7043 non-null   int64 \n",
      " 2   Quarter             7043 non-null   object\n",
      " 3   Satisfaction Score  7043 non-null   int64 \n",
      " 4   Customer Status     7043 non-null   object\n",
      " 5   Churn Label         7043 non-null   object\n",
      " 6   Churn Value         7043 non-null   int64 \n",
      " 7   Churn Score         7043 non-null   int64 \n",
      " 8   CLTV                7043 non-null   int64 \n",
      " 9   Churn Category      1869 non-null   object\n",
      " 10  Churn Reason        1869 non-null   object\n",
      "dtypes: int64(5), object(6)\n",
      "memory usage: 605.4+ KB\n"
     ]
    }
   ],
   "source": [
    "status.info()"
   ]
  },
  {
   "cell_type": "code",
   "execution_count": 21,
   "metadata": {
    "colab": {
     "base_uri": "https://localhost:8080/"
    },
    "executionInfo": {
     "elapsed": 36,
     "status": "ok",
     "timestamp": 1702915263865,
     "user": {
      "displayName": "Aravind Bhimanathini",
      "userId": "06486059456027652245"
     },
     "user_tz": 300
    },
    "id": "VB9T-sNEabgi",
    "outputId": "c383fb2a-7b35-41ce-dfe0-7100650fedac"
   },
   "outputs": [
    {
     "data": {
      "text/plain": [
       "Customer ID              0\n",
       "Count                    0\n",
       "Quarter                  0\n",
       "Satisfaction Score       0\n",
       "Customer Status          0\n",
       "Churn Label              0\n",
       "Churn Value              0\n",
       "Churn Score              0\n",
       "CLTV                     0\n",
       "Churn Category        5174\n",
       "Churn Reason          5174\n",
       "dtype: int64"
      ]
     },
     "execution_count": 21,
     "metadata": {},
     "output_type": "execute_result"
    }
   ],
   "source": [
    "status.apply(lambda x:sum(x.isnull()), axis = 0)"
   ]
  },
  {
   "cell_type": "code",
   "execution_count": 22,
   "metadata": {
    "colab": {
     "base_uri": "https://localhost:8080/",
     "height": 311
    },
    "executionInfo": {
     "elapsed": 34,
     "status": "ok",
     "timestamp": 1702915263866,
     "user": {
      "displayName": "Aravind Bhimanathini",
      "userId": "06486059456027652245"
     },
     "user_tz": 300
    },
    "id": "8GaDXhOtak4m",
    "outputId": "ec67ca84-3f82-49ce-ad4d-9ee9bbff7ee2"
   },
   "outputs": [
    {
     "data": {
      "text/html": [
       "<div>\n",
       "<style scoped>\n",
       "    .dataframe tbody tr th:only-of-type {\n",
       "        vertical-align: middle;\n",
       "    }\n",
       "\n",
       "    .dataframe tbody tr th {\n",
       "        vertical-align: top;\n",
       "    }\n",
       "\n",
       "    .dataframe thead th {\n",
       "        text-align: right;\n",
       "    }\n",
       "</style>\n",
       "<table border=\"1\" class=\"dataframe\">\n",
       "  <thead>\n",
       "    <tr style=\"text-align: right;\">\n",
       "      <th></th>\n",
       "      <th>Customer ID</th>\n",
       "      <th>Count</th>\n",
       "      <th>Quarter</th>\n",
       "      <th>Satisfaction Score</th>\n",
       "      <th>Customer Status</th>\n",
       "      <th>Churn Label</th>\n",
       "      <th>Churn Value</th>\n",
       "      <th>Churn Score</th>\n",
       "      <th>CLTV</th>\n",
       "      <th>Churn Category</th>\n",
       "      <th>Churn Reason</th>\n",
       "    </tr>\n",
       "  </thead>\n",
       "  <tbody>\n",
       "    <tr>\n",
       "      <th>0</th>\n",
       "      <td>8779-QRDMV</td>\n",
       "      <td>1</td>\n",
       "      <td>Q3</td>\n",
       "      <td>3</td>\n",
       "      <td>Churned</td>\n",
       "      <td>Yes</td>\n",
       "      <td>1</td>\n",
       "      <td>91</td>\n",
       "      <td>5433</td>\n",
       "      <td>Competitor</td>\n",
       "      <td>Competitor offered more data</td>\n",
       "    </tr>\n",
       "    <tr>\n",
       "      <th>1</th>\n",
       "      <td>7495-OOKFY</td>\n",
       "      <td>1</td>\n",
       "      <td>Q3</td>\n",
       "      <td>3</td>\n",
       "      <td>Churned</td>\n",
       "      <td>Yes</td>\n",
       "      <td>1</td>\n",
       "      <td>69</td>\n",
       "      <td>5302</td>\n",
       "      <td>Competitor</td>\n",
       "      <td>Competitor made better offer</td>\n",
       "    </tr>\n",
       "    <tr>\n",
       "      <th>2</th>\n",
       "      <td>1658-BYGOY</td>\n",
       "      <td>1</td>\n",
       "      <td>Q3</td>\n",
       "      <td>2</td>\n",
       "      <td>Churned</td>\n",
       "      <td>Yes</td>\n",
       "      <td>1</td>\n",
       "      <td>81</td>\n",
       "      <td>3179</td>\n",
       "      <td>Competitor</td>\n",
       "      <td>Competitor made better offer</td>\n",
       "    </tr>\n",
       "    <tr>\n",
       "      <th>3</th>\n",
       "      <td>4598-XLKNJ</td>\n",
       "      <td>1</td>\n",
       "      <td>Q3</td>\n",
       "      <td>2</td>\n",
       "      <td>Churned</td>\n",
       "      <td>Yes</td>\n",
       "      <td>1</td>\n",
       "      <td>88</td>\n",
       "      <td>5337</td>\n",
       "      <td>Dissatisfaction</td>\n",
       "      <td>Limited range of services</td>\n",
       "    </tr>\n",
       "    <tr>\n",
       "      <th>4</th>\n",
       "      <td>4846-WHAFZ</td>\n",
       "      <td>1</td>\n",
       "      <td>Q3</td>\n",
       "      <td>2</td>\n",
       "      <td>Churned</td>\n",
       "      <td>Yes</td>\n",
       "      <td>1</td>\n",
       "      <td>67</td>\n",
       "      <td>2793</td>\n",
       "      <td>Price</td>\n",
       "      <td>Extra data charges</td>\n",
       "    </tr>\n",
       "  </tbody>\n",
       "</table>\n",
       "</div>"
      ],
      "text/plain": [
       "  Customer ID  Count Quarter  Satisfaction Score Customer Status Churn Label  \\\n",
       "0  8779-QRDMV      1      Q3                   3         Churned         Yes   \n",
       "1  7495-OOKFY      1      Q3                   3         Churned         Yes   \n",
       "2  1658-BYGOY      1      Q3                   2         Churned         Yes   \n",
       "3  4598-XLKNJ      1      Q3                   2         Churned         Yes   \n",
       "4  4846-WHAFZ      1      Q3                   2         Churned         Yes   \n",
       "\n",
       "   Churn Value  Churn Score  CLTV   Churn Category  \\\n",
       "0            1           91  5433       Competitor   \n",
       "1            1           69  5302       Competitor   \n",
       "2            1           81  3179       Competitor   \n",
       "3            1           88  5337  Dissatisfaction   \n",
       "4            1           67  2793            Price   \n",
       "\n",
       "                   Churn Reason  \n",
       "0  Competitor offered more data  \n",
       "1  Competitor made better offer  \n",
       "2  Competitor made better offer  \n",
       "3     Limited range of services  \n",
       "4            Extra data charges  "
      ]
     },
     "execution_count": 22,
     "metadata": {},
     "output_type": "execute_result"
    }
   ],
   "source": [
    "status.head()"
   ]
  },
  {
   "cell_type": "code",
   "execution_count": 23,
   "metadata": {
    "colab": {
     "base_uri": "https://localhost:8080/",
     "height": 112
    },
    "executionInfo": {
     "elapsed": 201,
     "status": "ok",
     "timestamp": 1702915264038,
     "user": {
      "displayName": "Aravind Bhimanathini",
      "userId": "06486059456027652245"
     },
     "user_tz": 300
    },
    "id": "wNLYEuKMasze",
    "outputId": "7a2e51f9-afe8-4ae1-bef4-7a1326329c30"
   },
   "outputs": [
    {
     "data": {
      "text/html": [
       "<div>\n",
       "<style scoped>\n",
       "    .dataframe tbody tr th:only-of-type {\n",
       "        vertical-align: middle;\n",
       "    }\n",
       "\n",
       "    .dataframe tbody tr th {\n",
       "        vertical-align: top;\n",
       "    }\n",
       "\n",
       "    .dataframe thead th {\n",
       "        text-align: right;\n",
       "    }\n",
       "</style>\n",
       "<table border=\"1\" class=\"dataframe\">\n",
       "  <thead>\n",
       "    <tr style=\"text-align: right;\">\n",
       "      <th></th>\n",
       "      <th>Customer Status</th>\n",
       "      <th>Churn Label</th>\n",
       "    </tr>\n",
       "  </thead>\n",
       "  <tbody>\n",
       "    <tr>\n",
       "      <th>476</th>\n",
       "      <td>Stayed</td>\n",
       "      <td>No</td>\n",
       "    </tr>\n",
       "    <tr>\n",
       "      <th>477</th>\n",
       "      <td>Joined</td>\n",
       "      <td>No</td>\n",
       "    </tr>\n",
       "  </tbody>\n",
       "</table>\n",
       "</div>"
      ],
      "text/plain": [
       "    Customer Status Churn Label\n",
       "476          Stayed          No\n",
       "477          Joined          No"
      ]
     },
     "execution_count": 23,
     "metadata": {},
     "output_type": "execute_result"
    }
   ],
   "source": [
    "status[status['Churn Category'].isnull()][['Customer Status','Churn Label']].drop_duplicates()"
   ]
  },
  {
   "cell_type": "markdown",
   "metadata": {
    "id": "feAhM7f0o5L-"
   },
   "source": [
    "The churn category and churn reason have null records for those customers who have not churned. So, it is ok to remain them as null as we will drop those columns"
   ]
  },
  {
   "cell_type": "code",
   "execution_count": 24,
   "metadata": {
    "executionInfo": {
     "elapsed": 46,
     "status": "ok",
     "timestamp": 1702915264039,
     "user": {
      "displayName": "Aravind Bhimanathini",
      "userId": "06486059456027652245"
     },
     "user_tz": 300
    },
    "id": "a2spclBDbLjk"
   },
   "outputs": [],
   "source": [
    "status.drop(columns=['Churn Category', 'Churn Reason'], inplace = True)"
   ]
  },
  {
   "cell_type": "code",
   "execution_count": 25,
   "metadata": {
    "colab": {
     "base_uri": "https://localhost:8080/",
     "height": 424
    },
    "executionInfo": {
     "elapsed": 45,
     "status": "ok",
     "timestamp": 1702915264039,
     "user": {
      "displayName": "Aravind Bhimanathini",
      "userId": "06486059456027652245"
     },
     "user_tz": 300
    },
    "id": "r9kU354NsXom",
    "outputId": "74afff7c-50f7-4624-d6ac-f0f0bf9a76b4"
   },
   "outputs": [
    {
     "data": {
      "text/html": [
       "<div>\n",
       "<style scoped>\n",
       "    .dataframe tbody tr th:only-of-type {\n",
       "        vertical-align: middle;\n",
       "    }\n",
       "\n",
       "    .dataframe tbody tr th {\n",
       "        vertical-align: top;\n",
       "    }\n",
       "\n",
       "    .dataframe thead th {\n",
       "        text-align: right;\n",
       "    }\n",
       "</style>\n",
       "<table border=\"1\" class=\"dataframe\">\n",
       "  <thead>\n",
       "    <tr style=\"text-align: right;\">\n",
       "      <th></th>\n",
       "      <th>Customer ID</th>\n",
       "      <th>Count</th>\n",
       "      <th>Quarter</th>\n",
       "      <th>Satisfaction Score</th>\n",
       "      <th>Customer Status</th>\n",
       "      <th>Churn Label</th>\n",
       "      <th>Churn Value</th>\n",
       "      <th>Churn Score</th>\n",
       "      <th>CLTV</th>\n",
       "    </tr>\n",
       "  </thead>\n",
       "  <tbody>\n",
       "    <tr>\n",
       "      <th>0</th>\n",
       "      <td>8779-QRDMV</td>\n",
       "      <td>1</td>\n",
       "      <td>Q3</td>\n",
       "      <td>3</td>\n",
       "      <td>Churned</td>\n",
       "      <td>Yes</td>\n",
       "      <td>1</td>\n",
       "      <td>91</td>\n",
       "      <td>5433</td>\n",
       "    </tr>\n",
       "    <tr>\n",
       "      <th>1</th>\n",
       "      <td>7495-OOKFY</td>\n",
       "      <td>1</td>\n",
       "      <td>Q3</td>\n",
       "      <td>3</td>\n",
       "      <td>Churned</td>\n",
       "      <td>Yes</td>\n",
       "      <td>1</td>\n",
       "      <td>69</td>\n",
       "      <td>5302</td>\n",
       "    </tr>\n",
       "    <tr>\n",
       "      <th>2</th>\n",
       "      <td>1658-BYGOY</td>\n",
       "      <td>1</td>\n",
       "      <td>Q3</td>\n",
       "      <td>2</td>\n",
       "      <td>Churned</td>\n",
       "      <td>Yes</td>\n",
       "      <td>1</td>\n",
       "      <td>81</td>\n",
       "      <td>3179</td>\n",
       "    </tr>\n",
       "    <tr>\n",
       "      <th>3</th>\n",
       "      <td>4598-XLKNJ</td>\n",
       "      <td>1</td>\n",
       "      <td>Q3</td>\n",
       "      <td>2</td>\n",
       "      <td>Churned</td>\n",
       "      <td>Yes</td>\n",
       "      <td>1</td>\n",
       "      <td>88</td>\n",
       "      <td>5337</td>\n",
       "    </tr>\n",
       "    <tr>\n",
       "      <th>4</th>\n",
       "      <td>4846-WHAFZ</td>\n",
       "      <td>1</td>\n",
       "      <td>Q3</td>\n",
       "      <td>2</td>\n",
       "      <td>Churned</td>\n",
       "      <td>Yes</td>\n",
       "      <td>1</td>\n",
       "      <td>67</td>\n",
       "      <td>2793</td>\n",
       "    </tr>\n",
       "    <tr>\n",
       "      <th>...</th>\n",
       "      <td>...</td>\n",
       "      <td>...</td>\n",
       "      <td>...</td>\n",
       "      <td>...</td>\n",
       "      <td>...</td>\n",
       "      <td>...</td>\n",
       "      <td>...</td>\n",
       "      <td>...</td>\n",
       "      <td>...</td>\n",
       "    </tr>\n",
       "    <tr>\n",
       "      <th>7038</th>\n",
       "      <td>2569-WGERO</td>\n",
       "      <td>1</td>\n",
       "      <td>Q3</td>\n",
       "      <td>5</td>\n",
       "      <td>Stayed</td>\n",
       "      <td>No</td>\n",
       "      <td>0</td>\n",
       "      <td>45</td>\n",
       "      <td>5306</td>\n",
       "    </tr>\n",
       "    <tr>\n",
       "      <th>7039</th>\n",
       "      <td>6840-RESVB</td>\n",
       "      <td>1</td>\n",
       "      <td>Q3</td>\n",
       "      <td>3</td>\n",
       "      <td>Stayed</td>\n",
       "      <td>No</td>\n",
       "      <td>0</td>\n",
       "      <td>59</td>\n",
       "      <td>2140</td>\n",
       "    </tr>\n",
       "    <tr>\n",
       "      <th>7040</th>\n",
       "      <td>2234-XADUH</td>\n",
       "      <td>1</td>\n",
       "      <td>Q3</td>\n",
       "      <td>4</td>\n",
       "      <td>Stayed</td>\n",
       "      <td>No</td>\n",
       "      <td>0</td>\n",
       "      <td>71</td>\n",
       "      <td>5560</td>\n",
       "    </tr>\n",
       "    <tr>\n",
       "      <th>7041</th>\n",
       "      <td>4801-JZAZL</td>\n",
       "      <td>1</td>\n",
       "      <td>Q3</td>\n",
       "      <td>4</td>\n",
       "      <td>Stayed</td>\n",
       "      <td>No</td>\n",
       "      <td>0</td>\n",
       "      <td>59</td>\n",
       "      <td>2793</td>\n",
       "    </tr>\n",
       "    <tr>\n",
       "      <th>7042</th>\n",
       "      <td>3186-AJIEK</td>\n",
       "      <td>1</td>\n",
       "      <td>Q3</td>\n",
       "      <td>4</td>\n",
       "      <td>Stayed</td>\n",
       "      <td>No</td>\n",
       "      <td>0</td>\n",
       "      <td>38</td>\n",
       "      <td>5097</td>\n",
       "    </tr>\n",
       "  </tbody>\n",
       "</table>\n",
       "<p>7043 rows × 9 columns</p>\n",
       "</div>"
      ],
      "text/plain": [
       "     Customer ID  Count Quarter  Satisfaction Score Customer Status  \\\n",
       "0     8779-QRDMV      1      Q3                   3         Churned   \n",
       "1     7495-OOKFY      1      Q3                   3         Churned   \n",
       "2     1658-BYGOY      1      Q3                   2         Churned   \n",
       "3     4598-XLKNJ      1      Q3                   2         Churned   \n",
       "4     4846-WHAFZ      1      Q3                   2         Churned   \n",
       "...          ...    ...     ...                 ...             ...   \n",
       "7038  2569-WGERO      1      Q3                   5          Stayed   \n",
       "7039  6840-RESVB      1      Q3                   3          Stayed   \n",
       "7040  2234-XADUH      1      Q3                   4          Stayed   \n",
       "7041  4801-JZAZL      1      Q3                   4          Stayed   \n",
       "7042  3186-AJIEK      1      Q3                   4          Stayed   \n",
       "\n",
       "     Churn Label  Churn Value  Churn Score  CLTV  \n",
       "0            Yes            1           91  5433  \n",
       "1            Yes            1           69  5302  \n",
       "2            Yes            1           81  3179  \n",
       "3            Yes            1           88  5337  \n",
       "4            Yes            1           67  2793  \n",
       "...          ...          ...          ...   ...  \n",
       "7038          No            0           45  5306  \n",
       "7039          No            0           59  2140  \n",
       "7040          No            0           71  5560  \n",
       "7041          No            0           59  2793  \n",
       "7042          No            0           38  5097  \n",
       "\n",
       "[7043 rows x 9 columns]"
      ]
     },
     "execution_count": 25,
     "metadata": {},
     "output_type": "execute_result"
    }
   ],
   "source": [
    "status"
   ]
  },
  {
   "cell_type": "markdown",
   "metadata": {
    "id": "f6b8SkostZ4X"
   },
   "source": [
    "### Cleaning Churn Table"
   ]
  },
  {
   "cell_type": "code",
   "execution_count": 26,
   "metadata": {
    "colab": {
     "base_uri": "https://localhost:8080/"
    },
    "executionInfo": {
     "elapsed": 37,
     "status": "ok",
     "timestamp": 1702915264040,
     "user": {
      "displayName": "Aravind Bhimanathini",
      "userId": "06486059456027652245"
     },
     "user_tz": 300
    },
    "id": "5McDjCRRwBrg",
    "outputId": "0a71e94a-1d43-4f95-b93e-966b160fe18b"
   },
   "outputs": [
    {
     "data": {
      "text/plain": [
       "(7043, 33)"
      ]
     },
     "execution_count": 26,
     "metadata": {},
     "output_type": "execute_result"
    }
   ],
   "source": [
    "churn.shape"
   ]
  },
  {
   "cell_type": "code",
   "execution_count": 27,
   "metadata": {
    "colab": {
     "base_uri": "https://localhost:8080/",
     "height": 395
    },
    "executionInfo": {
     "elapsed": 33,
     "status": "ok",
     "timestamp": 1702915264041,
     "user": {
      "displayName": "Aravind Bhimanathini",
      "userId": "06486059456027652245"
     },
     "user_tz": 300
    },
    "id": "RvZcA2-1tNgG",
    "outputId": "7047daf9-4e95-4d82-83cb-a095f238895b"
   },
   "outputs": [
    {
     "data": {
      "text/html": [
       "<div>\n",
       "<style scoped>\n",
       "    .dataframe tbody tr th:only-of-type {\n",
       "        vertical-align: middle;\n",
       "    }\n",
       "\n",
       "    .dataframe tbody tr th {\n",
       "        vertical-align: top;\n",
       "    }\n",
       "\n",
       "    .dataframe thead th {\n",
       "        text-align: right;\n",
       "    }\n",
       "</style>\n",
       "<table border=\"1\" class=\"dataframe\">\n",
       "  <thead>\n",
       "    <tr style=\"text-align: right;\">\n",
       "      <th></th>\n",
       "      <th>CustomerID</th>\n",
       "      <th>Count</th>\n",
       "      <th>Country</th>\n",
       "      <th>State</th>\n",
       "      <th>City</th>\n",
       "      <th>Zip Code</th>\n",
       "      <th>Lat Long</th>\n",
       "      <th>Latitude</th>\n",
       "      <th>Longitude</th>\n",
       "      <th>Gender</th>\n",
       "      <th>...</th>\n",
       "      <th>Contract</th>\n",
       "      <th>Paperless Billing</th>\n",
       "      <th>Payment Method</th>\n",
       "      <th>Monthly Charges</th>\n",
       "      <th>Total Charges</th>\n",
       "      <th>Churn Label</th>\n",
       "      <th>Churn Value</th>\n",
       "      <th>Churn Score</th>\n",
       "      <th>CLTV</th>\n",
       "      <th>Churn Reason</th>\n",
       "    </tr>\n",
       "  </thead>\n",
       "  <tbody>\n",
       "    <tr>\n",
       "      <th>0</th>\n",
       "      <td>3668-QPYBK</td>\n",
       "      <td>1</td>\n",
       "      <td>United States</td>\n",
       "      <td>California</td>\n",
       "      <td>Los Angeles</td>\n",
       "      <td>90003</td>\n",
       "      <td>33.964131, -118.272783</td>\n",
       "      <td>33.964131</td>\n",
       "      <td>-118.272783</td>\n",
       "      <td>Male</td>\n",
       "      <td>...</td>\n",
       "      <td>Month-to-month</td>\n",
       "      <td>Yes</td>\n",
       "      <td>Mailed check</td>\n",
       "      <td>53.85</td>\n",
       "      <td>108.15</td>\n",
       "      <td>Yes</td>\n",
       "      <td>1</td>\n",
       "      <td>86</td>\n",
       "      <td>3239</td>\n",
       "      <td>Competitor made better offer</td>\n",
       "    </tr>\n",
       "    <tr>\n",
       "      <th>1</th>\n",
       "      <td>9237-HQITU</td>\n",
       "      <td>1</td>\n",
       "      <td>United States</td>\n",
       "      <td>California</td>\n",
       "      <td>Los Angeles</td>\n",
       "      <td>90005</td>\n",
       "      <td>34.059281, -118.30742</td>\n",
       "      <td>34.059281</td>\n",
       "      <td>-118.307420</td>\n",
       "      <td>Female</td>\n",
       "      <td>...</td>\n",
       "      <td>Month-to-month</td>\n",
       "      <td>Yes</td>\n",
       "      <td>Electronic check</td>\n",
       "      <td>70.70</td>\n",
       "      <td>151.65</td>\n",
       "      <td>Yes</td>\n",
       "      <td>1</td>\n",
       "      <td>67</td>\n",
       "      <td>2701</td>\n",
       "      <td>Moved</td>\n",
       "    </tr>\n",
       "    <tr>\n",
       "      <th>2</th>\n",
       "      <td>9305-CDSKC</td>\n",
       "      <td>1</td>\n",
       "      <td>United States</td>\n",
       "      <td>California</td>\n",
       "      <td>Los Angeles</td>\n",
       "      <td>90006</td>\n",
       "      <td>34.048013, -118.293953</td>\n",
       "      <td>34.048013</td>\n",
       "      <td>-118.293953</td>\n",
       "      <td>Female</td>\n",
       "      <td>...</td>\n",
       "      <td>Month-to-month</td>\n",
       "      <td>Yes</td>\n",
       "      <td>Electronic check</td>\n",
       "      <td>99.65</td>\n",
       "      <td>820.5</td>\n",
       "      <td>Yes</td>\n",
       "      <td>1</td>\n",
       "      <td>86</td>\n",
       "      <td>5372</td>\n",
       "      <td>Moved</td>\n",
       "    </tr>\n",
       "    <tr>\n",
       "      <th>3</th>\n",
       "      <td>7892-POOKP</td>\n",
       "      <td>1</td>\n",
       "      <td>United States</td>\n",
       "      <td>California</td>\n",
       "      <td>Los Angeles</td>\n",
       "      <td>90010</td>\n",
       "      <td>34.062125, -118.315709</td>\n",
       "      <td>34.062125</td>\n",
       "      <td>-118.315709</td>\n",
       "      <td>Female</td>\n",
       "      <td>...</td>\n",
       "      <td>Month-to-month</td>\n",
       "      <td>Yes</td>\n",
       "      <td>Electronic check</td>\n",
       "      <td>104.80</td>\n",
       "      <td>3046.05</td>\n",
       "      <td>Yes</td>\n",
       "      <td>1</td>\n",
       "      <td>84</td>\n",
       "      <td>5003</td>\n",
       "      <td>Moved</td>\n",
       "    </tr>\n",
       "    <tr>\n",
       "      <th>4</th>\n",
       "      <td>0280-XJGEX</td>\n",
       "      <td>1</td>\n",
       "      <td>United States</td>\n",
       "      <td>California</td>\n",
       "      <td>Los Angeles</td>\n",
       "      <td>90015</td>\n",
       "      <td>34.039224, -118.266293</td>\n",
       "      <td>34.039224</td>\n",
       "      <td>-118.266293</td>\n",
       "      <td>Male</td>\n",
       "      <td>...</td>\n",
       "      <td>Month-to-month</td>\n",
       "      <td>Yes</td>\n",
       "      <td>Bank transfer (automatic)</td>\n",
       "      <td>103.70</td>\n",
       "      <td>5036.3</td>\n",
       "      <td>Yes</td>\n",
       "      <td>1</td>\n",
       "      <td>89</td>\n",
       "      <td>5340</td>\n",
       "      <td>Competitor had better devices</td>\n",
       "    </tr>\n",
       "  </tbody>\n",
       "</table>\n",
       "<p>5 rows × 33 columns</p>\n",
       "</div>"
      ],
      "text/plain": [
       "   CustomerID  Count        Country       State         City  Zip Code  \\\n",
       "0  3668-QPYBK      1  United States  California  Los Angeles     90003   \n",
       "1  9237-HQITU      1  United States  California  Los Angeles     90005   \n",
       "2  9305-CDSKC      1  United States  California  Los Angeles     90006   \n",
       "3  7892-POOKP      1  United States  California  Los Angeles     90010   \n",
       "4  0280-XJGEX      1  United States  California  Los Angeles     90015   \n",
       "\n",
       "                 Lat Long   Latitude   Longitude  Gender  ...        Contract  \\\n",
       "0  33.964131, -118.272783  33.964131 -118.272783    Male  ...  Month-to-month   \n",
       "1   34.059281, -118.30742  34.059281 -118.307420  Female  ...  Month-to-month   \n",
       "2  34.048013, -118.293953  34.048013 -118.293953  Female  ...  Month-to-month   \n",
       "3  34.062125, -118.315709  34.062125 -118.315709  Female  ...  Month-to-month   \n",
       "4  34.039224, -118.266293  34.039224 -118.266293    Male  ...  Month-to-month   \n",
       "\n",
       "  Paperless Billing             Payment Method  Monthly Charges Total Charges  \\\n",
       "0               Yes               Mailed check            53.85        108.15   \n",
       "1               Yes           Electronic check            70.70        151.65   \n",
       "2               Yes           Electronic check            99.65         820.5   \n",
       "3               Yes           Electronic check           104.80       3046.05   \n",
       "4               Yes  Bank transfer (automatic)           103.70        5036.3   \n",
       "\n",
       "  Churn Label Churn Value Churn Score  CLTV                   Churn Reason  \n",
       "0         Yes           1          86  3239   Competitor made better offer  \n",
       "1         Yes           1          67  2701                          Moved  \n",
       "2         Yes           1          86  5372                          Moved  \n",
       "3         Yes           1          84  5003                          Moved  \n",
       "4         Yes           1          89  5340  Competitor had better devices  \n",
       "\n",
       "[5 rows x 33 columns]"
      ]
     },
     "execution_count": 27,
     "metadata": {},
     "output_type": "execute_result"
    }
   ],
   "source": [
    "churn.head()"
   ]
  },
  {
   "cell_type": "code",
   "execution_count": 28,
   "metadata": {
    "colab": {
     "base_uri": "https://localhost:8080/"
    },
    "executionInfo": {
     "elapsed": 29,
     "status": "ok",
     "timestamp": 1702915264041,
     "user": {
      "displayName": "Aravind Bhimanathini",
      "userId": "06486059456027652245"
     },
     "user_tz": 300
    },
    "id": "dckz6W2Q2gse",
    "outputId": "4cf994b4-fc0a-4094-cebc-1938b3ee080e"
   },
   "outputs": [
    {
     "name": "stdout",
     "output_type": "stream",
     "text": [
      "<class 'pandas.core.frame.DataFrame'>\n",
      "RangeIndex: 7043 entries, 0 to 7042\n",
      "Data columns (total 33 columns):\n",
      " #   Column             Non-Null Count  Dtype  \n",
      "---  ------             --------------  -----  \n",
      " 0   CustomerID         7043 non-null   object \n",
      " 1   Count              7043 non-null   int64  \n",
      " 2   Country            7043 non-null   object \n",
      " 3   State              7043 non-null   object \n",
      " 4   City               7043 non-null   object \n",
      " 5   Zip Code           7043 non-null   int64  \n",
      " 6   Lat Long           7043 non-null   object \n",
      " 7   Latitude           7043 non-null   float64\n",
      " 8   Longitude          7043 non-null   float64\n",
      " 9   Gender             7043 non-null   object \n",
      " 10  Senior Citizen     7043 non-null   object \n",
      " 11  Partner            7043 non-null   object \n",
      " 12  Dependents         7043 non-null   object \n",
      " 13  Tenure Months      7043 non-null   int64  \n",
      " 14  Phone Service      7043 non-null   object \n",
      " 15  Multiple Lines     7043 non-null   object \n",
      " 16  Internet Service   7043 non-null   object \n",
      " 17  Online Security    7043 non-null   object \n",
      " 18  Online Backup      7043 non-null   object \n",
      " 19  Device Protection  7043 non-null   object \n",
      " 20  Tech Support       7043 non-null   object \n",
      " 21  Streaming TV       7043 non-null   object \n",
      " 22  Streaming Movies   7043 non-null   object \n",
      " 23  Contract           7043 non-null   object \n",
      " 24  Paperless Billing  7043 non-null   object \n",
      " 25  Payment Method     7043 non-null   object \n",
      " 26  Monthly Charges    7043 non-null   float64\n",
      " 27  Total Charges      7043 non-null   object \n",
      " 28  Churn Label        7043 non-null   object \n",
      " 29  Churn Value        7043 non-null   int64  \n",
      " 30  Churn Score        7043 non-null   int64  \n",
      " 31  CLTV               7043 non-null   int64  \n",
      " 32  Churn Reason       1869 non-null   object \n",
      "dtypes: float64(3), int64(6), object(24)\n",
      "memory usage: 1.8+ MB\n"
     ]
    }
   ],
   "source": [
    "churn.info()"
   ]
  },
  {
   "cell_type": "code",
   "execution_count": 29,
   "metadata": {
    "colab": {
     "base_uri": "https://localhost:8080/"
    },
    "executionInfo": {
     "elapsed": 51,
     "status": "ok",
     "timestamp": 1702915264256,
     "user": {
      "displayName": "Aravind Bhimanathini",
      "userId": "06486059456027652245"
     },
     "user_tz": 300
    },
    "id": "Rc3aHEnqtgYt",
    "outputId": "8dcff66b-2d1d-4b1d-b580-e66ffa43a694"
   },
   "outputs": [
    {
     "data": {
      "text/plain": [
       "CustomerID              0\n",
       "Count                   0\n",
       "Country                 0\n",
       "State                   0\n",
       "City                    0\n",
       "Zip Code                0\n",
       "Lat Long                0\n",
       "Latitude                0\n",
       "Longitude               0\n",
       "Gender                  0\n",
       "Senior Citizen          0\n",
       "Partner                 0\n",
       "Dependents              0\n",
       "Tenure Months           0\n",
       "Phone Service           0\n",
       "Multiple Lines          0\n",
       "Internet Service        0\n",
       "Online Security         0\n",
       "Online Backup           0\n",
       "Device Protection       0\n",
       "Tech Support            0\n",
       "Streaming TV            0\n",
       "Streaming Movies        0\n",
       "Contract                0\n",
       "Paperless Billing       0\n",
       "Payment Method          0\n",
       "Monthly Charges         0\n",
       "Total Charges           0\n",
       "Churn Label             0\n",
       "Churn Value             0\n",
       "Churn Score             0\n",
       "CLTV                    0\n",
       "Churn Reason         5174\n",
       "dtype: int64"
      ]
     },
     "execution_count": 29,
     "metadata": {},
     "output_type": "execute_result"
    }
   ],
   "source": [
    "churn.apply(lambda x:sum(x.isnull()), axis=0)"
   ]
  },
  {
   "cell_type": "markdown",
   "metadata": {
    "id": "K1ICrkWuvRZN"
   },
   "source": [
    "Churn reason column in churn table has null records Let's drop the column from churn table."
   ]
  },
  {
   "cell_type": "code",
   "execution_count": 30,
   "metadata": {
    "executionInfo": {
     "elapsed": 48,
     "status": "ok",
     "timestamp": 1702915264256,
     "user": {
      "displayName": "Aravind Bhimanathini",
      "userId": "06486059456027652245"
     },
     "user_tz": 300
    },
    "id": "KWTkSMa2v2EW"
   },
   "outputs": [],
   "source": [
    "churn.drop(columns=['Churn Reason'], inplace = True)"
   ]
  },
  {
   "cell_type": "markdown",
   "metadata": {
    "id": "bQN_WH9QszmC"
   },
   "source": [
    "# Exploratory Data Analysis"
   ]
  },
  {
   "cell_type": "markdown",
   "metadata": {
    "id": "no4DQZ3cv-Au"
   },
   "source": [
    "We have total 6 tables containing various information regarding demographics, location, population, services, status, churn data. Now we will join all these tables to create a master table for better analysis.\n",
    "\n",
    "But before joining the tables into a master table lets do analysis between churn column and the other columns in each table for finding the features that are influencing the churning out of customers."
   ]
  },
  {
   "cell_type": "markdown",
   "metadata": {
    "id": "apcPJ_vaeGCt"
   },
   "source": [
    "### Analysis between churn label column and demographics of a customer"
   ]
  },
  {
   "cell_type": "code",
   "execution_count": 31,
   "metadata": {
    "colab": {
     "base_uri": "https://localhost:8080/",
     "height": 206
    },
    "executionInfo": {
     "elapsed": 47,
     "status": "ok",
     "timestamp": 1702915264257,
     "user": {
      "displayName": "Aravind Bhimanathini",
      "userId": "06486059456027652245"
     },
     "user_tz": 300
    },
    "id": "S72Mqyv3tfwv",
    "outputId": "df3cca2e-87d6-4cb6-9142-94499f2366e6"
   },
   "outputs": [
    {
     "data": {
      "text/html": [
       "<div>\n",
       "<style scoped>\n",
       "    .dataframe tbody tr th:only-of-type {\n",
       "        vertical-align: middle;\n",
       "    }\n",
       "\n",
       "    .dataframe tbody tr th {\n",
       "        vertical-align: top;\n",
       "    }\n",
       "\n",
       "    .dataframe thead th {\n",
       "        text-align: right;\n",
       "    }\n",
       "</style>\n",
       "<table border=\"1\" class=\"dataframe\">\n",
       "  <thead>\n",
       "    <tr style=\"text-align: right;\">\n",
       "      <th></th>\n",
       "      <th>Customer ID</th>\n",
       "      <th>Count</th>\n",
       "      <th>Gender</th>\n",
       "      <th>Age</th>\n",
       "      <th>Under 30</th>\n",
       "      <th>Senior Citizen</th>\n",
       "      <th>Married</th>\n",
       "      <th>Dependents</th>\n",
       "      <th>Number of Dependents</th>\n",
       "    </tr>\n",
       "  </thead>\n",
       "  <tbody>\n",
       "    <tr>\n",
       "      <th>0</th>\n",
       "      <td>8779-QRDMV</td>\n",
       "      <td>1</td>\n",
       "      <td>Male</td>\n",
       "      <td>78</td>\n",
       "      <td>No</td>\n",
       "      <td>Yes</td>\n",
       "      <td>No</td>\n",
       "      <td>No</td>\n",
       "      <td>0</td>\n",
       "    </tr>\n",
       "    <tr>\n",
       "      <th>1</th>\n",
       "      <td>7495-OOKFY</td>\n",
       "      <td>1</td>\n",
       "      <td>Female</td>\n",
       "      <td>74</td>\n",
       "      <td>No</td>\n",
       "      <td>Yes</td>\n",
       "      <td>Yes</td>\n",
       "      <td>Yes</td>\n",
       "      <td>1</td>\n",
       "    </tr>\n",
       "    <tr>\n",
       "      <th>2</th>\n",
       "      <td>1658-BYGOY</td>\n",
       "      <td>1</td>\n",
       "      <td>Male</td>\n",
       "      <td>71</td>\n",
       "      <td>No</td>\n",
       "      <td>Yes</td>\n",
       "      <td>No</td>\n",
       "      <td>Yes</td>\n",
       "      <td>3</td>\n",
       "    </tr>\n",
       "    <tr>\n",
       "      <th>3</th>\n",
       "      <td>4598-XLKNJ</td>\n",
       "      <td>1</td>\n",
       "      <td>Female</td>\n",
       "      <td>78</td>\n",
       "      <td>No</td>\n",
       "      <td>Yes</td>\n",
       "      <td>Yes</td>\n",
       "      <td>Yes</td>\n",
       "      <td>1</td>\n",
       "    </tr>\n",
       "    <tr>\n",
       "      <th>4</th>\n",
       "      <td>4846-WHAFZ</td>\n",
       "      <td>1</td>\n",
       "      <td>Female</td>\n",
       "      <td>80</td>\n",
       "      <td>No</td>\n",
       "      <td>Yes</td>\n",
       "      <td>Yes</td>\n",
       "      <td>Yes</td>\n",
       "      <td>1</td>\n",
       "    </tr>\n",
       "  </tbody>\n",
       "</table>\n",
       "</div>"
      ],
      "text/plain": [
       "  Customer ID  Count  Gender  Age Under 30 Senior Citizen Married Dependents  \\\n",
       "0  8779-QRDMV      1    Male   78       No            Yes      No         No   \n",
       "1  7495-OOKFY      1  Female   74       No            Yes     Yes        Yes   \n",
       "2  1658-BYGOY      1    Male   71       No            Yes      No        Yes   \n",
       "3  4598-XLKNJ      1  Female   78       No            Yes     Yes        Yes   \n",
       "4  4846-WHAFZ      1  Female   80       No            Yes     Yes        Yes   \n",
       "\n",
       "   Number of Dependents  \n",
       "0                     0  \n",
       "1                     1  \n",
       "2                     3  \n",
       "3                     1  \n",
       "4                     1  "
      ]
     },
     "execution_count": 31,
     "metadata": {},
     "output_type": "execute_result"
    }
   ],
   "source": [
    "demographics.head()"
   ]
  },
  {
   "cell_type": "code",
   "execution_count": 32,
   "metadata": {
    "colab": {
     "base_uri": "https://localhost:8080/",
     "height": 81
    },
    "executionInfo": {
     "elapsed": 46,
     "status": "ok",
     "timestamp": 1702915264258,
     "user": {
      "displayName": "Aravind Bhimanathini",
      "userId": "06486059456027652245"
     },
     "user_tz": 300
    },
    "id": "aJ54XtouZBPY",
    "outputId": "8fc1e7d3-9b9b-4e1f-8d5d-af3b82dc813a"
   },
   "outputs": [
    {
     "data": {
      "text/html": [
       "<div>\n",
       "<style scoped>\n",
       "    .dataframe tbody tr th:only-of-type {\n",
       "        vertical-align: middle;\n",
       "    }\n",
       "\n",
       "    .dataframe tbody tr th {\n",
       "        vertical-align: top;\n",
       "    }\n",
       "\n",
       "    .dataframe thead th {\n",
       "        text-align: right;\n",
       "    }\n",
       "</style>\n",
       "<table border=\"1\" class=\"dataframe\">\n",
       "  <thead>\n",
       "    <tr style=\"text-align: right;\">\n",
       "      <th></th>\n",
       "      <th>Count</th>\n",
       "    </tr>\n",
       "  </thead>\n",
       "  <tbody>\n",
       "    <tr>\n",
       "      <th>0</th>\n",
       "      <td>1</td>\n",
       "    </tr>\n",
       "  </tbody>\n",
       "</table>\n",
       "</div>"
      ],
      "text/plain": [
       "   Count\n",
       "0      1"
      ]
     },
     "execution_count": 32,
     "metadata": {},
     "output_type": "execute_result"
    }
   ],
   "source": [
    "demographics[['Count']].drop_duplicates()"
   ]
  },
  {
   "cell_type": "code",
   "execution_count": 33,
   "metadata": {
    "colab": {
     "base_uri": "https://localhost:8080/",
     "height": 112
    },
    "executionInfo": {
     "elapsed": 43,
     "status": "ok",
     "timestamp": 1702915264258,
     "user": {
      "displayName": "Aravind Bhimanathini",
      "userId": "06486059456027652245"
     },
     "user_tz": 300
    },
    "id": "t2-LtLtiZLOW",
    "outputId": "21560ca5-ba0f-4ddb-fe9a-edaf236ef810"
   },
   "outputs": [
    {
     "data": {
      "text/html": [
       "<div>\n",
       "<style scoped>\n",
       "    .dataframe tbody tr th:only-of-type {\n",
       "        vertical-align: middle;\n",
       "    }\n",
       "\n",
       "    .dataframe tbody tr th {\n",
       "        vertical-align: top;\n",
       "    }\n",
       "\n",
       "    .dataframe thead th {\n",
       "        text-align: right;\n",
       "    }\n",
       "</style>\n",
       "<table border=\"1\" class=\"dataframe\">\n",
       "  <thead>\n",
       "    <tr style=\"text-align: right;\">\n",
       "      <th></th>\n",
       "      <th>Under 30</th>\n",
       "    </tr>\n",
       "  </thead>\n",
       "  <tbody>\n",
       "    <tr>\n",
       "      <th>0</th>\n",
       "      <td>No</td>\n",
       "    </tr>\n",
       "    <tr>\n",
       "      <th>1143</th>\n",
       "      <td>Yes</td>\n",
       "    </tr>\n",
       "  </tbody>\n",
       "</table>\n",
       "</div>"
      ],
      "text/plain": [
       "     Under 30\n",
       "0          No\n",
       "1143      Yes"
      ]
     },
     "execution_count": 33,
     "metadata": {},
     "output_type": "execute_result"
    }
   ],
   "source": [
    "demographics[['Under 30']].drop_duplicates()"
   ]
  },
  {
   "cell_type": "markdown",
   "metadata": {
    "id": "yZWsM06hjCJq"
   },
   "source": [
    "Deleting unwanted columns in demographics table"
   ]
  },
  {
   "cell_type": "code",
   "execution_count": 34,
   "metadata": {
    "colab": {
     "base_uri": "https://localhost:8080/",
     "height": 424
    },
    "executionInfo": {
     "elapsed": 42,
     "status": "ok",
     "timestamp": 1702915264259,
     "user": {
      "displayName": "Aravind Bhimanathini",
      "userId": "06486059456027652245"
     },
     "user_tz": 300
    },
    "id": "YgKO3RFrZewE",
    "outputId": "3c56d423-2e49-46a7-ce32-4f012a6c0d0c"
   },
   "outputs": [
    {
     "data": {
      "text/html": [
       "<div>\n",
       "<style scoped>\n",
       "    .dataframe tbody tr th:only-of-type {\n",
       "        vertical-align: middle;\n",
       "    }\n",
       "\n",
       "    .dataframe tbody tr th {\n",
       "        vertical-align: top;\n",
       "    }\n",
       "\n",
       "    .dataframe thead th {\n",
       "        text-align: right;\n",
       "    }\n",
       "</style>\n",
       "<table border=\"1\" class=\"dataframe\">\n",
       "  <thead>\n",
       "    <tr style=\"text-align: right;\">\n",
       "      <th></th>\n",
       "      <th>Customer ID</th>\n",
       "      <th>Gender</th>\n",
       "      <th>Age</th>\n",
       "      <th>Under 30</th>\n",
       "      <th>Senior Citizen</th>\n",
       "      <th>Married</th>\n",
       "      <th>Dependents</th>\n",
       "      <th>Number of Dependents</th>\n",
       "    </tr>\n",
       "  </thead>\n",
       "  <tbody>\n",
       "    <tr>\n",
       "      <th>0</th>\n",
       "      <td>8779-QRDMV</td>\n",
       "      <td>Male</td>\n",
       "      <td>78</td>\n",
       "      <td>No</td>\n",
       "      <td>Yes</td>\n",
       "      <td>No</td>\n",
       "      <td>No</td>\n",
       "      <td>0</td>\n",
       "    </tr>\n",
       "    <tr>\n",
       "      <th>1</th>\n",
       "      <td>7495-OOKFY</td>\n",
       "      <td>Female</td>\n",
       "      <td>74</td>\n",
       "      <td>No</td>\n",
       "      <td>Yes</td>\n",
       "      <td>Yes</td>\n",
       "      <td>Yes</td>\n",
       "      <td>1</td>\n",
       "    </tr>\n",
       "    <tr>\n",
       "      <th>2</th>\n",
       "      <td>1658-BYGOY</td>\n",
       "      <td>Male</td>\n",
       "      <td>71</td>\n",
       "      <td>No</td>\n",
       "      <td>Yes</td>\n",
       "      <td>No</td>\n",
       "      <td>Yes</td>\n",
       "      <td>3</td>\n",
       "    </tr>\n",
       "    <tr>\n",
       "      <th>3</th>\n",
       "      <td>4598-XLKNJ</td>\n",
       "      <td>Female</td>\n",
       "      <td>78</td>\n",
       "      <td>No</td>\n",
       "      <td>Yes</td>\n",
       "      <td>Yes</td>\n",
       "      <td>Yes</td>\n",
       "      <td>1</td>\n",
       "    </tr>\n",
       "    <tr>\n",
       "      <th>4</th>\n",
       "      <td>4846-WHAFZ</td>\n",
       "      <td>Female</td>\n",
       "      <td>80</td>\n",
       "      <td>No</td>\n",
       "      <td>Yes</td>\n",
       "      <td>Yes</td>\n",
       "      <td>Yes</td>\n",
       "      <td>1</td>\n",
       "    </tr>\n",
       "    <tr>\n",
       "      <th>...</th>\n",
       "      <td>...</td>\n",
       "      <td>...</td>\n",
       "      <td>...</td>\n",
       "      <td>...</td>\n",
       "      <td>...</td>\n",
       "      <td>...</td>\n",
       "      <td>...</td>\n",
       "      <td>...</td>\n",
       "    </tr>\n",
       "    <tr>\n",
       "      <th>7038</th>\n",
       "      <td>2569-WGERO</td>\n",
       "      <td>Female</td>\n",
       "      <td>30</td>\n",
       "      <td>No</td>\n",
       "      <td>No</td>\n",
       "      <td>No</td>\n",
       "      <td>No</td>\n",
       "      <td>0</td>\n",
       "    </tr>\n",
       "    <tr>\n",
       "      <th>7039</th>\n",
       "      <td>6840-RESVB</td>\n",
       "      <td>Male</td>\n",
       "      <td>38</td>\n",
       "      <td>No</td>\n",
       "      <td>No</td>\n",
       "      <td>Yes</td>\n",
       "      <td>Yes</td>\n",
       "      <td>2</td>\n",
       "    </tr>\n",
       "    <tr>\n",
       "      <th>7040</th>\n",
       "      <td>2234-XADUH</td>\n",
       "      <td>Female</td>\n",
       "      <td>30</td>\n",
       "      <td>No</td>\n",
       "      <td>No</td>\n",
       "      <td>Yes</td>\n",
       "      <td>Yes</td>\n",
       "      <td>2</td>\n",
       "    </tr>\n",
       "    <tr>\n",
       "      <th>7041</th>\n",
       "      <td>4801-JZAZL</td>\n",
       "      <td>Female</td>\n",
       "      <td>32</td>\n",
       "      <td>No</td>\n",
       "      <td>No</td>\n",
       "      <td>Yes</td>\n",
       "      <td>Yes</td>\n",
       "      <td>2</td>\n",
       "    </tr>\n",
       "    <tr>\n",
       "      <th>7042</th>\n",
       "      <td>3186-AJIEK</td>\n",
       "      <td>Male</td>\n",
       "      <td>44</td>\n",
       "      <td>No</td>\n",
       "      <td>No</td>\n",
       "      <td>No</td>\n",
       "      <td>No</td>\n",
       "      <td>0</td>\n",
       "    </tr>\n",
       "  </tbody>\n",
       "</table>\n",
       "<p>7043 rows × 8 columns</p>\n",
       "</div>"
      ],
      "text/plain": [
       "     Customer ID  Gender  Age Under 30 Senior Citizen Married Dependents  \\\n",
       "0     8779-QRDMV    Male   78       No            Yes      No         No   \n",
       "1     7495-OOKFY  Female   74       No            Yes     Yes        Yes   \n",
       "2     1658-BYGOY    Male   71       No            Yes      No        Yes   \n",
       "3     4598-XLKNJ  Female   78       No            Yes     Yes        Yes   \n",
       "4     4846-WHAFZ  Female   80       No            Yes     Yes        Yes   \n",
       "...          ...     ...  ...      ...            ...     ...        ...   \n",
       "7038  2569-WGERO  Female   30       No             No      No         No   \n",
       "7039  6840-RESVB    Male   38       No             No     Yes        Yes   \n",
       "7040  2234-XADUH  Female   30       No             No     Yes        Yes   \n",
       "7041  4801-JZAZL  Female   32       No             No     Yes        Yes   \n",
       "7042  3186-AJIEK    Male   44       No             No      No         No   \n",
       "\n",
       "      Number of Dependents  \n",
       "0                        0  \n",
       "1                        1  \n",
       "2                        3  \n",
       "3                        1  \n",
       "4                        1  \n",
       "...                    ...  \n",
       "7038                     0  \n",
       "7039                     2  \n",
       "7040                     2  \n",
       "7041                     2  \n",
       "7042                     0  \n",
       "\n",
       "[7043 rows x 8 columns]"
      ]
     },
     "execution_count": 34,
     "metadata": {},
     "output_type": "execute_result"
    }
   ],
   "source": [
    "demographics.drop(columns= [\"Count\"], inplace=True)\n",
    "demographics"
   ]
  },
  {
   "cell_type": "markdown",
   "metadata": {
    "id": "4TBmF4PZbWK1"
   },
   "source": [
    "Lets join churn column with demographics table"
   ]
  },
  {
   "cell_type": "code",
   "execution_count": 35,
   "metadata": {
    "colab": {
     "base_uri": "https://localhost:8080/",
     "height": 377
    },
    "executionInfo": {
     "elapsed": 246,
     "status": "ok",
     "timestamp": 1702915264467,
     "user": {
      "displayName": "Aravind Bhimanathini",
      "userId": "06486059456027652245"
     },
     "user_tz": 300
    },
    "id": "6jvZo-vGbVeT",
    "outputId": "f60d8d5e-038f-4b29-f693-4820b81a3a78"
   },
   "outputs": [
    {
     "data": {
      "text/html": [
       "<div>\n",
       "<style scoped>\n",
       "    .dataframe tbody tr th:only-of-type {\n",
       "        vertical-align: middle;\n",
       "    }\n",
       "\n",
       "    .dataframe tbody tr th {\n",
       "        vertical-align: top;\n",
       "    }\n",
       "\n",
       "    .dataframe thead th {\n",
       "        text-align: right;\n",
       "    }\n",
       "</style>\n",
       "<table border=\"1\" class=\"dataframe\">\n",
       "  <thead>\n",
       "    <tr style=\"text-align: right;\">\n",
       "      <th></th>\n",
       "      <th>CustomerID</th>\n",
       "      <th>Count</th>\n",
       "      <th>Country</th>\n",
       "      <th>State</th>\n",
       "      <th>City</th>\n",
       "      <th>Zip Code</th>\n",
       "      <th>Lat Long</th>\n",
       "      <th>Latitude</th>\n",
       "      <th>Longitude</th>\n",
       "      <th>Gender</th>\n",
       "      <th>...</th>\n",
       "      <th>Streaming Movies</th>\n",
       "      <th>Contract</th>\n",
       "      <th>Paperless Billing</th>\n",
       "      <th>Payment Method</th>\n",
       "      <th>Monthly Charges</th>\n",
       "      <th>Total Charges</th>\n",
       "      <th>Churn Label</th>\n",
       "      <th>Churn Value</th>\n",
       "      <th>Churn Score</th>\n",
       "      <th>CLTV</th>\n",
       "    </tr>\n",
       "  </thead>\n",
       "  <tbody>\n",
       "    <tr>\n",
       "      <th>0</th>\n",
       "      <td>3668-QPYBK</td>\n",
       "      <td>1</td>\n",
       "      <td>United States</td>\n",
       "      <td>California</td>\n",
       "      <td>Los Angeles</td>\n",
       "      <td>90003</td>\n",
       "      <td>33.964131, -118.272783</td>\n",
       "      <td>33.964131</td>\n",
       "      <td>-118.272783</td>\n",
       "      <td>Male</td>\n",
       "      <td>...</td>\n",
       "      <td>No</td>\n",
       "      <td>Month-to-month</td>\n",
       "      <td>Yes</td>\n",
       "      <td>Mailed check</td>\n",
       "      <td>53.85</td>\n",
       "      <td>108.15</td>\n",
       "      <td>Yes</td>\n",
       "      <td>1</td>\n",
       "      <td>86</td>\n",
       "      <td>3239</td>\n",
       "    </tr>\n",
       "    <tr>\n",
       "      <th>1</th>\n",
       "      <td>9237-HQITU</td>\n",
       "      <td>1</td>\n",
       "      <td>United States</td>\n",
       "      <td>California</td>\n",
       "      <td>Los Angeles</td>\n",
       "      <td>90005</td>\n",
       "      <td>34.059281, -118.30742</td>\n",
       "      <td>34.059281</td>\n",
       "      <td>-118.307420</td>\n",
       "      <td>Female</td>\n",
       "      <td>...</td>\n",
       "      <td>No</td>\n",
       "      <td>Month-to-month</td>\n",
       "      <td>Yes</td>\n",
       "      <td>Electronic check</td>\n",
       "      <td>70.70</td>\n",
       "      <td>151.65</td>\n",
       "      <td>Yes</td>\n",
       "      <td>1</td>\n",
       "      <td>67</td>\n",
       "      <td>2701</td>\n",
       "    </tr>\n",
       "    <tr>\n",
       "      <th>2</th>\n",
       "      <td>9305-CDSKC</td>\n",
       "      <td>1</td>\n",
       "      <td>United States</td>\n",
       "      <td>California</td>\n",
       "      <td>Los Angeles</td>\n",
       "      <td>90006</td>\n",
       "      <td>34.048013, -118.293953</td>\n",
       "      <td>34.048013</td>\n",
       "      <td>-118.293953</td>\n",
       "      <td>Female</td>\n",
       "      <td>...</td>\n",
       "      <td>Yes</td>\n",
       "      <td>Month-to-month</td>\n",
       "      <td>Yes</td>\n",
       "      <td>Electronic check</td>\n",
       "      <td>99.65</td>\n",
       "      <td>820.5</td>\n",
       "      <td>Yes</td>\n",
       "      <td>1</td>\n",
       "      <td>86</td>\n",
       "      <td>5372</td>\n",
       "    </tr>\n",
       "    <tr>\n",
       "      <th>3</th>\n",
       "      <td>7892-POOKP</td>\n",
       "      <td>1</td>\n",
       "      <td>United States</td>\n",
       "      <td>California</td>\n",
       "      <td>Los Angeles</td>\n",
       "      <td>90010</td>\n",
       "      <td>34.062125, -118.315709</td>\n",
       "      <td>34.062125</td>\n",
       "      <td>-118.315709</td>\n",
       "      <td>Female</td>\n",
       "      <td>...</td>\n",
       "      <td>Yes</td>\n",
       "      <td>Month-to-month</td>\n",
       "      <td>Yes</td>\n",
       "      <td>Electronic check</td>\n",
       "      <td>104.80</td>\n",
       "      <td>3046.05</td>\n",
       "      <td>Yes</td>\n",
       "      <td>1</td>\n",
       "      <td>84</td>\n",
       "      <td>5003</td>\n",
       "    </tr>\n",
       "    <tr>\n",
       "      <th>4</th>\n",
       "      <td>0280-XJGEX</td>\n",
       "      <td>1</td>\n",
       "      <td>United States</td>\n",
       "      <td>California</td>\n",
       "      <td>Los Angeles</td>\n",
       "      <td>90015</td>\n",
       "      <td>34.039224, -118.266293</td>\n",
       "      <td>34.039224</td>\n",
       "      <td>-118.266293</td>\n",
       "      <td>Male</td>\n",
       "      <td>...</td>\n",
       "      <td>Yes</td>\n",
       "      <td>Month-to-month</td>\n",
       "      <td>Yes</td>\n",
       "      <td>Bank transfer (automatic)</td>\n",
       "      <td>103.70</td>\n",
       "      <td>5036.3</td>\n",
       "      <td>Yes</td>\n",
       "      <td>1</td>\n",
       "      <td>89</td>\n",
       "      <td>5340</td>\n",
       "    </tr>\n",
       "  </tbody>\n",
       "</table>\n",
       "<p>5 rows × 32 columns</p>\n",
       "</div>"
      ],
      "text/plain": [
       "   CustomerID  Count        Country       State         City  Zip Code  \\\n",
       "0  3668-QPYBK      1  United States  California  Los Angeles     90003   \n",
       "1  9237-HQITU      1  United States  California  Los Angeles     90005   \n",
       "2  9305-CDSKC      1  United States  California  Los Angeles     90006   \n",
       "3  7892-POOKP      1  United States  California  Los Angeles     90010   \n",
       "4  0280-XJGEX      1  United States  California  Los Angeles     90015   \n",
       "\n",
       "                 Lat Long   Latitude   Longitude  Gender  ...  \\\n",
       "0  33.964131, -118.272783  33.964131 -118.272783    Male  ...   \n",
       "1   34.059281, -118.30742  34.059281 -118.307420  Female  ...   \n",
       "2  34.048013, -118.293953  34.048013 -118.293953  Female  ...   \n",
       "3  34.062125, -118.315709  34.062125 -118.315709  Female  ...   \n",
       "4  34.039224, -118.266293  34.039224 -118.266293    Male  ...   \n",
       "\n",
       "  Streaming Movies        Contract Paperless Billing  \\\n",
       "0               No  Month-to-month               Yes   \n",
       "1               No  Month-to-month               Yes   \n",
       "2              Yes  Month-to-month               Yes   \n",
       "3              Yes  Month-to-month               Yes   \n",
       "4              Yes  Month-to-month               Yes   \n",
       "\n",
       "              Payment Method Monthly Charges Total Charges Churn Label  \\\n",
       "0               Mailed check           53.85        108.15         Yes   \n",
       "1           Electronic check           70.70        151.65         Yes   \n",
       "2           Electronic check           99.65         820.5         Yes   \n",
       "3           Electronic check          104.80       3046.05         Yes   \n",
       "4  Bank transfer (automatic)          103.70        5036.3         Yes   \n",
       "\n",
       "  Churn Value Churn Score  CLTV  \n",
       "0           1          86  3239  \n",
       "1           1          67  2701  \n",
       "2           1          86  5372  \n",
       "3           1          84  5003  \n",
       "4           1          89  5340  \n",
       "\n",
       "[5 rows x 32 columns]"
      ]
     },
     "execution_count": 35,
     "metadata": {},
     "output_type": "execute_result"
    }
   ],
   "source": [
    "churn.head()"
   ]
  },
  {
   "cell_type": "code",
   "execution_count": 36,
   "metadata": {
    "colab": {
     "base_uri": "https://localhost:8080/",
     "height": 424
    },
    "executionInfo": {
     "elapsed": 40,
     "status": "ok",
     "timestamp": 1702915264467,
     "user": {
      "displayName": "Aravind Bhimanathini",
      "userId": "06486059456027652245"
     },
     "user_tz": 300
    },
    "id": "DK3g9VHIj-FB",
    "outputId": "e6f21d6e-829c-4fa5-e9eb-3e84ca0fa1ed"
   },
   "outputs": [
    {
     "data": {
      "text/html": [
       "<div>\n",
       "<style scoped>\n",
       "    .dataframe tbody tr th:only-of-type {\n",
       "        vertical-align: middle;\n",
       "    }\n",
       "\n",
       "    .dataframe tbody tr th {\n",
       "        vertical-align: top;\n",
       "    }\n",
       "\n",
       "    .dataframe thead th {\n",
       "        text-align: right;\n",
       "    }\n",
       "</style>\n",
       "<table border=\"1\" class=\"dataframe\">\n",
       "  <thead>\n",
       "    <tr style=\"text-align: right;\">\n",
       "      <th></th>\n",
       "      <th>CustomerID</th>\n",
       "      <th>Churn Label</th>\n",
       "    </tr>\n",
       "  </thead>\n",
       "  <tbody>\n",
       "    <tr>\n",
       "      <th>0</th>\n",
       "      <td>3668-QPYBK</td>\n",
       "      <td>Yes</td>\n",
       "    </tr>\n",
       "    <tr>\n",
       "      <th>1</th>\n",
       "      <td>9237-HQITU</td>\n",
       "      <td>Yes</td>\n",
       "    </tr>\n",
       "    <tr>\n",
       "      <th>2</th>\n",
       "      <td>9305-CDSKC</td>\n",
       "      <td>Yes</td>\n",
       "    </tr>\n",
       "    <tr>\n",
       "      <th>3</th>\n",
       "      <td>7892-POOKP</td>\n",
       "      <td>Yes</td>\n",
       "    </tr>\n",
       "    <tr>\n",
       "      <th>4</th>\n",
       "      <td>0280-XJGEX</td>\n",
       "      <td>Yes</td>\n",
       "    </tr>\n",
       "    <tr>\n",
       "      <th>...</th>\n",
       "      <td>...</td>\n",
       "      <td>...</td>\n",
       "    </tr>\n",
       "    <tr>\n",
       "      <th>7038</th>\n",
       "      <td>2569-WGERO</td>\n",
       "      <td>No</td>\n",
       "    </tr>\n",
       "    <tr>\n",
       "      <th>7039</th>\n",
       "      <td>6840-RESVB</td>\n",
       "      <td>No</td>\n",
       "    </tr>\n",
       "    <tr>\n",
       "      <th>7040</th>\n",
       "      <td>2234-XADUH</td>\n",
       "      <td>No</td>\n",
       "    </tr>\n",
       "    <tr>\n",
       "      <th>7041</th>\n",
       "      <td>4801-JZAZL</td>\n",
       "      <td>No</td>\n",
       "    </tr>\n",
       "    <tr>\n",
       "      <th>7042</th>\n",
       "      <td>3186-AJIEK</td>\n",
       "      <td>No</td>\n",
       "    </tr>\n",
       "  </tbody>\n",
       "</table>\n",
       "<p>7043 rows × 2 columns</p>\n",
       "</div>"
      ],
      "text/plain": [
       "      CustomerID Churn Label\n",
       "0     3668-QPYBK         Yes\n",
       "1     9237-HQITU         Yes\n",
       "2     9305-CDSKC         Yes\n",
       "3     7892-POOKP         Yes\n",
       "4     0280-XJGEX         Yes\n",
       "...          ...         ...\n",
       "7038  2569-WGERO          No\n",
       "7039  6840-RESVB          No\n",
       "7040  2234-XADUH          No\n",
       "7041  4801-JZAZL          No\n",
       "7042  3186-AJIEK          No\n",
       "\n",
       "[7043 rows x 2 columns]"
      ]
     },
     "execution_count": 36,
     "metadata": {},
     "output_type": "execute_result"
    }
   ],
   "source": [
    "churn[['CustomerID', 'Churn Label']]"
   ]
  },
  {
   "cell_type": "code",
   "execution_count": 37,
   "metadata": {
    "colab": {
     "base_uri": "https://localhost:8080/",
     "height": 424
    },
    "executionInfo": {
     "elapsed": 33,
     "status": "ok",
     "timestamp": 1702915264468,
     "user": {
      "displayName": "Aravind Bhimanathini",
      "userId": "06486059456027652245"
     },
     "user_tz": 300
    },
    "id": "LkKsNqAZjA6s",
    "outputId": "bf6865da-3438-40ba-da9f-25edde3d6eea"
   },
   "outputs": [
    {
     "data": {
      "text/html": [
       "<div>\n",
       "<style scoped>\n",
       "    .dataframe tbody tr th:only-of-type {\n",
       "        vertical-align: middle;\n",
       "    }\n",
       "\n",
       "    .dataframe tbody tr th {\n",
       "        vertical-align: top;\n",
       "    }\n",
       "\n",
       "    .dataframe thead th {\n",
       "        text-align: right;\n",
       "    }\n",
       "</style>\n",
       "<table border=\"1\" class=\"dataframe\">\n",
       "  <thead>\n",
       "    <tr style=\"text-align: right;\">\n",
       "      <th></th>\n",
       "      <th>Customer ID</th>\n",
       "      <th>Gender</th>\n",
       "      <th>Age</th>\n",
       "      <th>Under 30</th>\n",
       "      <th>Senior Citizen</th>\n",
       "      <th>Married</th>\n",
       "      <th>Dependents</th>\n",
       "      <th>Number of Dependents</th>\n",
       "      <th>Churn Label</th>\n",
       "    </tr>\n",
       "  </thead>\n",
       "  <tbody>\n",
       "    <tr>\n",
       "      <th>0</th>\n",
       "      <td>8779-QRDMV</td>\n",
       "      <td>Male</td>\n",
       "      <td>78</td>\n",
       "      <td>No</td>\n",
       "      <td>Yes</td>\n",
       "      <td>No</td>\n",
       "      <td>No</td>\n",
       "      <td>0</td>\n",
       "      <td>Yes</td>\n",
       "    </tr>\n",
       "    <tr>\n",
       "      <th>1</th>\n",
       "      <td>7495-OOKFY</td>\n",
       "      <td>Female</td>\n",
       "      <td>74</td>\n",
       "      <td>No</td>\n",
       "      <td>Yes</td>\n",
       "      <td>Yes</td>\n",
       "      <td>Yes</td>\n",
       "      <td>1</td>\n",
       "      <td>Yes</td>\n",
       "    </tr>\n",
       "    <tr>\n",
       "      <th>2</th>\n",
       "      <td>1658-BYGOY</td>\n",
       "      <td>Male</td>\n",
       "      <td>71</td>\n",
       "      <td>No</td>\n",
       "      <td>Yes</td>\n",
       "      <td>No</td>\n",
       "      <td>Yes</td>\n",
       "      <td>3</td>\n",
       "      <td>Yes</td>\n",
       "    </tr>\n",
       "    <tr>\n",
       "      <th>3</th>\n",
       "      <td>4598-XLKNJ</td>\n",
       "      <td>Female</td>\n",
       "      <td>78</td>\n",
       "      <td>No</td>\n",
       "      <td>Yes</td>\n",
       "      <td>Yes</td>\n",
       "      <td>Yes</td>\n",
       "      <td>1</td>\n",
       "      <td>Yes</td>\n",
       "    </tr>\n",
       "    <tr>\n",
       "      <th>4</th>\n",
       "      <td>4846-WHAFZ</td>\n",
       "      <td>Female</td>\n",
       "      <td>80</td>\n",
       "      <td>No</td>\n",
       "      <td>Yes</td>\n",
       "      <td>Yes</td>\n",
       "      <td>Yes</td>\n",
       "      <td>1</td>\n",
       "      <td>Yes</td>\n",
       "    </tr>\n",
       "    <tr>\n",
       "      <th>...</th>\n",
       "      <td>...</td>\n",
       "      <td>...</td>\n",
       "      <td>...</td>\n",
       "      <td>...</td>\n",
       "      <td>...</td>\n",
       "      <td>...</td>\n",
       "      <td>...</td>\n",
       "      <td>...</td>\n",
       "      <td>...</td>\n",
       "    </tr>\n",
       "    <tr>\n",
       "      <th>7038</th>\n",
       "      <td>2569-WGERO</td>\n",
       "      <td>Female</td>\n",
       "      <td>30</td>\n",
       "      <td>No</td>\n",
       "      <td>No</td>\n",
       "      <td>No</td>\n",
       "      <td>No</td>\n",
       "      <td>0</td>\n",
       "      <td>No</td>\n",
       "    </tr>\n",
       "    <tr>\n",
       "      <th>7039</th>\n",
       "      <td>6840-RESVB</td>\n",
       "      <td>Male</td>\n",
       "      <td>38</td>\n",
       "      <td>No</td>\n",
       "      <td>No</td>\n",
       "      <td>Yes</td>\n",
       "      <td>Yes</td>\n",
       "      <td>2</td>\n",
       "      <td>No</td>\n",
       "    </tr>\n",
       "    <tr>\n",
       "      <th>7040</th>\n",
       "      <td>2234-XADUH</td>\n",
       "      <td>Female</td>\n",
       "      <td>30</td>\n",
       "      <td>No</td>\n",
       "      <td>No</td>\n",
       "      <td>Yes</td>\n",
       "      <td>Yes</td>\n",
       "      <td>2</td>\n",
       "      <td>No</td>\n",
       "    </tr>\n",
       "    <tr>\n",
       "      <th>7041</th>\n",
       "      <td>4801-JZAZL</td>\n",
       "      <td>Female</td>\n",
       "      <td>32</td>\n",
       "      <td>No</td>\n",
       "      <td>No</td>\n",
       "      <td>Yes</td>\n",
       "      <td>Yes</td>\n",
       "      <td>2</td>\n",
       "      <td>No</td>\n",
       "    </tr>\n",
       "    <tr>\n",
       "      <th>7042</th>\n",
       "      <td>3186-AJIEK</td>\n",
       "      <td>Male</td>\n",
       "      <td>44</td>\n",
       "      <td>No</td>\n",
       "      <td>No</td>\n",
       "      <td>No</td>\n",
       "      <td>No</td>\n",
       "      <td>0</td>\n",
       "      <td>No</td>\n",
       "    </tr>\n",
       "  </tbody>\n",
       "</table>\n",
       "<p>7043 rows × 9 columns</p>\n",
       "</div>"
      ],
      "text/plain": [
       "     Customer ID  Gender  Age Under 30 Senior Citizen Married Dependents  \\\n",
       "0     8779-QRDMV    Male   78       No            Yes      No         No   \n",
       "1     7495-OOKFY  Female   74       No            Yes     Yes        Yes   \n",
       "2     1658-BYGOY    Male   71       No            Yes      No        Yes   \n",
       "3     4598-XLKNJ  Female   78       No            Yes     Yes        Yes   \n",
       "4     4846-WHAFZ  Female   80       No            Yes     Yes        Yes   \n",
       "...          ...     ...  ...      ...            ...     ...        ...   \n",
       "7038  2569-WGERO  Female   30       No             No      No         No   \n",
       "7039  6840-RESVB    Male   38       No             No     Yes        Yes   \n",
       "7040  2234-XADUH  Female   30       No             No     Yes        Yes   \n",
       "7041  4801-JZAZL  Female   32       No             No     Yes        Yes   \n",
       "7042  3186-AJIEK    Male   44       No             No      No         No   \n",
       "\n",
       "      Number of Dependents Churn Label  \n",
       "0                        0         Yes  \n",
       "1                        1         Yes  \n",
       "2                        3         Yes  \n",
       "3                        1         Yes  \n",
       "4                        1         Yes  \n",
       "...                    ...         ...  \n",
       "7038                     0          No  \n",
       "7039                     2          No  \n",
       "7040                     2          No  \n",
       "7041                     2          No  \n",
       "7042                     0          No  \n",
       "\n",
       "[7043 rows x 9 columns]"
      ]
     },
     "execution_count": 37,
     "metadata": {},
     "output_type": "execute_result"
    }
   ],
   "source": [
    "demo_churn_df = pd.merge(demographics, churn[['CustomerID', 'Churn Label']], left_on='Customer ID', right_on= 'CustomerID', how='inner')\n",
    "demo_churn_df.drop(columns = ['CustomerID'], axis = 0, inplace = True)\n",
    "demo_churn_df"
   ]
  },
  {
   "cell_type": "code",
   "execution_count": 38,
   "metadata": {
    "colab": {
     "base_uri": "https://localhost:8080/",
     "height": 125
    },
    "executionInfo": {
     "elapsed": 30,
     "status": "ok",
     "timestamp": 1702915264468,
     "user": {
      "displayName": "Aravind Bhimanathini",
      "userId": "06486059456027652245"
     },
     "user_tz": 300
    },
    "id": "fwq4XNxHonzX",
    "outputId": "0fa368af-bfe0-416d-b30d-4b2f73de2aae"
   },
   "outputs": [
    {
     "data": {
      "text/html": [
       "<div>\n",
       "<style scoped>\n",
       "    .dataframe tbody tr th:only-of-type {\n",
       "        vertical-align: middle;\n",
       "    }\n",
       "\n",
       "    .dataframe tbody tr th {\n",
       "        vertical-align: top;\n",
       "    }\n",
       "\n",
       "    .dataframe thead th {\n",
       "        text-align: right;\n",
       "    }\n",
       "</style>\n",
       "<table border=\"1\" class=\"dataframe\">\n",
       "  <thead>\n",
       "    <tr style=\"text-align: right;\">\n",
       "      <th></th>\n",
       "      <th>Senior Citizen</th>\n",
       "      <th>Customer ID</th>\n",
       "    </tr>\n",
       "  </thead>\n",
       "  <tbody>\n",
       "    <tr>\n",
       "      <th>0</th>\n",
       "      <td>No</td>\n",
       "      <td>5901</td>\n",
       "    </tr>\n",
       "    <tr>\n",
       "      <th>1</th>\n",
       "      <td>Yes</td>\n",
       "      <td>1142</td>\n",
       "    </tr>\n",
       "  </tbody>\n",
       "</table>\n",
       "</div>"
      ],
      "text/plain": [
       "  Senior Citizen  Customer ID\n",
       "0             No         5901\n",
       "1            Yes         1142"
      ]
     },
     "execution_count": 38,
     "metadata": {},
     "output_type": "execute_result"
    }
   ],
   "source": [
    "Senior_citizen = demo_churn_df.groupby('Senior Citizen')['Customer ID'].count()\n",
    "Senior_citizen= Senior_citizen.reset_index()\n",
    "Senior_citizen"
   ]
  },
  {
   "cell_type": "code",
   "execution_count": 39,
   "metadata": {
    "colab": {
     "base_uri": "https://localhost:8080/",
     "height": 444
    },
    "executionInfo": {
     "elapsed": 319,
     "status": "ok",
     "timestamp": 1702915264761,
     "user": {
      "displayName": "Aravind Bhimanathini",
      "userId": "06486059456027652245"
     },
     "user_tz": 300
    },
    "id": "5h_-XIazvTHg",
    "outputId": "d6c21656-303d-4c69-ae9e-28fe39effa7e"
   },
   "outputs": [
    {
     "data": {
      "image/png": "[encoded data removed]",
      "text/plain": [
       "<Figure size 500x500 with 1 Axes>"
      ]
     },
     "metadata": {},
     "output_type": "display_data"
    }
   ],
   "source": [
    "plt.figure(figsize=(5, 5))\n",
    "plt.pie(Senior_citizen['Customer ID'], labels=Senior_citizen['Senior Citizen'], autopct='%1.1f%%',\n",
    "        startangle=90, colors=sns.color_palette('pastel'))\n",
    "sns.set()\n",
    "plt.title('Senior Citizen Proportion')\n",
    "plt.show()"
   ]
  },
  {
   "cell_type": "markdown",
   "metadata": {
    "id": "ss2NbnvPw2t1"
   },
   "source": [
    "The Senior Citizen proportion is very less."
   ]
  },
  {
   "cell_type": "code",
   "execution_count": 40,
   "metadata": {
    "colab": {
     "base_uri": "https://localhost:8080/",
     "height": 480
    },
    "executionInfo": {
     "elapsed": 221,
     "status": "ok",
     "timestamp": 1702915264972,
     "user": {
      "displayName": "Aravind Bhimanathini",
      "userId": "06486059456027652245"
     },
     "user_tz": 300
    },
    "id": "yvQM6ZEQuGQZ",
    "outputId": "72d90cf9-e132-44e0-bc15-479a543fede5"
   },
   "outputs": [
    {
     "data": {
      "image/png": "[encoded data removed]",
      "text/plain": [
       "<Figure size 640x480 with 1 Axes>"
      ]
     },
     "metadata": {},
     "output_type": "display_data"
    }
   ],
   "source": [
    "sns.countplot(x=demo_churn_df['Gender'], hue=demo_churn_df['Churn Label'], data=demo_churn_df)\n",
    "plt.title('Clustered Bar Chart of Gender and churn label')\n",
    "plt.xlabel('Gender')\n",
    "plt.ylabel('Count')\n",
    "plt.show()"
   ]
  },
  {
   "cell_type": "markdown",
   "metadata": {
    "id": "Fz4oZmmcl3cz"
   },
   "source": [
    "There is no relationship between gender and churn label as there are equal proportions of males and females in the both churned and unchurned customers"
   ]
  },
  {
   "cell_type": "code",
   "execution_count": 41,
   "metadata": {
    "colab": {
     "base_uri": "https://localhost:8080/",
     "height": 419
    },
    "executionInfo": {
     "elapsed": 169,
     "status": "ok",
     "timestamp": 1702915265121,
     "user": {
      "displayName": "Aravind Bhimanathini",
      "userId": "06486059456027652245"
     },
     "user_tz": 300
    },
    "id": "h1FYIPOhmhDb",
    "outputId": "abaf4d8b-a114-404d-8305-c353f228573a"
   },
   "outputs": [
    {
     "data": {
      "image/png": "[encoded data removed]",
      "text/plain": [
       "<Figure size 500x400 with 1 Axes>"
      ]
     },
     "metadata": {},
     "output_type": "display_data"
    }
   ],
   "source": [
    "plt.figure(figsize=(5, 4))\n",
    "sns.boxplot(x=demo_churn_df['Churn Label'], y=demo_churn_df['Age'])\n",
    "plt.title('Box Plot of Age by Churn label')\n",
    "plt.xlabel('Churn Label')\n",
    "plt.ylabel('Age')\n",
    "plt.show()"
   ]
  },
  {
   "cell_type": "markdown",
   "metadata": {
    "id": "cErk2_wOnOZk"
   },
   "source": [
    "There is no much difference between average age of those people who have churned and not churned."
   ]
  },
  {
   "cell_type": "code",
   "execution_count": 42,
   "metadata": {
    "colab": {
     "base_uri": "https://localhost:8080/",
     "height": 419
    },
    "executionInfo": {
     "elapsed": 459,
     "status": "ok",
     "timestamp": 1702915265576,
     "user": {
      "displayName": "Aravind Bhimanathini",
      "userId": "06486059456027652245"
     },
     "user_tz": 300
    },
    "id": "HiX6vKopoVOq",
    "outputId": "6e022a44-a108-4ab2-88a9-8d4b3432303a"
   },
   "outputs": [
    {
     "data": {
      "image/png": "[encoded data removed]",
      "text/plain": [
       "<Figure size 500x400 with 1 Axes>"
      ]
     },
     "metadata": {},
     "output_type": "display_data"
    }
   ],
   "source": [
    "plt.figure(figsize=(5, 4))\n",
    "sns.countplot(x=demo_churn_df['Under 30'], hue=demo_churn_df['Churn Label'], data=demo_churn_df)\n",
    "plt.title('Clustered Bar Chart of customers of age under 30 and churn label')\n",
    "plt.xlabel('Under 30')\n",
    "plt.ylabel('Count')\n",
    "plt.show()"
   ]
  },
  {
   "cell_type": "markdown",
   "metadata": {
    "id": "8w8r8CoktFrk"
   },
   "source": [
    "Here you can see that there are less number of customers who are under Age of 30 and haven't churned out."
   ]
  },
  {
   "cell_type": "code",
   "execution_count": 43,
   "metadata": {
    "colab": {
     "base_uri": "https://localhost:8080/",
     "height": 480
    },
    "executionInfo": {
     "elapsed": 346,
     "status": "ok",
     "timestamp": 1702915265910,
     "user": {
      "displayName": "Aravind Bhimanathini",
      "userId": "06486059456027652245"
     },
     "user_tz": 300
    },
    "id": "e_mGBMwYzHpO",
    "outputId": "a00747de-eb4d-408e-903f-78d0d7c2d0e2"
   },
   "outputs": [
    {
     "data": {
      "image/png": "[encoded data removed]",
      "text/plain": [
       "<Figure size 640x480 with 1 Axes>"
      ]
     },
     "metadata": {},
     "output_type": "display_data"
    }
   ],
   "source": [
    "\n",
    "sns.countplot(x=demo_churn_df['Married'], hue=demo_churn_df['Churn Label'], data=demo_churn_df)\n",
    "plt.title('Clustered Bar Chart of marital status of customers and churn label')\n",
    "plt.xlabel('Married')\n",
    "plt.ylabel('Count')\n",
    "plt.show()"
   ]
  },
  {
   "cell_type": "markdown",
   "metadata": {
    "id": "uIkQpo7Vzcom"
   },
   "source": [
    "There is no relationship between Marital status and churn label as there are equal proportions of customers who are married and unmarried in both churned and unchurned customers"
   ]
  },
  {
   "cell_type": "code",
   "execution_count": 44,
   "metadata": {
    "colab": {
     "base_uri": "https://localhost:8080/",
     "height": 480
    },
    "executionInfo": {
     "elapsed": 542,
     "status": "ok",
     "timestamp": 1702915266446,
     "user": {
      "displayName": "Aravind Bhimanathini",
      "userId": "06486059456027652245"
     },
     "user_tz": 300
    },
    "id": "I_LEqd0mzp9c",
    "outputId": "c424140c-c498-47bc-86a3-8964b4032d1e"
   },
   "outputs": [
    {
     "data": {
      "image/png": "[encoded data removed]",
      "text/plain": [
       "<Figure size 640x480 with 1 Axes>"
      ]
     },
     "metadata": {},
     "output_type": "display_data"
    }
   ],
   "source": [
    "sns.countplot(x=demo_churn_df['Dependents'], hue=demo_churn_df['Churn Label'], data=demo_churn_df)\n",
    "plt.title('Relationship between Dependents of customers and churn label')\n",
    "plt.xlabel('Dependents')\n",
    "plt.ylabel('Count')\n",
    "plt.show()"
   ]
  },
  {
   "cell_type": "code",
   "execution_count": 45,
   "metadata": {
    "colab": {
     "base_uri": "https://localhost:8080/"
    },
    "executionInfo": {
     "elapsed": 15,
     "status": "ok",
     "timestamp": 1702915266447,
     "user": {
      "displayName": "Aravind Bhimanathini",
      "userId": "06486059456027652245"
     },
     "user_tz": 300
    },
    "id": "xJlCj3sTA9ZS",
    "outputId": "89dcd3bc-424d-4aae-bf35-e12a7b7a7c70"
   },
   "outputs": [
    {
     "name": "stdout",
     "output_type": "stream",
     "text": [
      "Chi-Square Statistic: 433.7343787644573\n",
      "P-value: 2.5009723998553557e-96\n"
     ]
    }
   ],
   "source": [
    "from scipy.stats import chi2_contingency\n",
    "\n",
    "contingency_table = pd.crosstab(demo_churn_df['Dependents'], demo_churn_df['Churn Label'])\n",
    "chi2, p, _, _ = chi2_contingency(contingency_table)\n",
    "print(f'Chi-Square Statistic: {chi2}\\nP-value: {p}')"
   ]
  },
  {
   "cell_type": "markdown",
   "metadata": {
    "id": "uDKXYNX40m3q"
   },
   "source": [
    "The customers who have churned doesn't have more dependents."
   ]
  },
  {
   "cell_type": "code",
   "execution_count": 46,
   "metadata": {
    "colab": {
     "base_uri": "https://localhost:8080/",
     "height": 419
    },
    "executionInfo": {
     "elapsed": 335,
     "status": "ok",
     "timestamp": 1702915266771,
     "user": {
      "displayName": "Aravind Bhimanathini",
      "userId": "06486059456027652245"
     },
     "user_tz": 300
    },
    "id": "10iFMCIS00CU",
    "outputId": "be8eb782-9dfe-48c6-f3de-e2b18ff9571d"
   },
   "outputs": [
    {
     "data": {
      "image/png": "[encoded data removed]",
      "text/plain": [
       "<Figure size 500x400 with 1 Axes>"
      ]
     },
     "metadata": {},
     "output_type": "display_data"
    }
   ],
   "source": [
    "\n",
    "plt.figure(figsize=(5, 4))\n",
    "sns.boxplot(x=demo_churn_df['Churn Label'], y=demo_churn_df['Number of Dependents'])\n",
    "plt.title('Relationship between Number of Dependents and Churn label')\n",
    "plt.xlabel('Churn Label')\n",
    "plt.ylabel('Number of Dependents')\n",
    "plt.show()"
   ]
  },
  {
   "cell_type": "markdown",
   "metadata": {
    "id": "syK6rn0E1Xx9"
   },
   "source": [
    "The customer who haven't churned have more dependents. It is also evident from the above visual."
   ]
  },
  {
   "cell_type": "markdown",
   "metadata": {
    "id": "nCEPUmBZ2r0f"
   },
   "source": [
    "### Analysis between churn label column and location of a customer"
   ]
  },
  {
   "cell_type": "code",
   "execution_count": 47,
   "metadata": {
    "colab": {
     "base_uri": "https://localhost:8080/",
     "height": 206
    },
    "executionInfo": {
     "elapsed": 69,
     "status": "ok",
     "timestamp": 1702915266771,
     "user": {
      "displayName": "Aravind Bhimanathini",
      "userId": "06486059456027652245"
     },
     "user_tz": 300
    },
    "id": "2TfO8QKIxuGq",
    "outputId": "8f1be528-dc1c-46a5-ef0c-b7c0678792a0"
   },
   "outputs": [
    {
     "data": {
      "text/html": [
       "<div>\n",
       "<style scoped>\n",
       "    .dataframe tbody tr th:only-of-type {\n",
       "        vertical-align: middle;\n",
       "    }\n",
       "\n",
       "    .dataframe tbody tr th {\n",
       "        vertical-align: top;\n",
       "    }\n",
       "\n",
       "    .dataframe thead th {\n",
       "        text-align: right;\n",
       "    }\n",
       "</style>\n",
       "<table border=\"1\" class=\"dataframe\">\n",
       "  <thead>\n",
       "    <tr style=\"text-align: right;\">\n",
       "      <th></th>\n",
       "      <th>Customer ID</th>\n",
       "      <th>Count</th>\n",
       "      <th>Country</th>\n",
       "      <th>State</th>\n",
       "      <th>City</th>\n",
       "      <th>Zip Code</th>\n",
       "      <th>Lat Long</th>\n",
       "      <th>Latitude</th>\n",
       "      <th>Longitude</th>\n",
       "    </tr>\n",
       "  </thead>\n",
       "  <tbody>\n",
       "    <tr>\n",
       "      <th>0</th>\n",
       "      <td>8779-QRDMV</td>\n",
       "      <td>1</td>\n",
       "      <td>United States</td>\n",
       "      <td>California</td>\n",
       "      <td>Los Angeles</td>\n",
       "      <td>90022</td>\n",
       "      <td>34.02381, -118.156582</td>\n",
       "      <td>34.023810</td>\n",
       "      <td>-118.156582</td>\n",
       "    </tr>\n",
       "    <tr>\n",
       "      <th>1</th>\n",
       "      <td>7495-OOKFY</td>\n",
       "      <td>1</td>\n",
       "      <td>United States</td>\n",
       "      <td>California</td>\n",
       "      <td>Los Angeles</td>\n",
       "      <td>90063</td>\n",
       "      <td>34.044271, -118.185237</td>\n",
       "      <td>34.044271</td>\n",
       "      <td>-118.185237</td>\n",
       "    </tr>\n",
       "    <tr>\n",
       "      <th>2</th>\n",
       "      <td>1658-BYGOY</td>\n",
       "      <td>1</td>\n",
       "      <td>United States</td>\n",
       "      <td>California</td>\n",
       "      <td>Los Angeles</td>\n",
       "      <td>90065</td>\n",
       "      <td>34.108833, -118.229715</td>\n",
       "      <td>34.108833</td>\n",
       "      <td>-118.229715</td>\n",
       "    </tr>\n",
       "    <tr>\n",
       "      <th>3</th>\n",
       "      <td>4598-XLKNJ</td>\n",
       "      <td>1</td>\n",
       "      <td>United States</td>\n",
       "      <td>California</td>\n",
       "      <td>Inglewood</td>\n",
       "      <td>90303</td>\n",
       "      <td>33.936291, -118.332639</td>\n",
       "      <td>33.936291</td>\n",
       "      <td>-118.332639</td>\n",
       "    </tr>\n",
       "    <tr>\n",
       "      <th>4</th>\n",
       "      <td>4846-WHAFZ</td>\n",
       "      <td>1</td>\n",
       "      <td>United States</td>\n",
       "      <td>California</td>\n",
       "      <td>Whittier</td>\n",
       "      <td>90602</td>\n",
       "      <td>33.972119, -118.020188</td>\n",
       "      <td>33.972119</td>\n",
       "      <td>-118.020188</td>\n",
       "    </tr>\n",
       "  </tbody>\n",
       "</table>\n",
       "</div>"
      ],
      "text/plain": [
       "  Customer ID  Count        Country       State         City  Zip Code  \\\n",
       "0  8779-QRDMV      1  United States  California  Los Angeles     90022   \n",
       "1  7495-OOKFY      1  United States  California  Los Angeles     90063   \n",
       "2  1658-BYGOY      1  United States  California  Los Angeles     90065   \n",
       "3  4598-XLKNJ      1  United States  California    Inglewood     90303   \n",
       "4  4846-WHAFZ      1  United States  California     Whittier     90602   \n",
       "\n",
       "                 Lat Long   Latitude   Longitude  \n",
       "0   34.02381, -118.156582  34.023810 -118.156582  \n",
       "1  34.044271, -118.185237  34.044271 -118.185237  \n",
       "2  34.108833, -118.229715  34.108833 -118.229715  \n",
       "3  33.936291, -118.332639  33.936291 -118.332639  \n",
       "4  33.972119, -118.020188  33.972119 -118.020188  "
      ]
     },
     "execution_count": 47,
     "metadata": {},
     "output_type": "execute_result"
    }
   ],
   "source": [
    "location.head()"
   ]
  },
  {
   "cell_type": "code",
   "execution_count": 48,
   "metadata": {
    "colab": {
     "base_uri": "https://localhost:8080/",
     "height": 81
    },
    "executionInfo": {
     "elapsed": 68,
     "status": "ok",
     "timestamp": 1702915266772,
     "user": {
      "displayName": "Aravind Bhimanathini",
      "userId": "06486059456027652245"
     },
     "user_tz": 300
    },
    "id": "YfUJlnKIaRgQ",
    "outputId": "26122758-6aba-48a1-efdc-af8e54f968d0"
   },
   "outputs": [
    {
     "data": {
      "text/html": [
       "<div>\n",
       "<style scoped>\n",
       "    .dataframe tbody tr th:only-of-type {\n",
       "        vertical-align: middle;\n",
       "    }\n",
       "\n",
       "    .dataframe tbody tr th {\n",
       "        vertical-align: top;\n",
       "    }\n",
       "\n",
       "    .dataframe thead th {\n",
       "        text-align: right;\n",
       "    }\n",
       "</style>\n",
       "<table border=\"1\" class=\"dataframe\">\n",
       "  <thead>\n",
       "    <tr style=\"text-align: right;\">\n",
       "      <th></th>\n",
       "      <th>Country</th>\n",
       "    </tr>\n",
       "  </thead>\n",
       "  <tbody>\n",
       "    <tr>\n",
       "      <th>0</th>\n",
       "      <td>United States</td>\n",
       "    </tr>\n",
       "  </tbody>\n",
       "</table>\n",
       "</div>"
      ],
      "text/plain": [
       "         Country\n",
       "0  United States"
      ]
     },
     "execution_count": 48,
     "metadata": {},
     "output_type": "execute_result"
    }
   ],
   "source": [
    "location[['Country']].drop_duplicates()"
   ]
  },
  {
   "cell_type": "code",
   "execution_count": 49,
   "metadata": {
    "colab": {
     "base_uri": "https://localhost:8080/",
     "height": 81
    },
    "executionInfo": {
     "elapsed": 65,
     "status": "ok",
     "timestamp": 1702915266772,
     "user": {
      "displayName": "Aravind Bhimanathini",
      "userId": "06486059456027652245"
     },
     "user_tz": 300
    },
    "id": "TzXhgqi6abk4",
    "outputId": "687bd1ea-2dc9-4d28-a62a-a30a0a1560bd"
   },
   "outputs": [
    {
     "data": {
      "text/html": [
       "<div>\n",
       "<style scoped>\n",
       "    .dataframe tbody tr th:only-of-type {\n",
       "        vertical-align: middle;\n",
       "    }\n",
       "\n",
       "    .dataframe tbody tr th {\n",
       "        vertical-align: top;\n",
       "    }\n",
       "\n",
       "    .dataframe thead th {\n",
       "        text-align: right;\n",
       "    }\n",
       "</style>\n",
       "<table border=\"1\" class=\"dataframe\">\n",
       "  <thead>\n",
       "    <tr style=\"text-align: right;\">\n",
       "      <th></th>\n",
       "      <th>Count</th>\n",
       "    </tr>\n",
       "  </thead>\n",
       "  <tbody>\n",
       "    <tr>\n",
       "      <th>0</th>\n",
       "      <td>1</td>\n",
       "    </tr>\n",
       "  </tbody>\n",
       "</table>\n",
       "</div>"
      ],
      "text/plain": [
       "   Count\n",
       "0      1"
      ]
     },
     "execution_count": 49,
     "metadata": {},
     "output_type": "execute_result"
    }
   ],
   "source": [
    "location[['Count']].drop_duplicates()"
   ]
  },
  {
   "cell_type": "code",
   "execution_count": 50,
   "metadata": {
    "colab": {
     "base_uri": "https://localhost:8080/",
     "height": 81
    },
    "executionInfo": {
     "elapsed": 64,
     "status": "ok",
     "timestamp": 1702915266773,
     "user": {
      "displayName": "Aravind Bhimanathini",
      "userId": "06486059456027652245"
     },
     "user_tz": 300
    },
    "id": "gS3zWHXcbpu6",
    "outputId": "8e7578a7-36c9-4a28-ecb3-2763e9f72e57"
   },
   "outputs": [
    {
     "data": {
      "text/html": [
       "<div>\n",
       "<style scoped>\n",
       "    .dataframe tbody tr th:only-of-type {\n",
       "        vertical-align: middle;\n",
       "    }\n",
       "\n",
       "    .dataframe tbody tr th {\n",
       "        vertical-align: top;\n",
       "    }\n",
       "\n",
       "    .dataframe thead th {\n",
       "        text-align: right;\n",
       "    }\n",
       "</style>\n",
       "<table border=\"1\" class=\"dataframe\">\n",
       "  <thead>\n",
       "    <tr style=\"text-align: right;\">\n",
       "      <th></th>\n",
       "      <th>State</th>\n",
       "    </tr>\n",
       "  </thead>\n",
       "  <tbody>\n",
       "    <tr>\n",
       "      <th>0</th>\n",
       "      <td>California</td>\n",
       "    </tr>\n",
       "  </tbody>\n",
       "</table>\n",
       "</div>"
      ],
      "text/plain": [
       "        State\n",
       "0  California"
      ]
     },
     "execution_count": 50,
     "metadata": {},
     "output_type": "execute_result"
    }
   ],
   "source": [
    "location[['State']].drop_duplicates()"
   ]
  },
  {
   "cell_type": "code",
   "execution_count": 51,
   "metadata": {
    "colab": {
     "base_uri": "https://localhost:8080/",
     "height": 424
    },
    "executionInfo": {
     "elapsed": 60,
     "status": "ok",
     "timestamp": 1702915266773,
     "user": {
      "displayName": "Aravind Bhimanathini",
      "userId": "06486059456027652245"
     },
     "user_tz": 300
    },
    "id": "xqd7K95KbB7K",
    "outputId": "6fc13efb-a96c-4789-e43e-fb44f5a04a13"
   },
   "outputs": [
    {
     "data": {
      "text/html": [
       "<div>\n",
       "<style scoped>\n",
       "    .dataframe tbody tr th:only-of-type {\n",
       "        vertical-align: middle;\n",
       "    }\n",
       "\n",
       "    .dataframe tbody tr th {\n",
       "        vertical-align: top;\n",
       "    }\n",
       "\n",
       "    .dataframe thead th {\n",
       "        text-align: right;\n",
       "    }\n",
       "</style>\n",
       "<table border=\"1\" class=\"dataframe\">\n",
       "  <thead>\n",
       "    <tr style=\"text-align: right;\">\n",
       "      <th></th>\n",
       "      <th>Customer ID</th>\n",
       "      <th>City</th>\n",
       "      <th>Zip Code</th>\n",
       "    </tr>\n",
       "  </thead>\n",
       "  <tbody>\n",
       "    <tr>\n",
       "      <th>0</th>\n",
       "      <td>8779-QRDMV</td>\n",
       "      <td>Los Angeles</td>\n",
       "      <td>90022</td>\n",
       "    </tr>\n",
       "    <tr>\n",
       "      <th>1</th>\n",
       "      <td>7495-OOKFY</td>\n",
       "      <td>Los Angeles</td>\n",
       "      <td>90063</td>\n",
       "    </tr>\n",
       "    <tr>\n",
       "      <th>2</th>\n",
       "      <td>1658-BYGOY</td>\n",
       "      <td>Los Angeles</td>\n",
       "      <td>90065</td>\n",
       "    </tr>\n",
       "    <tr>\n",
       "      <th>3</th>\n",
       "      <td>4598-XLKNJ</td>\n",
       "      <td>Inglewood</td>\n",
       "      <td>90303</td>\n",
       "    </tr>\n",
       "    <tr>\n",
       "      <th>4</th>\n",
       "      <td>4846-WHAFZ</td>\n",
       "      <td>Whittier</td>\n",
       "      <td>90602</td>\n",
       "    </tr>\n",
       "    <tr>\n",
       "      <th>...</th>\n",
       "      <td>...</td>\n",
       "      <td>...</td>\n",
       "      <td>...</td>\n",
       "    </tr>\n",
       "    <tr>\n",
       "      <th>7038</th>\n",
       "      <td>2569-WGERO</td>\n",
       "      <td>Landers</td>\n",
       "      <td>92285</td>\n",
       "    </tr>\n",
       "    <tr>\n",
       "      <th>7039</th>\n",
       "      <td>6840-RESVB</td>\n",
       "      <td>Adelanto</td>\n",
       "      <td>92301</td>\n",
       "    </tr>\n",
       "    <tr>\n",
       "      <th>7040</th>\n",
       "      <td>2234-XADUH</td>\n",
       "      <td>Amboy</td>\n",
       "      <td>92304</td>\n",
       "    </tr>\n",
       "    <tr>\n",
       "      <th>7041</th>\n",
       "      <td>4801-JZAZL</td>\n",
       "      <td>Angelus Oaks</td>\n",
       "      <td>92305</td>\n",
       "    </tr>\n",
       "    <tr>\n",
       "      <th>7042</th>\n",
       "      <td>3186-AJIEK</td>\n",
       "      <td>Apple Valley</td>\n",
       "      <td>92308</td>\n",
       "    </tr>\n",
       "  </tbody>\n",
       "</table>\n",
       "<p>7043 rows × 3 columns</p>\n",
       "</div>"
      ],
      "text/plain": [
       "     Customer ID          City  Zip Code\n",
       "0     8779-QRDMV   Los Angeles     90022\n",
       "1     7495-OOKFY   Los Angeles     90063\n",
       "2     1658-BYGOY   Los Angeles     90065\n",
       "3     4598-XLKNJ     Inglewood     90303\n",
       "4     4846-WHAFZ      Whittier     90602\n",
       "...          ...           ...       ...\n",
       "7038  2569-WGERO       Landers     92285\n",
       "7039  6840-RESVB      Adelanto     92301\n",
       "7040  2234-XADUH         Amboy     92304\n",
       "7041  4801-JZAZL  Angelus Oaks     92305\n",
       "7042  3186-AJIEK  Apple Valley     92308\n",
       "\n",
       "[7043 rows x 3 columns]"
      ]
     },
     "execution_count": 51,
     "metadata": {},
     "output_type": "execute_result"
    }
   ],
   "source": [
    "location.drop(columns= ['Country', 'Count', 'State', 'Lat Long', \"Latitude\", \"Longitude\"], inplace=True)\n",
    "location"
   ]
  },
  {
   "cell_type": "markdown",
   "metadata": {
    "id": "rx_g_GS4yUeI"
   },
   "source": [
    "Let's join location table with churn label"
   ]
  },
  {
   "cell_type": "code",
   "execution_count": 52,
   "metadata": {
    "colab": {
     "base_uri": "https://localhost:8080/",
     "height": 424
    },
    "executionInfo": {
     "elapsed": 57,
     "status": "ok",
     "timestamp": 1702915266773,
     "user": {
      "displayName": "Aravind Bhimanathini",
      "userId": "06486059456027652245"
     },
     "user_tz": 300
    },
    "id": "298BwA5tXKRY",
    "outputId": "2327c8a9-a7fc-4573-a2e0-9aa52c4b1894"
   },
   "outputs": [
    {
     "data": {
      "text/html": [
       "<div>\n",
       "<style scoped>\n",
       "    .dataframe tbody tr th:only-of-type {\n",
       "        vertical-align: middle;\n",
       "    }\n",
       "\n",
       "    .dataframe tbody tr th {\n",
       "        vertical-align: top;\n",
       "    }\n",
       "\n",
       "    .dataframe thead th {\n",
       "        text-align: right;\n",
       "    }\n",
       "</style>\n",
       "<table border=\"1\" class=\"dataframe\">\n",
       "  <thead>\n",
       "    <tr style=\"text-align: right;\">\n",
       "      <th></th>\n",
       "      <th>Customer ID</th>\n",
       "      <th>City</th>\n",
       "      <th>Zip Code</th>\n",
       "      <th>Churn Label</th>\n",
       "    </tr>\n",
       "  </thead>\n",
       "  <tbody>\n",
       "    <tr>\n",
       "      <th>0</th>\n",
       "      <td>8779-QRDMV</td>\n",
       "      <td>Los Angeles</td>\n",
       "      <td>90022</td>\n",
       "      <td>Yes</td>\n",
       "    </tr>\n",
       "    <tr>\n",
       "      <th>1</th>\n",
       "      <td>7495-OOKFY</td>\n",
       "      <td>Los Angeles</td>\n",
       "      <td>90063</td>\n",
       "      <td>Yes</td>\n",
       "    </tr>\n",
       "    <tr>\n",
       "      <th>2</th>\n",
       "      <td>1658-BYGOY</td>\n",
       "      <td>Los Angeles</td>\n",
       "      <td>90065</td>\n",
       "      <td>Yes</td>\n",
       "    </tr>\n",
       "    <tr>\n",
       "      <th>3</th>\n",
       "      <td>4598-XLKNJ</td>\n",
       "      <td>Inglewood</td>\n",
       "      <td>90303</td>\n",
       "      <td>Yes</td>\n",
       "    </tr>\n",
       "    <tr>\n",
       "      <th>4</th>\n",
       "      <td>4846-WHAFZ</td>\n",
       "      <td>Whittier</td>\n",
       "      <td>90602</td>\n",
       "      <td>Yes</td>\n",
       "    </tr>\n",
       "    <tr>\n",
       "      <th>...</th>\n",
       "      <td>...</td>\n",
       "      <td>...</td>\n",
       "      <td>...</td>\n",
       "      <td>...</td>\n",
       "    </tr>\n",
       "    <tr>\n",
       "      <th>7038</th>\n",
       "      <td>2569-WGERO</td>\n",
       "      <td>Landers</td>\n",
       "      <td>92285</td>\n",
       "      <td>No</td>\n",
       "    </tr>\n",
       "    <tr>\n",
       "      <th>7039</th>\n",
       "      <td>6840-RESVB</td>\n",
       "      <td>Adelanto</td>\n",
       "      <td>92301</td>\n",
       "      <td>No</td>\n",
       "    </tr>\n",
       "    <tr>\n",
       "      <th>7040</th>\n",
       "      <td>2234-XADUH</td>\n",
       "      <td>Amboy</td>\n",
       "      <td>92304</td>\n",
       "      <td>No</td>\n",
       "    </tr>\n",
       "    <tr>\n",
       "      <th>7041</th>\n",
       "      <td>4801-JZAZL</td>\n",
       "      <td>Angelus Oaks</td>\n",
       "      <td>92305</td>\n",
       "      <td>No</td>\n",
       "    </tr>\n",
       "    <tr>\n",
       "      <th>7042</th>\n",
       "      <td>3186-AJIEK</td>\n",
       "      <td>Apple Valley</td>\n",
       "      <td>92308</td>\n",
       "      <td>No</td>\n",
       "    </tr>\n",
       "  </tbody>\n",
       "</table>\n",
       "<p>7043 rows × 4 columns</p>\n",
       "</div>"
      ],
      "text/plain": [
       "     Customer ID          City  Zip Code Churn Label\n",
       "0     8779-QRDMV   Los Angeles     90022         Yes\n",
       "1     7495-OOKFY   Los Angeles     90063         Yes\n",
       "2     1658-BYGOY   Los Angeles     90065         Yes\n",
       "3     4598-XLKNJ     Inglewood     90303         Yes\n",
       "4     4846-WHAFZ      Whittier     90602         Yes\n",
       "...          ...           ...       ...         ...\n",
       "7038  2569-WGERO       Landers     92285          No\n",
       "7039  6840-RESVB      Adelanto     92301          No\n",
       "7040  2234-XADUH         Amboy     92304          No\n",
       "7041  4801-JZAZL  Angelus Oaks     92305          No\n",
       "7042  3186-AJIEK  Apple Valley     92308          No\n",
       "\n",
       "[7043 rows x 4 columns]"
      ]
     },
     "execution_count": 52,
     "metadata": {},
     "output_type": "execute_result"
    }
   ],
   "source": [
    "loc_churn_df = pd.merge(location, churn[['CustomerID', 'Churn Label']], left_on='Customer ID', right_on= 'CustomerID', how='inner')\n",
    "loc_churn_df.drop(columns = ['CustomerID'], axis = 0, inplace = True)\n",
    "loc_churn_df"
   ]
  },
  {
   "cell_type": "markdown",
   "metadata": {
    "id": "wQHnrXXYuYEx"
   },
   "source": [
    "Let's look at top 15 locations from where the customers have churned."
   ]
  },
  {
   "cell_type": "code",
   "execution_count": 53,
   "metadata": {
    "colab": {
     "base_uri": "https://localhost:8080/",
     "height": 520
    },
    "executionInfo": {
     "elapsed": 249,
     "status": "ok",
     "timestamp": 1702915266969,
     "user": {
      "displayName": "Aravind Bhimanathini",
      "userId": "06486059456027652245"
     },
     "user_tz": 300
    },
    "id": "p2H66rhn4CQ5",
    "outputId": "ec0b0ea1-4e29-4f76-ba1e-7b7667bd9f4e"
   },
   "outputs": [
    {
     "data": {
      "text/html": [
       "<div>\n",
       "<style scoped>\n",
       "    .dataframe tbody tr th:only-of-type {\n",
       "        vertical-align: middle;\n",
       "    }\n",
       "\n",
       "    .dataframe tbody tr th {\n",
       "        vertical-align: top;\n",
       "    }\n",
       "\n",
       "    .dataframe thead th {\n",
       "        text-align: right;\n",
       "    }\n",
       "</style>\n",
       "<table border=\"1\" class=\"dataframe\">\n",
       "  <thead>\n",
       "    <tr style=\"text-align: right;\">\n",
       "      <th></th>\n",
       "      <th>City</th>\n",
       "      <th>Churn Label</th>\n",
       "      <th>Customer ID</th>\n",
       "    </tr>\n",
       "  </thead>\n",
       "  <tbody>\n",
       "    <tr>\n",
       "      <th>597</th>\n",
       "      <td>San Diego</td>\n",
       "      <td>Yes</td>\n",
       "      <td>185</td>\n",
       "    </tr>\n",
       "    <tr>\n",
       "      <th>390</th>\n",
       "      <td>Los Angeles</td>\n",
       "      <td>Yes</td>\n",
       "      <td>78</td>\n",
       "    </tr>\n",
       "    <tr>\n",
       "      <th>600</th>\n",
       "      <td>San Francisco</td>\n",
       "      <td>Yes</td>\n",
       "      <td>31</td>\n",
       "    </tr>\n",
       "    <tr>\n",
       "      <th>604</th>\n",
       "      <td>San Jose</td>\n",
       "      <td>Yes</td>\n",
       "      <td>29</td>\n",
       "    </tr>\n",
       "    <tr>\n",
       "      <th>230</th>\n",
       "      <td>Fallbrook</td>\n",
       "      <td>Yes</td>\n",
       "      <td>26</td>\n",
       "    </tr>\n",
       "    <tr>\n",
       "      <th>588</th>\n",
       "      <td>Sacramento</td>\n",
       "      <td>Yes</td>\n",
       "      <td>26</td>\n",
       "    </tr>\n",
       "    <tr>\n",
       "      <th>692</th>\n",
       "      <td>Temecula</td>\n",
       "      <td>Yes</td>\n",
       "      <td>22</td>\n",
       "    </tr>\n",
       "    <tr>\n",
       "      <th>223</th>\n",
       "      <td>Escondido</td>\n",
       "      <td>Yes</td>\n",
       "      <td>16</td>\n",
       "    </tr>\n",
       "    <tr>\n",
       "      <th>385</th>\n",
       "      <td>Long Beach</td>\n",
       "      <td>Yes</td>\n",
       "      <td>15</td>\n",
       "    </tr>\n",
       "    <tr>\n",
       "      <th>477</th>\n",
       "      <td>Oakland</td>\n",
       "      <td>Yes</td>\n",
       "      <td>13</td>\n",
       "    </tr>\n",
       "    <tr>\n",
       "      <th>264</th>\n",
       "      <td>Glendale</td>\n",
       "      <td>Yes</td>\n",
       "      <td>13</td>\n",
       "    </tr>\n",
       "    <tr>\n",
       "      <th>251</th>\n",
       "      <td>Fresno</td>\n",
       "      <td>Yes</td>\n",
       "      <td>13</td>\n",
       "    </tr>\n",
       "    <tr>\n",
       "      <th>670</th>\n",
       "      <td>Stockton</td>\n",
       "      <td>Yes</td>\n",
       "      <td>12</td>\n",
       "    </tr>\n",
       "    <tr>\n",
       "      <th>432</th>\n",
       "      <td>Modesto</td>\n",
       "      <td>Yes</td>\n",
       "      <td>12</td>\n",
       "    </tr>\n",
       "    <tr>\n",
       "      <th>628</th>\n",
       "      <td>Santa Rosa</td>\n",
       "      <td>Yes</td>\n",
       "      <td>11</td>\n",
       "    </tr>\n",
       "  </tbody>\n",
       "</table>\n",
       "</div>"
      ],
      "text/plain": [
       "              City Churn Label  Customer ID\n",
       "597      San Diego         Yes          185\n",
       "390    Los Angeles         Yes           78\n",
       "600  San Francisco         Yes           31\n",
       "604       San Jose         Yes           29\n",
       "230      Fallbrook         Yes           26\n",
       "588     Sacramento         Yes           26\n",
       "692       Temecula         Yes           22\n",
       "223      Escondido         Yes           16\n",
       "385     Long Beach         Yes           15\n",
       "477        Oakland         Yes           13\n",
       "264       Glendale         Yes           13\n",
       "251         Fresno         Yes           13\n",
       "670       Stockton         Yes           12\n",
       "432        Modesto         Yes           12\n",
       "628     Santa Rosa         Yes           11"
      ]
     },
     "execution_count": 53,
     "metadata": {},
     "output_type": "execute_result"
    }
   ],
   "source": [
    "city_churn_count = loc_churn_df[loc_churn_df['Churn Label']=='Yes'].groupby(['City', 'Churn Label'])[\"Customer ID\"].count()\n",
    "city_churn_count = city_churn_count.reset_index()\n",
    "city_churn_count.sort_values(by='Customer ID', ascending= False, inplace= True)\n",
    "city_churn_count.head(15)"
   ]
  },
  {
   "cell_type": "markdown",
   "metadata": {
    "id": "xbJOZC4duvK-"
   },
   "source": [
    "Lets look at top 15 locations from where the customer churn count is less"
   ]
  },
  {
   "cell_type": "code",
   "execution_count": 54,
   "metadata": {
    "colab": {
     "base_uri": "https://localhost:8080/",
     "height": 520
    },
    "executionInfo": {
     "elapsed": 247,
     "status": "ok",
     "timestamp": 1702915266972,
     "user": {
      "displayName": "Aravind Bhimanathini",
      "userId": "06486059456027652245"
     },
     "user_tz": 300
    },
    "id": "kTIY-6mes3Eu",
    "outputId": "8a8fc0f2-d806-417c-e64c-b34ba6c3c817"
   },
   "outputs": [
    {
     "data": {
      "text/html": [
       "<div>\n",
       "<style scoped>\n",
       "    .dataframe tbody tr th:only-of-type {\n",
       "        vertical-align: middle;\n",
       "    }\n",
       "\n",
       "    .dataframe tbody tr th {\n",
       "        vertical-align: top;\n",
       "    }\n",
       "\n",
       "    .dataframe thead th {\n",
       "        text-align: right;\n",
       "    }\n",
       "</style>\n",
       "<table border=\"1\" class=\"dataframe\">\n",
       "  <thead>\n",
       "    <tr style=\"text-align: right;\">\n",
       "      <th></th>\n",
       "      <th>City</th>\n",
       "      <th>Churn Label</th>\n",
       "      <th>Customer ID</th>\n",
       "    </tr>\n",
       "  </thead>\n",
       "  <tbody>\n",
       "    <tr>\n",
       "      <th>551</th>\n",
       "      <td>Los Angeles</td>\n",
       "      <td>No</td>\n",
       "      <td>215</td>\n",
       "    </tr>\n",
       "    <tr>\n",
       "      <th>850</th>\n",
       "      <td>San Diego</td>\n",
       "      <td>No</td>\n",
       "      <td>100</td>\n",
       "    </tr>\n",
       "    <tr>\n",
       "      <th>859</th>\n",
       "      <td>San Jose</td>\n",
       "      <td>No</td>\n",
       "      <td>83</td>\n",
       "    </tr>\n",
       "    <tr>\n",
       "      <th>836</th>\n",
       "      <td>Sacramento</td>\n",
       "      <td>No</td>\n",
       "      <td>82</td>\n",
       "    </tr>\n",
       "    <tr>\n",
       "      <th>853</th>\n",
       "      <td>San Francisco</td>\n",
       "      <td>No</td>\n",
       "      <td>73</td>\n",
       "    </tr>\n",
       "    <tr>\n",
       "      <th>349</th>\n",
       "      <td>Fresno</td>\n",
       "      <td>No</td>\n",
       "      <td>48</td>\n",
       "    </tr>\n",
       "    <tr>\n",
       "      <th>545</th>\n",
       "      <td>Long Beach</td>\n",
       "      <td>No</td>\n",
       "      <td>45</td>\n",
       "    </tr>\n",
       "    <tr>\n",
       "      <th>687</th>\n",
       "      <td>Oakland</td>\n",
       "      <td>No</td>\n",
       "      <td>39</td>\n",
       "    </tr>\n",
       "    <tr>\n",
       "      <th>56</th>\n",
       "      <td>Bakersfield</td>\n",
       "      <td>No</td>\n",
       "      <td>37</td>\n",
       "    </tr>\n",
       "    <tr>\n",
       "      <th>304</th>\n",
       "      <td>Escondido</td>\n",
       "      <td>No</td>\n",
       "      <td>35</td>\n",
       "    </tr>\n",
       "    <tr>\n",
       "      <th>951</th>\n",
       "      <td>Stockton</td>\n",
       "      <td>No</td>\n",
       "      <td>32</td>\n",
       "    </tr>\n",
       "    <tr>\n",
       "      <th>366</th>\n",
       "      <td>Glendale</td>\n",
       "      <td>No</td>\n",
       "      <td>27</td>\n",
       "    </tr>\n",
       "    <tr>\n",
       "      <th>1065</th>\n",
       "      <td>Whittier</td>\n",
       "      <td>No</td>\n",
       "      <td>25</td>\n",
       "    </tr>\n",
       "    <tr>\n",
       "      <th>825</th>\n",
       "      <td>Riverside</td>\n",
       "      <td>No</td>\n",
       "      <td>24</td>\n",
       "    </tr>\n",
       "    <tr>\n",
       "      <th>74</th>\n",
       "      <td>Berkeley</td>\n",
       "      <td>No</td>\n",
       "      <td>23</td>\n",
       "    </tr>\n",
       "  </tbody>\n",
       "</table>\n",
       "</div>"
      ],
      "text/plain": [
       "               City Churn Label  Customer ID\n",
       "551     Los Angeles          No          215\n",
       "850       San Diego          No          100\n",
       "859        San Jose          No           83\n",
       "836      Sacramento          No           82\n",
       "853   San Francisco          No           73\n",
       "349          Fresno          No           48\n",
       "545      Long Beach          No           45\n",
       "687         Oakland          No           39\n",
       "56      Bakersfield          No           37\n",
       "304       Escondido          No           35\n",
       "951        Stockton          No           32\n",
       "366        Glendale          No           27\n",
       "1065       Whittier          No           25\n",
       "825       Riverside          No           24\n",
       "74         Berkeley          No           23"
      ]
     },
     "execution_count": 54,
     "metadata": {},
     "output_type": "execute_result"
    }
   ],
   "source": [
    "city_not_churn_count = loc_churn_df[loc_churn_df['Churn Label']=='No'].groupby(['City', 'Churn Label'])[\"Customer ID\"].count()\n",
    "city_not_churn_count = city_not_churn_count.reset_index()\n",
    "city_not_churn_count.sort_values(by='Customer ID', ascending= False, inplace= True)\n",
    "city_not_churn_count.head(15)"
   ]
  },
  {
   "cell_type": "markdown",
   "metadata": {
    "id": "TLmFBuyHvwdD"
   },
   "source": [
    "Different cities rank first in both the churn location list and the non-churn location list. So the location could be one of the feature that is influencing the churning out of customers."
   ]
  },
  {
   "cell_type": "code",
   "execution_count": 55,
   "metadata": {
    "colab": {
     "base_uri": "https://localhost:8080/",
     "height": 206
    },
    "executionInfo": {
     "elapsed": 34,
     "status": "ok",
     "timestamp": 1702915266973,
     "user": {
      "displayName": "Aravind Bhimanathini",
      "userId": "06486059456027652245"
     },
     "user_tz": 300
    },
    "id": "OvxpTwtBN2Vm",
    "outputId": "5c80c097-adf8-4780-ba6b-88ec5792d283"
   },
   "outputs": [
    {
     "data": {
      "text/html": [
       "<div>\n",
       "<style scoped>\n",
       "    .dataframe tbody tr th:only-of-type {\n",
       "        vertical-align: middle;\n",
       "    }\n",
       "\n",
       "    .dataframe tbody tr th {\n",
       "        vertical-align: top;\n",
       "    }\n",
       "\n",
       "    .dataframe thead th {\n",
       "        text-align: right;\n",
       "    }\n",
       "</style>\n",
       "<table border=\"1\" class=\"dataframe\">\n",
       "  <thead>\n",
       "    <tr style=\"text-align: right;\">\n",
       "      <th></th>\n",
       "      <th>ID</th>\n",
       "      <th>Zip Code</th>\n",
       "      <th>Population</th>\n",
       "    </tr>\n",
       "  </thead>\n",
       "  <tbody>\n",
       "    <tr>\n",
       "      <th>0</th>\n",
       "      <td>1</td>\n",
       "      <td>90001</td>\n",
       "      <td>54492</td>\n",
       "    </tr>\n",
       "    <tr>\n",
       "      <th>1</th>\n",
       "      <td>2</td>\n",
       "      <td>90002</td>\n",
       "      <td>44586</td>\n",
       "    </tr>\n",
       "    <tr>\n",
       "      <th>2</th>\n",
       "      <td>3</td>\n",
       "      <td>90003</td>\n",
       "      <td>58198</td>\n",
       "    </tr>\n",
       "    <tr>\n",
       "      <th>3</th>\n",
       "      <td>4</td>\n",
       "      <td>90004</td>\n",
       "      <td>67852</td>\n",
       "    </tr>\n",
       "    <tr>\n",
       "      <th>4</th>\n",
       "      <td>5</td>\n",
       "      <td>90005</td>\n",
       "      <td>43019</td>\n",
       "    </tr>\n",
       "  </tbody>\n",
       "</table>\n",
       "</div>"
      ],
      "text/plain": [
       "   ID  Zip Code  Population\n",
       "0   1     90001       54492\n",
       "1   2     90002       44586\n",
       "2   3     90003       58198\n",
       "3   4     90004       67852\n",
       "4   5     90005       43019"
      ]
     },
     "execution_count": 55,
     "metadata": {},
     "output_type": "execute_result"
    }
   ],
   "source": [
    "population.head()"
   ]
  },
  {
   "cell_type": "markdown",
   "metadata": {
    "id": "tfXLPIdPOQQA"
   },
   "source": [
    "Population table has zip codes and population which are nothing related to churn so no need of adding this column to master table.\n"
   ]
  },
  {
   "cell_type": "markdown",
   "metadata": {
    "id": "zg5sjHR_zuI5"
   },
   "source": [
    "### Analysis between churn label column and services opted by a customer"
   ]
  },
  {
   "cell_type": "code",
   "execution_count": 56,
   "metadata": {
    "colab": {
     "base_uri": "https://localhost:8080/",
     "height": 412
    },
    "executionInfo": {
     "elapsed": 32,
     "status": "ok",
     "timestamp": 1702915266973,
     "user": {
      "displayName": "Aravind Bhimanathini",
      "userId": "06486059456027652245"
     },
     "user_tz": 300
    },
    "id": "BCLIdWH5OOtH",
    "outputId": "2b9e7b5b-f4f0-46c1-b162-079a24bd842d"
   },
   "outputs": [
    {
     "data": {
      "text/html": [
       "<div>\n",
       "<style scoped>\n",
       "    .dataframe tbody tr th:only-of-type {\n",
       "        vertical-align: middle;\n",
       "    }\n",
       "\n",
       "    .dataframe tbody tr th {\n",
       "        vertical-align: top;\n",
       "    }\n",
       "\n",
       "    .dataframe thead th {\n",
       "        text-align: right;\n",
       "    }\n",
       "</style>\n",
       "<table border=\"1\" class=\"dataframe\">\n",
       "  <thead>\n",
       "    <tr style=\"text-align: right;\">\n",
       "      <th></th>\n",
       "      <th>Customer ID</th>\n",
       "      <th>Count</th>\n",
       "      <th>Quarter</th>\n",
       "      <th>Referred a Friend</th>\n",
       "      <th>Number of Referrals</th>\n",
       "      <th>Tenure in Months</th>\n",
       "      <th>Offer</th>\n",
       "      <th>Phone Service</th>\n",
       "      <th>Avg Monthly Long Distance Charges</th>\n",
       "      <th>Multiple Lines</th>\n",
       "      <th>...</th>\n",
       "      <th>Unlimited Data</th>\n",
       "      <th>Contract</th>\n",
       "      <th>Paperless Billing</th>\n",
       "      <th>Payment Method</th>\n",
       "      <th>Monthly Charge</th>\n",
       "      <th>Total Charges</th>\n",
       "      <th>Total Refunds</th>\n",
       "      <th>Total Extra Data Charges</th>\n",
       "      <th>Total Long Distance Charges</th>\n",
       "      <th>Total Revenue</th>\n",
       "    </tr>\n",
       "  </thead>\n",
       "  <tbody>\n",
       "    <tr>\n",
       "      <th>0</th>\n",
       "      <td>8779-QRDMV</td>\n",
       "      <td>1</td>\n",
       "      <td>Q3</td>\n",
       "      <td>No</td>\n",
       "      <td>0</td>\n",
       "      <td>1</td>\n",
       "      <td>None</td>\n",
       "      <td>No</td>\n",
       "      <td>0.00</td>\n",
       "      <td>No</td>\n",
       "      <td>...</td>\n",
       "      <td>No</td>\n",
       "      <td>Month-to-Month</td>\n",
       "      <td>Yes</td>\n",
       "      <td>Bank Withdrawal</td>\n",
       "      <td>39.65</td>\n",
       "      <td>39.65</td>\n",
       "      <td>0.00</td>\n",
       "      <td>20</td>\n",
       "      <td>0.00</td>\n",
       "      <td>59.65</td>\n",
       "    </tr>\n",
       "    <tr>\n",
       "      <th>1</th>\n",
       "      <td>7495-OOKFY</td>\n",
       "      <td>1</td>\n",
       "      <td>Q3</td>\n",
       "      <td>Yes</td>\n",
       "      <td>1</td>\n",
       "      <td>8</td>\n",
       "      <td>Offer E</td>\n",
       "      <td>Yes</td>\n",
       "      <td>48.85</td>\n",
       "      <td>Yes</td>\n",
       "      <td>...</td>\n",
       "      <td>Yes</td>\n",
       "      <td>Month-to-Month</td>\n",
       "      <td>Yes</td>\n",
       "      <td>Credit Card</td>\n",
       "      <td>80.65</td>\n",
       "      <td>633.30</td>\n",
       "      <td>0.00</td>\n",
       "      <td>0</td>\n",
       "      <td>390.80</td>\n",
       "      <td>1024.10</td>\n",
       "    </tr>\n",
       "    <tr>\n",
       "      <th>2</th>\n",
       "      <td>1658-BYGOY</td>\n",
       "      <td>1</td>\n",
       "      <td>Q3</td>\n",
       "      <td>No</td>\n",
       "      <td>0</td>\n",
       "      <td>18</td>\n",
       "      <td>Offer D</td>\n",
       "      <td>Yes</td>\n",
       "      <td>11.33</td>\n",
       "      <td>Yes</td>\n",
       "      <td>...</td>\n",
       "      <td>Yes</td>\n",
       "      <td>Month-to-Month</td>\n",
       "      <td>Yes</td>\n",
       "      <td>Bank Withdrawal</td>\n",
       "      <td>95.45</td>\n",
       "      <td>1752.55</td>\n",
       "      <td>45.61</td>\n",
       "      <td>0</td>\n",
       "      <td>203.94</td>\n",
       "      <td>1910.88</td>\n",
       "    </tr>\n",
       "    <tr>\n",
       "      <th>3</th>\n",
       "      <td>4598-XLKNJ</td>\n",
       "      <td>1</td>\n",
       "      <td>Q3</td>\n",
       "      <td>Yes</td>\n",
       "      <td>1</td>\n",
       "      <td>25</td>\n",
       "      <td>Offer C</td>\n",
       "      <td>Yes</td>\n",
       "      <td>19.76</td>\n",
       "      <td>No</td>\n",
       "      <td>...</td>\n",
       "      <td>Yes</td>\n",
       "      <td>Month-to-Month</td>\n",
       "      <td>Yes</td>\n",
       "      <td>Bank Withdrawal</td>\n",
       "      <td>98.50</td>\n",
       "      <td>2514.50</td>\n",
       "      <td>13.43</td>\n",
       "      <td>0</td>\n",
       "      <td>494.00</td>\n",
       "      <td>2995.07</td>\n",
       "    </tr>\n",
       "    <tr>\n",
       "      <th>4</th>\n",
       "      <td>4846-WHAFZ</td>\n",
       "      <td>1</td>\n",
       "      <td>Q3</td>\n",
       "      <td>Yes</td>\n",
       "      <td>1</td>\n",
       "      <td>37</td>\n",
       "      <td>Offer C</td>\n",
       "      <td>Yes</td>\n",
       "      <td>6.33</td>\n",
       "      <td>Yes</td>\n",
       "      <td>...</td>\n",
       "      <td>Yes</td>\n",
       "      <td>Month-to-Month</td>\n",
       "      <td>Yes</td>\n",
       "      <td>Bank Withdrawal</td>\n",
       "      <td>76.50</td>\n",
       "      <td>2868.15</td>\n",
       "      <td>0.00</td>\n",
       "      <td>0</td>\n",
       "      <td>234.21</td>\n",
       "      <td>3102.36</td>\n",
       "    </tr>\n",
       "  </tbody>\n",
       "</table>\n",
       "<p>5 rows × 30 columns</p>\n",
       "</div>"
      ],
      "text/plain": [
       "  Customer ID  Count Quarter Referred a Friend  Number of Referrals  \\\n",
       "0  8779-QRDMV      1      Q3                No                    0   \n",
       "1  7495-OOKFY      1      Q3               Yes                    1   \n",
       "2  1658-BYGOY      1      Q3                No                    0   \n",
       "3  4598-XLKNJ      1      Q3               Yes                    1   \n",
       "4  4846-WHAFZ      1      Q3               Yes                    1   \n",
       "\n",
       "   Tenure in Months    Offer Phone Service  Avg Monthly Long Distance Charges  \\\n",
       "0                 1     None            No                               0.00   \n",
       "1                 8  Offer E           Yes                              48.85   \n",
       "2                18  Offer D           Yes                              11.33   \n",
       "3                25  Offer C           Yes                              19.76   \n",
       "4                37  Offer C           Yes                               6.33   \n",
       "\n",
       "  Multiple Lines  ... Unlimited Data        Contract  Paperless Billing  \\\n",
       "0             No  ...             No  Month-to-Month                Yes   \n",
       "1            Yes  ...            Yes  Month-to-Month                Yes   \n",
       "2            Yes  ...            Yes  Month-to-Month                Yes   \n",
       "3             No  ...            Yes  Month-to-Month                Yes   \n",
       "4            Yes  ...            Yes  Month-to-Month                Yes   \n",
       "\n",
       "    Payment Method Monthly Charge Total Charges Total Refunds  \\\n",
       "0  Bank Withdrawal          39.65         39.65          0.00   \n",
       "1      Credit Card          80.65        633.30          0.00   \n",
       "2  Bank Withdrawal          95.45       1752.55         45.61   \n",
       "3  Bank Withdrawal          98.50       2514.50         13.43   \n",
       "4  Bank Withdrawal          76.50       2868.15          0.00   \n",
       "\n",
       "  Total Extra Data Charges Total Long Distance Charges Total Revenue  \n",
       "0                       20                        0.00         59.65  \n",
       "1                        0                      390.80       1024.10  \n",
       "2                        0                      203.94       1910.88  \n",
       "3                        0                      494.00       2995.07  \n",
       "4                        0                      234.21       3102.36  \n",
       "\n",
       "[5 rows x 30 columns]"
      ]
     },
     "execution_count": 56,
     "metadata": {},
     "output_type": "execute_result"
    }
   ],
   "source": [
    "services.head()"
   ]
  },
  {
   "cell_type": "code",
   "execution_count": 57,
   "metadata": {
    "colab": {
     "base_uri": "https://localhost:8080/"
    },
    "executionInfo": {
     "elapsed": 30,
     "status": "ok",
     "timestamp": 1702915266974,
     "user": {
      "displayName": "Aravind Bhimanathini",
      "userId": "06486059456027652245"
     },
     "user_tz": 300
    },
    "id": "flBhR8GlRZdZ",
    "outputId": "f7eea743-c078-49b2-f131-90ab9196ca87"
   },
   "outputs": [
    {
     "name": "stdout",
     "output_type": "stream",
     "text": [
      "<class 'pandas.core.frame.DataFrame'>\n",
      "RangeIndex: 7043 entries, 0 to 7042\n",
      "Data columns (total 30 columns):\n",
      " #   Column                             Non-Null Count  Dtype  \n",
      "---  ------                             --------------  -----  \n",
      " 0   Customer ID                        7043 non-null   object \n",
      " 1   Count                              7043 non-null   int64  \n",
      " 2   Quarter                            7043 non-null   object \n",
      " 3   Referred a Friend                  7043 non-null   object \n",
      " 4   Number of Referrals                7043 non-null   int64  \n",
      " 5   Tenure in Months                   7043 non-null   int64  \n",
      " 6   Offer                              7043 non-null   object \n",
      " 7   Phone Service                      7043 non-null   object \n",
      " 8   Avg Monthly Long Distance Charges  7043 non-null   float64\n",
      " 9   Multiple Lines                     7043 non-null   object \n",
      " 10  Internet Service                   7043 non-null   object \n",
      " 11  Internet Type                      7043 non-null   object \n",
      " 12  Avg Monthly GB Download            7043 non-null   int64  \n",
      " 13  Online Security                    7043 non-null   object \n",
      " 14  Online Backup                      7043 non-null   object \n",
      " 15  Device Protection Plan             7043 non-null   object \n",
      " 16  Premium Tech Support               7043 non-null   object \n",
      " 17  Streaming TV                       7043 non-null   object \n",
      " 18  Streaming Movies                   7043 non-null   object \n",
      " 19  Streaming Music                    7043 non-null   object \n",
      " 20  Unlimited Data                     7043 non-null   object \n",
      " 21  Contract                           7043 non-null   object \n",
      " 22  Paperless Billing                  7043 non-null   object \n",
      " 23  Payment Method                     7043 non-null   object \n",
      " 24  Monthly Charge                     7043 non-null   float64\n",
      " 25  Total Charges                      7043 non-null   float64\n",
      " 26  Total Refunds                      7043 non-null   float64\n",
      " 27  Total Extra Data Charges           7043 non-null   int64  \n",
      " 28  Total Long Distance Charges        7043 non-null   float64\n",
      " 29  Total Revenue                      7043 non-null   float64\n",
      "dtypes: float64(6), int64(5), object(19)\n",
      "memory usage: 1.6+ MB\n"
     ]
    }
   ],
   "source": [
    "services.info()"
   ]
  },
  {
   "cell_type": "code",
   "execution_count": 58,
   "metadata": {
    "colab": {
     "base_uri": "https://localhost:8080/",
     "height": 441
    },
    "executionInfo": {
     "elapsed": 230,
     "status": "ok",
     "timestamp": 1702915267178,
     "user": {
      "displayName": "Aravind Bhimanathini",
      "userId": "06486059456027652245"
     },
     "user_tz": 300
    },
    "id": "E6jh4VStSDNY",
    "outputId": "a1b0fa13-f6ac-4b6c-8aa2-072d7bb16fa9"
   },
   "outputs": [
    {
     "data": {
      "text/html": [
       "<div>\n",
       "<style scoped>\n",
       "    .dataframe tbody tr th:only-of-type {\n",
       "        vertical-align: middle;\n",
       "    }\n",
       "\n",
       "    .dataframe tbody tr th {\n",
       "        vertical-align: top;\n",
       "    }\n",
       "\n",
       "    .dataframe thead th {\n",
       "        text-align: right;\n",
       "    }\n",
       "</style>\n",
       "<table border=\"1\" class=\"dataframe\">\n",
       "  <thead>\n",
       "    <tr style=\"text-align: right;\">\n",
       "      <th></th>\n",
       "      <th>Avg Monthly GB Download</th>\n",
       "      <th>Online Security</th>\n",
       "      <th>Online Backup</th>\n",
       "      <th>Device Protection Plan</th>\n",
       "      <th>Premium Tech Support</th>\n",
       "      <th>Streaming TV</th>\n",
       "      <th>Streaming Movies</th>\n",
       "      <th>Streaming Music</th>\n",
       "    </tr>\n",
       "  </thead>\n",
       "  <tbody>\n",
       "    <tr>\n",
       "      <th>0</th>\n",
       "      <td>8</td>\n",
       "      <td>No</td>\n",
       "      <td>No</td>\n",
       "      <td>Yes</td>\n",
       "      <td>No</td>\n",
       "      <td>No</td>\n",
       "      <td>Yes</td>\n",
       "      <td>No</td>\n",
       "    </tr>\n",
       "    <tr>\n",
       "      <th>1</th>\n",
       "      <td>17</td>\n",
       "      <td>No</td>\n",
       "      <td>Yes</td>\n",
       "      <td>No</td>\n",
       "      <td>No</td>\n",
       "      <td>No</td>\n",
       "      <td>No</td>\n",
       "      <td>No</td>\n",
       "    </tr>\n",
       "    <tr>\n",
       "      <th>2</th>\n",
       "      <td>52</td>\n",
       "      <td>No</td>\n",
       "      <td>No</td>\n",
       "      <td>No</td>\n",
       "      <td>No</td>\n",
       "      <td>Yes</td>\n",
       "      <td>Yes</td>\n",
       "      <td>Yes</td>\n",
       "    </tr>\n",
       "    <tr>\n",
       "      <th>3</th>\n",
       "      <td>12</td>\n",
       "      <td>No</td>\n",
       "      <td>Yes</td>\n",
       "      <td>Yes</td>\n",
       "      <td>No</td>\n",
       "      <td>Yes</td>\n",
       "      <td>Yes</td>\n",
       "      <td>No</td>\n",
       "    </tr>\n",
       "    <tr>\n",
       "      <th>4</th>\n",
       "      <td>14</td>\n",
       "      <td>No</td>\n",
       "      <td>No</td>\n",
       "      <td>No</td>\n",
       "      <td>No</td>\n",
       "      <td>No</td>\n",
       "      <td>No</td>\n",
       "      <td>No</td>\n",
       "    </tr>\n",
       "    <tr>\n",
       "      <th>...</th>\n",
       "      <td>...</td>\n",
       "      <td>...</td>\n",
       "      <td>...</td>\n",
       "      <td>...</td>\n",
       "      <td>...</td>\n",
       "      <td>...</td>\n",
       "      <td>...</td>\n",
       "      <td>...</td>\n",
       "    </tr>\n",
       "    <tr>\n",
       "      <th>7038</th>\n",
       "      <td>0</td>\n",
       "      <td>No</td>\n",
       "      <td>No</td>\n",
       "      <td>No</td>\n",
       "      <td>No</td>\n",
       "      <td>No</td>\n",
       "      <td>No</td>\n",
       "      <td>No</td>\n",
       "    </tr>\n",
       "    <tr>\n",
       "      <th>7039</th>\n",
       "      <td>24</td>\n",
       "      <td>Yes</td>\n",
       "      <td>No</td>\n",
       "      <td>Yes</td>\n",
       "      <td>Yes</td>\n",
       "      <td>Yes</td>\n",
       "      <td>Yes</td>\n",
       "      <td>Yes</td>\n",
       "    </tr>\n",
       "    <tr>\n",
       "      <th>7040</th>\n",
       "      <td>59</td>\n",
       "      <td>No</td>\n",
       "      <td>Yes</td>\n",
       "      <td>Yes</td>\n",
       "      <td>No</td>\n",
       "      <td>Yes</td>\n",
       "      <td>Yes</td>\n",
       "      <td>Yes</td>\n",
       "    </tr>\n",
       "    <tr>\n",
       "      <th>7041</th>\n",
       "      <td>17</td>\n",
       "      <td>Yes</td>\n",
       "      <td>No</td>\n",
       "      <td>No</td>\n",
       "      <td>No</td>\n",
       "      <td>No</td>\n",
       "      <td>No</td>\n",
       "      <td>No</td>\n",
       "    </tr>\n",
       "    <tr>\n",
       "      <th>7042</th>\n",
       "      <td>11</td>\n",
       "      <td>Yes</td>\n",
       "      <td>No</td>\n",
       "      <td>Yes</td>\n",
       "      <td>Yes</td>\n",
       "      <td>Yes</td>\n",
       "      <td>Yes</td>\n",
       "      <td>Yes</td>\n",
       "    </tr>\n",
       "  </tbody>\n",
       "</table>\n",
       "<p>7043 rows × 8 columns</p>\n",
       "</div>"
      ],
      "text/plain": [
       "      Avg Monthly GB Download Online Security Online Backup  \\\n",
       "0                           8              No            No   \n",
       "1                          17              No           Yes   \n",
       "2                          52              No            No   \n",
       "3                          12              No           Yes   \n",
       "4                          14              No            No   \n",
       "...                       ...             ...           ...   \n",
       "7038                        0              No            No   \n",
       "7039                       24             Yes            No   \n",
       "7040                       59              No           Yes   \n",
       "7041                       17             Yes            No   \n",
       "7042                       11             Yes            No   \n",
       "\n",
       "     Device Protection Plan Premium Tech Support Streaming TV  \\\n",
       "0                       Yes                   No           No   \n",
       "1                        No                   No           No   \n",
       "2                        No                   No          Yes   \n",
       "3                       Yes                   No          Yes   \n",
       "4                        No                   No           No   \n",
       "...                     ...                  ...          ...   \n",
       "7038                     No                   No           No   \n",
       "7039                    Yes                  Yes          Yes   \n",
       "7040                    Yes                   No          Yes   \n",
       "7041                     No                   No           No   \n",
       "7042                    Yes                  Yes          Yes   \n",
       "\n",
       "     Streaming Movies Streaming Music  \n",
       "0                 Yes              No  \n",
       "1                  No              No  \n",
       "2                 Yes             Yes  \n",
       "3                 Yes              No  \n",
       "4                  No              No  \n",
       "...               ...             ...  \n",
       "7038               No              No  \n",
       "7039              Yes             Yes  \n",
       "7040              Yes             Yes  \n",
       "7041               No              No  \n",
       "7042              Yes             Yes  \n",
       "\n",
       "[7043 rows x 8 columns]"
      ]
     },
     "execution_count": 58,
     "metadata": {},
     "output_type": "execute_result"
    }
   ],
   "source": [
    "services[[\"Avg Monthly GB Download\", \"Online Security\" ,\"Online Backup\",\"Device Protection Plan\",\"Premium Tech Support\",\n",
    "          \"Streaming TV\"  , \"Streaming Movies\" , \"Streaming Music\"]]"
   ]
  },
  {
   "cell_type": "markdown",
   "metadata": {
    "id": "SvHvf6iuQxVW"
   },
   "source": [
    "let's delete some unwanted columns from services table"
   ]
  },
  {
   "cell_type": "code",
   "execution_count": 59,
   "metadata": {
    "executionInfo": {
     "elapsed": 36,
     "status": "ok",
     "timestamp": 1702915267179,
     "user": {
      "displayName": "Aravind Bhimanathini",
      "userId": "06486059456027652245"
     },
     "user_tz": 300
    },
    "id": "-d0QcOxwP3LG"
   },
   "outputs": [],
   "source": [
    "services.drop(columns= ['Count', 'Quarter'], inplace = True)"
   ]
  },
  {
   "cell_type": "markdown",
   "metadata": {
    "id": "fUKC4pZk4nHi"
   },
   "source": [
    "Let's join services table with churn label"
   ]
  },
  {
   "cell_type": "code",
   "execution_count": 60,
   "metadata": {
    "colab": {
     "base_uri": "https://localhost:8080/",
     "height": 687
    },
    "executionInfo": {
     "elapsed": 35,
     "status": "ok",
     "timestamp": 1702915267179,
     "user": {
      "displayName": "Aravind Bhimanathini",
      "userId": "06486059456027652245"
     },
     "user_tz": 300
    },
    "id": "MWrHaRy44ma9",
    "outputId": "f4b6aacc-79d3-45c5-a9aa-ba00c99dc8db"
   },
   "outputs": [
    {
     "data": {
      "text/html": [
       "<div>\n",
       "<style scoped>\n",
       "    .dataframe tbody tr th:only-of-type {\n",
       "        vertical-align: middle;\n",
       "    }\n",
       "\n",
       "    .dataframe tbody tr th {\n",
       "        vertical-align: top;\n",
       "    }\n",
       "\n",
       "    .dataframe thead th {\n",
       "        text-align: right;\n",
       "    }\n",
       "</style>\n",
       "<table border=\"1\" class=\"dataframe\">\n",
       "  <thead>\n",
       "    <tr style=\"text-align: right;\">\n",
       "      <th></th>\n",
       "      <th>Customer ID</th>\n",
       "      <th>Referred a Friend</th>\n",
       "      <th>Number of Referrals</th>\n",
       "      <th>Tenure in Months</th>\n",
       "      <th>Offer</th>\n",
       "      <th>Phone Service</th>\n",
       "      <th>Avg Monthly Long Distance Charges</th>\n",
       "      <th>Multiple Lines</th>\n",
       "      <th>Internet Service</th>\n",
       "      <th>Internet Type</th>\n",
       "      <th>...</th>\n",
       "      <th>Contract</th>\n",
       "      <th>Paperless Billing</th>\n",
       "      <th>Payment Method</th>\n",
       "      <th>Monthly Charge</th>\n",
       "      <th>Total Charges</th>\n",
       "      <th>Total Refunds</th>\n",
       "      <th>Total Extra Data Charges</th>\n",
       "      <th>Total Long Distance Charges</th>\n",
       "      <th>Total Revenue</th>\n",
       "      <th>Churn Label</th>\n",
       "    </tr>\n",
       "  </thead>\n",
       "  <tbody>\n",
       "    <tr>\n",
       "      <th>0</th>\n",
       "      <td>8779-QRDMV</td>\n",
       "      <td>No</td>\n",
       "      <td>0</td>\n",
       "      <td>1</td>\n",
       "      <td>None</td>\n",
       "      <td>No</td>\n",
       "      <td>0.00</td>\n",
       "      <td>No</td>\n",
       "      <td>Yes</td>\n",
       "      <td>DSL</td>\n",
       "      <td>...</td>\n",
       "      <td>Month-to-Month</td>\n",
       "      <td>Yes</td>\n",
       "      <td>Bank Withdrawal</td>\n",
       "      <td>39.65</td>\n",
       "      <td>39.65</td>\n",
       "      <td>0.00</td>\n",
       "      <td>20</td>\n",
       "      <td>0.00</td>\n",
       "      <td>59.65</td>\n",
       "      <td>Yes</td>\n",
       "    </tr>\n",
       "    <tr>\n",
       "      <th>1</th>\n",
       "      <td>7495-OOKFY</td>\n",
       "      <td>Yes</td>\n",
       "      <td>1</td>\n",
       "      <td>8</td>\n",
       "      <td>Offer E</td>\n",
       "      <td>Yes</td>\n",
       "      <td>48.85</td>\n",
       "      <td>Yes</td>\n",
       "      <td>Yes</td>\n",
       "      <td>Fiber Optic</td>\n",
       "      <td>...</td>\n",
       "      <td>Month-to-Month</td>\n",
       "      <td>Yes</td>\n",
       "      <td>Credit Card</td>\n",
       "      <td>80.65</td>\n",
       "      <td>633.30</td>\n",
       "      <td>0.00</td>\n",
       "      <td>0</td>\n",
       "      <td>390.80</td>\n",
       "      <td>1024.10</td>\n",
       "      <td>Yes</td>\n",
       "    </tr>\n",
       "    <tr>\n",
       "      <th>2</th>\n",
       "      <td>1658-BYGOY</td>\n",
       "      <td>No</td>\n",
       "      <td>0</td>\n",
       "      <td>18</td>\n",
       "      <td>Offer D</td>\n",
       "      <td>Yes</td>\n",
       "      <td>11.33</td>\n",
       "      <td>Yes</td>\n",
       "      <td>Yes</td>\n",
       "      <td>Fiber Optic</td>\n",
       "      <td>...</td>\n",
       "      <td>Month-to-Month</td>\n",
       "      <td>Yes</td>\n",
       "      <td>Bank Withdrawal</td>\n",
       "      <td>95.45</td>\n",
       "      <td>1752.55</td>\n",
       "      <td>45.61</td>\n",
       "      <td>0</td>\n",
       "      <td>203.94</td>\n",
       "      <td>1910.88</td>\n",
       "      <td>Yes</td>\n",
       "    </tr>\n",
       "    <tr>\n",
       "      <th>3</th>\n",
       "      <td>4598-XLKNJ</td>\n",
       "      <td>Yes</td>\n",
       "      <td>1</td>\n",
       "      <td>25</td>\n",
       "      <td>Offer C</td>\n",
       "      <td>Yes</td>\n",
       "      <td>19.76</td>\n",
       "      <td>No</td>\n",
       "      <td>Yes</td>\n",
       "      <td>Fiber Optic</td>\n",
       "      <td>...</td>\n",
       "      <td>Month-to-Month</td>\n",
       "      <td>Yes</td>\n",
       "      <td>Bank Withdrawal</td>\n",
       "      <td>98.50</td>\n",
       "      <td>2514.50</td>\n",
       "      <td>13.43</td>\n",
       "      <td>0</td>\n",
       "      <td>494.00</td>\n",
       "      <td>2995.07</td>\n",
       "      <td>Yes</td>\n",
       "    </tr>\n",
       "    <tr>\n",
       "      <th>4</th>\n",
       "      <td>4846-WHAFZ</td>\n",
       "      <td>Yes</td>\n",
       "      <td>1</td>\n",
       "      <td>37</td>\n",
       "      <td>Offer C</td>\n",
       "      <td>Yes</td>\n",
       "      <td>6.33</td>\n",
       "      <td>Yes</td>\n",
       "      <td>Yes</td>\n",
       "      <td>Fiber Optic</td>\n",
       "      <td>...</td>\n",
       "      <td>Month-to-Month</td>\n",
       "      <td>Yes</td>\n",
       "      <td>Bank Withdrawal</td>\n",
       "      <td>76.50</td>\n",
       "      <td>2868.15</td>\n",
       "      <td>0.00</td>\n",
       "      <td>0</td>\n",
       "      <td>234.21</td>\n",
       "      <td>3102.36</td>\n",
       "      <td>Yes</td>\n",
       "    </tr>\n",
       "    <tr>\n",
       "      <th>...</th>\n",
       "      <td>...</td>\n",
       "      <td>...</td>\n",
       "      <td>...</td>\n",
       "      <td>...</td>\n",
       "      <td>...</td>\n",
       "      <td>...</td>\n",
       "      <td>...</td>\n",
       "      <td>...</td>\n",
       "      <td>...</td>\n",
       "      <td>...</td>\n",
       "      <td>...</td>\n",
       "      <td>...</td>\n",
       "      <td>...</td>\n",
       "      <td>...</td>\n",
       "      <td>...</td>\n",
       "      <td>...</td>\n",
       "      <td>...</td>\n",
       "      <td>...</td>\n",
       "      <td>...</td>\n",
       "      <td>...</td>\n",
       "      <td>...</td>\n",
       "    </tr>\n",
       "    <tr>\n",
       "      <th>7038</th>\n",
       "      <td>2569-WGERO</td>\n",
       "      <td>No</td>\n",
       "      <td>0</td>\n",
       "      <td>72</td>\n",
       "      <td>None</td>\n",
       "      <td>Yes</td>\n",
       "      <td>22.77</td>\n",
       "      <td>No</td>\n",
       "      <td>No</td>\n",
       "      <td>None</td>\n",
       "      <td>...</td>\n",
       "      <td>Two Year</td>\n",
       "      <td>Yes</td>\n",
       "      <td>Bank Withdrawal</td>\n",
       "      <td>21.15</td>\n",
       "      <td>1419.40</td>\n",
       "      <td>19.31</td>\n",
       "      <td>0</td>\n",
       "      <td>1639.44</td>\n",
       "      <td>3039.53</td>\n",
       "      <td>No</td>\n",
       "    </tr>\n",
       "    <tr>\n",
       "      <th>7039</th>\n",
       "      <td>6840-RESVB</td>\n",
       "      <td>Yes</td>\n",
       "      <td>1</td>\n",
       "      <td>24</td>\n",
       "      <td>Offer C</td>\n",
       "      <td>Yes</td>\n",
       "      <td>36.05</td>\n",
       "      <td>Yes</td>\n",
       "      <td>Yes</td>\n",
       "      <td>Cable</td>\n",
       "      <td>...</td>\n",
       "      <td>One Year</td>\n",
       "      <td>Yes</td>\n",
       "      <td>Mailed Check</td>\n",
       "      <td>84.80</td>\n",
       "      <td>1990.50</td>\n",
       "      <td>48.23</td>\n",
       "      <td>0</td>\n",
       "      <td>865.20</td>\n",
       "      <td>2807.47</td>\n",
       "      <td>No</td>\n",
       "    </tr>\n",
       "    <tr>\n",
       "      <th>7040</th>\n",
       "      <td>2234-XADUH</td>\n",
       "      <td>Yes</td>\n",
       "      <td>4</td>\n",
       "      <td>72</td>\n",
       "      <td>None</td>\n",
       "      <td>Yes</td>\n",
       "      <td>29.66</td>\n",
       "      <td>Yes</td>\n",
       "      <td>Yes</td>\n",
       "      <td>Fiber Optic</td>\n",
       "      <td>...</td>\n",
       "      <td>One Year</td>\n",
       "      <td>Yes</td>\n",
       "      <td>Credit Card</td>\n",
       "      <td>103.20</td>\n",
       "      <td>7362.90</td>\n",
       "      <td>45.38</td>\n",
       "      <td>0</td>\n",
       "      <td>2135.52</td>\n",
       "      <td>9453.04</td>\n",
       "      <td>No</td>\n",
       "    </tr>\n",
       "    <tr>\n",
       "      <th>7041</th>\n",
       "      <td>4801-JZAZL</td>\n",
       "      <td>Yes</td>\n",
       "      <td>1</td>\n",
       "      <td>11</td>\n",
       "      <td>None</td>\n",
       "      <td>No</td>\n",
       "      <td>0.00</td>\n",
       "      <td>No</td>\n",
       "      <td>Yes</td>\n",
       "      <td>DSL</td>\n",
       "      <td>...</td>\n",
       "      <td>Month-to-Month</td>\n",
       "      <td>Yes</td>\n",
       "      <td>Bank Withdrawal</td>\n",
       "      <td>29.60</td>\n",
       "      <td>346.45</td>\n",
       "      <td>27.24</td>\n",
       "      <td>0</td>\n",
       "      <td>0.00</td>\n",
       "      <td>319.21</td>\n",
       "      <td>No</td>\n",
       "    </tr>\n",
       "    <tr>\n",
       "      <th>7042</th>\n",
       "      <td>3186-AJIEK</td>\n",
       "      <td>No</td>\n",
       "      <td>0</td>\n",
       "      <td>66</td>\n",
       "      <td>None</td>\n",
       "      <td>Yes</td>\n",
       "      <td>30.96</td>\n",
       "      <td>No</td>\n",
       "      <td>Yes</td>\n",
       "      <td>Fiber Optic</td>\n",
       "      <td>...</td>\n",
       "      <td>Two Year</td>\n",
       "      <td>Yes</td>\n",
       "      <td>Bank Withdrawal</td>\n",
       "      <td>105.65</td>\n",
       "      <td>6844.50</td>\n",
       "      <td>0.00</td>\n",
       "      <td>0</td>\n",
       "      <td>2043.36</td>\n",
       "      <td>8887.86</td>\n",
       "      <td>No</td>\n",
       "    </tr>\n",
       "  </tbody>\n",
       "</table>\n",
       "<p>7043 rows × 29 columns</p>\n",
       "</div>"
      ],
      "text/plain": [
       "     Customer ID Referred a Friend  Number of Referrals  Tenure in Months  \\\n",
       "0     8779-QRDMV                No                    0                 1   \n",
       "1     7495-OOKFY               Yes                    1                 8   \n",
       "2     1658-BYGOY                No                    0                18   \n",
       "3     4598-XLKNJ               Yes                    1                25   \n",
       "4     4846-WHAFZ               Yes                    1                37   \n",
       "...          ...               ...                  ...               ...   \n",
       "7038  2569-WGERO                No                    0                72   \n",
       "7039  6840-RESVB               Yes                    1                24   \n",
       "7040  2234-XADUH               Yes                    4                72   \n",
       "7041  4801-JZAZL               Yes                    1                11   \n",
       "7042  3186-AJIEK                No                    0                66   \n",
       "\n",
       "        Offer Phone Service  Avg Monthly Long Distance Charges Multiple Lines  \\\n",
       "0        None            No                               0.00             No   \n",
       "1     Offer E           Yes                              48.85            Yes   \n",
       "2     Offer D           Yes                              11.33            Yes   \n",
       "3     Offer C           Yes                              19.76             No   \n",
       "4     Offer C           Yes                               6.33            Yes   \n",
       "...       ...           ...                                ...            ...   \n",
       "7038     None           Yes                              22.77             No   \n",
       "7039  Offer C           Yes                              36.05            Yes   \n",
       "7040     None           Yes                              29.66            Yes   \n",
       "7041     None            No                               0.00             No   \n",
       "7042     None           Yes                              30.96             No   \n",
       "\n",
       "     Internet Service Internet Type  ...        Contract Paperless Billing  \\\n",
       "0                 Yes           DSL  ...  Month-to-Month               Yes   \n",
       "1                 Yes   Fiber Optic  ...  Month-to-Month               Yes   \n",
       "2                 Yes   Fiber Optic  ...  Month-to-Month               Yes   \n",
       "3                 Yes   Fiber Optic  ...  Month-to-Month               Yes   \n",
       "4                 Yes   Fiber Optic  ...  Month-to-Month               Yes   \n",
       "...               ...           ...  ...             ...               ...   \n",
       "7038               No          None  ...        Two Year               Yes   \n",
       "7039              Yes         Cable  ...        One Year               Yes   \n",
       "7040              Yes   Fiber Optic  ...        One Year               Yes   \n",
       "7041              Yes           DSL  ...  Month-to-Month               Yes   \n",
       "7042              Yes   Fiber Optic  ...        Two Year               Yes   \n",
       "\n",
       "       Payment Method Monthly Charge Total Charges Total Refunds  \\\n",
       "0     Bank Withdrawal          39.65         39.65          0.00   \n",
       "1         Credit Card          80.65        633.30          0.00   \n",
       "2     Bank Withdrawal          95.45       1752.55         45.61   \n",
       "3     Bank Withdrawal          98.50       2514.50         13.43   \n",
       "4     Bank Withdrawal          76.50       2868.15          0.00   \n",
       "...               ...            ...           ...           ...   \n",
       "7038  Bank Withdrawal          21.15       1419.40         19.31   \n",
       "7039     Mailed Check          84.80       1990.50         48.23   \n",
       "7040      Credit Card         103.20       7362.90         45.38   \n",
       "7041  Bank Withdrawal          29.60        346.45         27.24   \n",
       "7042  Bank Withdrawal         105.65       6844.50          0.00   \n",
       "\n",
       "     Total Extra Data Charges Total Long Distance Charges Total Revenue  \\\n",
       "0                          20                        0.00         59.65   \n",
       "1                           0                      390.80       1024.10   \n",
       "2                           0                      203.94       1910.88   \n",
       "3                           0                      494.00       2995.07   \n",
       "4                           0                      234.21       3102.36   \n",
       "...                       ...                         ...           ...   \n",
       "7038                        0                     1639.44       3039.53   \n",
       "7039                        0                      865.20       2807.47   \n",
       "7040                        0                     2135.52       9453.04   \n",
       "7041                        0                        0.00        319.21   \n",
       "7042                        0                     2043.36       8887.86   \n",
       "\n",
       "     Churn Label  \n",
       "0            Yes  \n",
       "1            Yes  \n",
       "2            Yes  \n",
       "3            Yes  \n",
       "4            Yes  \n",
       "...          ...  \n",
       "7038          No  \n",
       "7039          No  \n",
       "7040          No  \n",
       "7041          No  \n",
       "7042          No  \n",
       "\n",
       "[7043 rows x 29 columns]"
      ]
     },
     "execution_count": 60,
     "metadata": {},
     "output_type": "execute_result"
    }
   ],
   "source": [
    "service_churn_df = pd.merge(services, churn[['CustomerID', 'Churn Label']], left_on='Customer ID', right_on= 'CustomerID', how='inner')\n",
    "service_churn_df.drop(columns = ['CustomerID'], axis = 0, inplace = True)\n",
    "service_churn_df"
   ]
  },
  {
   "cell_type": "code",
   "execution_count": 61,
   "metadata": {
    "colab": {
     "base_uri": "https://localhost:8080/",
     "height": 112
    },
    "executionInfo": {
     "elapsed": 34,
     "status": "ok",
     "timestamp": 1702915267180,
     "user": {
      "displayName": "Aravind Bhimanathini",
      "userId": "06486059456027652245"
     },
     "user_tz": 300
    },
    "id": "ZbegvtefNfaV",
    "outputId": "842481f8-330e-4c03-8cea-3bd4352fcd49"
   },
   "outputs": [
    {
     "data": {
      "text/html": [
       "<div>\n",
       "<style scoped>\n",
       "    .dataframe tbody tr th:only-of-type {\n",
       "        vertical-align: middle;\n",
       "    }\n",
       "\n",
       "    .dataframe tbody tr th {\n",
       "        vertical-align: top;\n",
       "    }\n",
       "\n",
       "    .dataframe thead th {\n",
       "        text-align: right;\n",
       "    }\n",
       "</style>\n",
       "<table border=\"1\" class=\"dataframe\">\n",
       "  <thead>\n",
       "    <tr style=\"text-align: right;\">\n",
       "      <th></th>\n",
       "      <th>Paperless Billing</th>\n",
       "    </tr>\n",
       "  </thead>\n",
       "  <tbody>\n",
       "    <tr>\n",
       "      <th>0</th>\n",
       "      <td>Yes</td>\n",
       "    </tr>\n",
       "    <tr>\n",
       "      <th>9</th>\n",
       "      <td>No</td>\n",
       "    </tr>\n",
       "  </tbody>\n",
       "</table>\n",
       "</div>"
      ],
      "text/plain": [
       "  Paperless Billing\n",
       "0               Yes\n",
       "9                No"
      ]
     },
     "execution_count": 61,
     "metadata": {},
     "output_type": "execute_result"
    }
   ],
   "source": [
    "service_churn_df[['Paperless Billing']].drop_duplicates()"
   ]
  },
  {
   "cell_type": "code",
   "execution_count": 62,
   "metadata": {
    "colab": {
     "base_uri": "https://localhost:8080/"
    },
    "executionInfo": {
     "elapsed": 30,
     "status": "ok",
     "timestamp": 1702915267181,
     "user": {
      "displayName": "Aravind Bhimanathini",
      "userId": "06486059456027652245"
     },
     "user_tz": 300
    },
    "id": "2fGszkFc5elh",
    "outputId": "a72999e4-ed85-4763-f541-c90f3f03631c"
   },
   "outputs": [
    {
     "name": "stdout",
     "output_type": "stream",
     "text": [
      "Chi-Square Statistic: 155.9403419629973\n",
      "P-value: 8.723767916604251e-36\n"
     ]
    }
   ],
   "source": [
    "from scipy.stats import chi2_contingency\n",
    "\n",
    "contingency_table = pd.crosstab(service_churn_df['Referred a Friend'], service_churn_df['Churn Label'])\n",
    "chi2, p, _, _ = chi2_contingency(contingency_table)\n",
    "print(f'Chi-Square Statistic: {chi2}\\nP-value: {p}')"
   ]
  },
  {
   "cell_type": "code",
   "execution_count": 63,
   "metadata": {
    "colab": {
     "base_uri": "https://localhost:8080/",
     "height": 480
    },
    "executionInfo": {
     "elapsed": 738,
     "status": "ok",
     "timestamp": 1702915267891,
     "user": {
      "displayName": "Aravind Bhimanathini",
      "userId": "06486059456027652245"
     },
     "user_tz": 300
    },
    "id": "wG2GyY6f5egA",
    "outputId": "3e98b40a-d2d1-4620-c540-bc325e5d47a4"
   },
   "outputs": [
    {
     "data": {
      "image/png": "[encoded data removed]",
      "text/plain": [
       "<Figure size 640x480 with 1 Axes>"
      ]
     },
     "metadata": {},
     "output_type": "display_data"
    }
   ],
   "source": [
    "sns.countplot(x=service_churn_df['Referred a Friend'], hue=service_churn_df['Churn Label'], data=demo_churn_df)\n",
    "plt.title('Relationship between churn label and churn Refer a friend')\n",
    "plt.xlabel('Referred a Friend')\n",
    "plt.ylabel('Count')\n",
    "plt.show()"
   ]
  },
  {
   "cell_type": "code",
   "execution_count": 64,
   "metadata": {
    "colab": {
     "base_uri": "https://localhost:8080/",
     "height": 419
    },
    "executionInfo": {
     "elapsed": 824,
     "status": "ok",
     "timestamp": 1702915268709,
     "user": {
      "displayName": "Aravind Bhimanathini",
      "userId": "06486059456027652245"
     },
     "user_tz": 300
    },
    "id": "AB4A4MizEHSp",
    "outputId": "f55f6689-8083-4ce6-a1b3-0f61dcbe3db4"
   },
   "outputs": [
    {
     "data": {
      "image/png": "[encoded data removed]",
      "text/plain": [
       "<Figure size 500x400 with 1 Axes>"
      ]
     },
     "metadata": {},
     "output_type": "display_data"
    }
   ],
   "source": [
    "\n",
    "plt.figure(figsize=(5, 4))\n",
    "sns.boxplot(x=service_churn_df['Churn Label'], y=service_churn_df['Number of Referrals'])\n",
    "plt.title('Relationship between Number of referrals and Churn label')\n",
    "plt.xlabel('Churn Label')\n",
    "plt.ylabel('Number of Referrals')\n",
    "plt.show()"
   ]
  },
  {
   "cell_type": "markdown",
   "metadata": {
    "id": "IbgqJ4XpEiri"
   },
   "source": [
    "The customers who are still continuing the subscription have given more referrals than the the customers who have churned out."
   ]
  },
  {
   "cell_type": "code",
   "execution_count": 65,
   "metadata": {
    "colab": {
     "base_uri": "https://localhost:8080/",
     "height": 419
    },
    "executionInfo": {
     "elapsed": 40,
     "status": "ok",
     "timestamp": 1702915268710,
     "user": {
      "displayName": "Aravind Bhimanathini",
      "userId": "06486059456027652245"
     },
     "user_tz": 300
    },
    "id": "-NVBe8EZ_ttI",
    "outputId": "9c247437-910a-4666-bb0e-cf3ddeaa7c85"
   },
   "outputs": [
    {
     "data": {
      "image/png": "[encoded data removed]",
      "text/plain": [
       "<Figure size 500x400 with 1 Axes>"
      ]
     },
     "metadata": {},
     "output_type": "display_data"
    }
   ],
   "source": [
    "\n",
    "plt.figure(figsize=(5, 4))\n",
    "sns.boxplot(x=service_churn_df['Churn Label'], y=service_churn_df['Tenure in Months'])\n",
    "plt.title('Relationship between Tenure in Months and Churn label')\n",
    "plt.xlabel('Churn Label')\n",
    "plt.ylabel('Tenure in Months')\n",
    "plt.show()"
   ]
  },
  {
   "cell_type": "markdown",
   "metadata": {
    "id": "GyZPQkspAN8k"
   },
   "source": [
    "The customers who have churned out have less avg tenure than the customers who are still continuing the subscription."
   ]
  },
  {
   "cell_type": "markdown",
   "metadata": {
    "id": "Rfq4sMVYA3VQ"
   },
   "source": [
    "Lets look at the offers opted by all the customers"
   ]
  },
  {
   "cell_type": "code",
   "execution_count": 66,
   "metadata": {
    "colab": {
     "base_uri": "https://localhost:8080/",
     "height": 238
    },
    "executionInfo": {
     "elapsed": 31,
     "status": "ok",
     "timestamp": 1702915268711,
     "user": {
      "displayName": "Aravind Bhimanathini",
      "userId": "06486059456027652245"
     },
     "user_tz": 300
    },
    "id": "GD1M1aSW2vEd",
    "outputId": "bb802608-8a2e-411b-e482-99b83ea6f17d"
   },
   "outputs": [
    {
     "data": {
      "text/html": [
       "<div>\n",
       "<style scoped>\n",
       "    .dataframe tbody tr th:only-of-type {\n",
       "        vertical-align: middle;\n",
       "    }\n",
       "\n",
       "    .dataframe tbody tr th {\n",
       "        vertical-align: top;\n",
       "    }\n",
       "\n",
       "    .dataframe thead th {\n",
       "        text-align: right;\n",
       "    }\n",
       "</style>\n",
       "<table border=\"1\" class=\"dataframe\">\n",
       "  <thead>\n",
       "    <tr style=\"text-align: right;\">\n",
       "      <th></th>\n",
       "      <th>Offer</th>\n",
       "      <th>Customer ID</th>\n",
       "    </tr>\n",
       "  </thead>\n",
       "  <tbody>\n",
       "    <tr>\n",
       "      <th>0</th>\n",
       "      <td>None</td>\n",
       "      <td>3877</td>\n",
       "    </tr>\n",
       "    <tr>\n",
       "      <th>1</th>\n",
       "      <td>Offer A</td>\n",
       "      <td>520</td>\n",
       "    </tr>\n",
       "    <tr>\n",
       "      <th>2</th>\n",
       "      <td>Offer B</td>\n",
       "      <td>824</td>\n",
       "    </tr>\n",
       "    <tr>\n",
       "      <th>3</th>\n",
       "      <td>Offer C</td>\n",
       "      <td>415</td>\n",
       "    </tr>\n",
       "    <tr>\n",
       "      <th>4</th>\n",
       "      <td>Offer D</td>\n",
       "      <td>602</td>\n",
       "    </tr>\n",
       "    <tr>\n",
       "      <th>5</th>\n",
       "      <td>Offer E</td>\n",
       "      <td>805</td>\n",
       "    </tr>\n",
       "  </tbody>\n",
       "</table>\n",
       "</div>"
      ],
      "text/plain": [
       "     Offer  Customer ID\n",
       "0     None         3877\n",
       "1  Offer A          520\n",
       "2  Offer B          824\n",
       "3  Offer C          415\n",
       "4  Offer D          602\n",
       "5  Offer E          805"
      ]
     },
     "execution_count": 66,
     "metadata": {},
     "output_type": "execute_result"
    }
   ],
   "source": [
    "Offer_type = service_churn_df.groupby('Offer')['Customer ID'].count()\n",
    "Offer_type = Offer_type.reset_index()\n",
    "Offer_type"
   ]
  },
  {
   "cell_type": "code",
   "execution_count": 67,
   "metadata": {
    "colab": {
     "base_uri": "https://localhost:8080/",
     "height": 444
    },
    "executionInfo": {
     "elapsed": 292,
     "status": "ok",
     "timestamp": 1702915268975,
     "user": {
      "displayName": "Aravind Bhimanathini",
      "userId": "06486059456027652245"
     },
     "user_tz": 300
    },
    "id": "11mSpWbA2Trn",
    "outputId": "90484429-cc9c-4634-da83-941fe9ae4081"
   },
   "outputs": [
    {
     "data": {
      "image/png": "[encoded data removed]",
      "text/plain": [
       "<Figure size 500x500 with 1 Axes>"
      ]
     },
     "metadata": {},
     "output_type": "display_data"
    }
   ],
   "source": [
    "plt.figure(figsize=(5, 5))\n",
    "plt.pie(Offer_type['Customer ID'], labels=Offer_type['Offer'], autopct='%1.1f%%',\n",
    "        startangle=90, colors=sns.color_palette('pastel'))\n",
    "sns.set()\n",
    "plt.title('Subscription Offer Proportion')\n",
    "plt.show()"
   ]
  },
  {
   "cell_type": "markdown",
   "metadata": {
    "id": "0PnEGOA53qqz"
   },
   "source": [
    "From the above we can see that Offer B and Offer E are the ones that are most opted by the customers"
   ]
  },
  {
   "cell_type": "code",
   "execution_count": 68,
   "metadata": {
    "colab": {
     "base_uri": "https://localhost:8080/",
     "height": 238
    },
    "executionInfo": {
     "elapsed": 31,
     "status": "ok",
     "timestamp": 1702915268975,
     "user": {
      "displayName": "Aravind Bhimanathini",
      "userId": "06486059456027652245"
     },
     "user_tz": 300
    },
    "id": "iCNjiq1GApNP",
    "outputId": "b3885834-e97d-40e9-b76f-5730cab1b9c5"
   },
   "outputs": [
    {
     "data": {
      "text/html": [
       "<div>\n",
       "<style scoped>\n",
       "    .dataframe tbody tr th:only-of-type {\n",
       "        vertical-align: middle;\n",
       "    }\n",
       "\n",
       "    .dataframe tbody tr th {\n",
       "        vertical-align: top;\n",
       "    }\n",
       "\n",
       "    .dataframe thead th {\n",
       "        text-align: right;\n",
       "    }\n",
       "</style>\n",
       "<table border=\"1\" class=\"dataframe\">\n",
       "  <thead>\n",
       "    <tr style=\"text-align: right;\">\n",
       "      <th></th>\n",
       "      <th>Offer</th>\n",
       "      <th>Customer ID</th>\n",
       "    </tr>\n",
       "  </thead>\n",
       "  <tbody>\n",
       "    <tr>\n",
       "      <th>0</th>\n",
       "      <td>None</td>\n",
       "      <td>1051</td>\n",
       "    </tr>\n",
       "    <tr>\n",
       "      <th>5</th>\n",
       "      <td>Offer E</td>\n",
       "      <td>426</td>\n",
       "    </tr>\n",
       "    <tr>\n",
       "      <th>4</th>\n",
       "      <td>Offer D</td>\n",
       "      <td>161</td>\n",
       "    </tr>\n",
       "    <tr>\n",
       "      <th>2</th>\n",
       "      <td>Offer B</td>\n",
       "      <td>101</td>\n",
       "    </tr>\n",
       "    <tr>\n",
       "      <th>3</th>\n",
       "      <td>Offer C</td>\n",
       "      <td>95</td>\n",
       "    </tr>\n",
       "    <tr>\n",
       "      <th>1</th>\n",
       "      <td>Offer A</td>\n",
       "      <td>35</td>\n",
       "    </tr>\n",
       "  </tbody>\n",
       "</table>\n",
       "</div>"
      ],
      "text/plain": [
       "     Offer  Customer ID\n",
       "0     None         1051\n",
       "5  Offer E          426\n",
       "4  Offer D          161\n",
       "2  Offer B          101\n",
       "3  Offer C           95\n",
       "1  Offer A           35"
      ]
     },
     "execution_count": 68,
     "metadata": {},
     "output_type": "execute_result"
    }
   ],
   "source": [
    "offer_churn_count = service_churn_df[service_churn_df['Churn Label']=='Yes'].groupby(['Offer'])[\"Customer ID\"].count()\n",
    "offer_churn_count = offer_churn_count.reset_index()\n",
    "offer_churn_count.sort_values(by='Customer ID', ascending= False, inplace= True)\n",
    "offer_churn_count"
   ]
  },
  {
   "cell_type": "code",
   "execution_count": 69,
   "metadata": {
    "colab": {
     "base_uri": "https://localhost:8080/",
     "height": 238
    },
    "executionInfo": {
     "elapsed": 29,
     "status": "ok",
     "timestamp": 1702915268976,
     "user": {
      "displayName": "Aravind Bhimanathini",
      "userId": "06486059456027652245"
     },
     "user_tz": 300
    },
    "id": "FV2tiP54BZlT",
    "outputId": "cec4011a-7f34-480e-ad76-2eb281ce0d0f"
   },
   "outputs": [
    {
     "data": {
      "text/html": [
       "<div>\n",
       "<style scoped>\n",
       "    .dataframe tbody tr th:only-of-type {\n",
       "        vertical-align: middle;\n",
       "    }\n",
       "\n",
       "    .dataframe tbody tr th {\n",
       "        vertical-align: top;\n",
       "    }\n",
       "\n",
       "    .dataframe thead th {\n",
       "        text-align: right;\n",
       "    }\n",
       "</style>\n",
       "<table border=\"1\" class=\"dataframe\">\n",
       "  <thead>\n",
       "    <tr style=\"text-align: right;\">\n",
       "      <th></th>\n",
       "      <th>Offer</th>\n",
       "      <th>Customer ID</th>\n",
       "    </tr>\n",
       "  </thead>\n",
       "  <tbody>\n",
       "    <tr>\n",
       "      <th>0</th>\n",
       "      <td>None</td>\n",
       "      <td>2826</td>\n",
       "    </tr>\n",
       "    <tr>\n",
       "      <th>2</th>\n",
       "      <td>Offer B</td>\n",
       "      <td>723</td>\n",
       "    </tr>\n",
       "    <tr>\n",
       "      <th>1</th>\n",
       "      <td>Offer A</td>\n",
       "      <td>485</td>\n",
       "    </tr>\n",
       "    <tr>\n",
       "      <th>4</th>\n",
       "      <td>Offer D</td>\n",
       "      <td>441</td>\n",
       "    </tr>\n",
       "    <tr>\n",
       "      <th>5</th>\n",
       "      <td>Offer E</td>\n",
       "      <td>379</td>\n",
       "    </tr>\n",
       "    <tr>\n",
       "      <th>3</th>\n",
       "      <td>Offer C</td>\n",
       "      <td>320</td>\n",
       "    </tr>\n",
       "  </tbody>\n",
       "</table>\n",
       "</div>"
      ],
      "text/plain": [
       "     Offer  Customer ID\n",
       "0     None         2826\n",
       "2  Offer B          723\n",
       "1  Offer A          485\n",
       "4  Offer D          441\n",
       "5  Offer E          379\n",
       "3  Offer C          320"
      ]
     },
     "execution_count": 69,
     "metadata": {},
     "output_type": "execute_result"
    }
   ],
   "source": [
    "offer_cust_count = service_churn_df[service_churn_df['Churn Label']=='No'].groupby(['Offer'])[\"Customer ID\"].count()\n",
    "offer_cust_count = offer_cust_count.reset_index()\n",
    "offer_cust_count.sort_values(by='Customer ID', ascending= False, inplace= True)\n",
    "offer_cust_count"
   ]
  },
  {
   "cell_type": "markdown",
   "metadata": {
    "id": "N9KwQ-u4BpKF"
   },
   "source": [
    "As you can see above there are variations in the offers opted by the churned and unchurned customers."
   ]
  },
  {
   "cell_type": "code",
   "execution_count": 70,
   "metadata": {
    "colab": {
     "base_uri": "https://localhost:8080/",
     "height": 496
    },
    "executionInfo": {
     "elapsed": 501,
     "status": "ok",
     "timestamp": 1702915269453,
     "user": {
      "displayName": "Aravind Bhimanathini",
      "userId": "06486059456027652245"
     },
     "user_tz": 300
    },
    "id": "g-c7G0fJ13NO",
    "outputId": "0af27af4-f31f-4bfe-e9b4-49d5b41353ce"
   },
   "outputs": [
    {
     "data": {
      "image/png": "[encoded data removed]",
      "text/plain": [
       "<Figure size 500x500 with 1 Axes>"
      ]
     },
     "metadata": {},
     "output_type": "display_data"
    }
   ],
   "source": [
    "plt.figure(figsize=(5, 5))\n",
    "sns.countplot(x=service_churn_df['Offer'], hue=service_churn_df['Churn Label'], data=service_churn_df)\n",
    "plt.title('Relationship between Offer opted by customers and churn label')\n",
    "plt.xlabel('Offer')\n",
    "plt.ylabel('Count')\n",
    "plt.show()"
   ]
  },
  {
   "cell_type": "code",
   "execution_count": 71,
   "metadata": {
    "colab": {
     "base_uri": "https://localhost:8080/",
     "height": 419
    },
    "executionInfo": {
     "elapsed": 323,
     "status": "ok",
     "timestamp": 1702915269764,
     "user": {
      "displayName": "Aravind Bhimanathini",
      "userId": "06486059456027652245"
     },
     "user_tz": 300
    },
    "id": "6Tx3edh-DjiF",
    "outputId": "076f28db-7fec-42b3-8f34-213da9b61164"
   },
   "outputs": [
    {
     "data": {
      "image/png": "[encoded data removed]",
      "text/plain": [
       "<Figure size 500x400 with 1 Axes>"
      ]
     },
     "metadata": {},
     "output_type": "display_data"
    }
   ],
   "source": [
    "plt.figure(figsize=(5, 4))\n",
    "sns.countplot(x=service_churn_df['Phone Service'], hue=service_churn_df['Churn Label'], data=service_churn_df)\n",
    "plt.title('Relationship between Phone Service of customers and churn label')\n",
    "plt.xlabel('Phone Service')\n",
    "plt.ylabel('Count')\n",
    "plt.show()"
   ]
  },
  {
   "cell_type": "markdown",
   "metadata": {
    "id": "ChPx-HsZI9yN"
   },
   "source": [
    "As you can see that the people who have churned are very less in number and have phone service than compared to who are still customer have phone service"
   ]
  },
  {
   "cell_type": "code",
   "execution_count": 72,
   "metadata": {
    "colab": {
     "base_uri": "https://localhost:8080/"
    },
    "executionInfo": {
     "elapsed": 23,
     "status": "ok",
     "timestamp": 1702915269765,
     "user": {
      "displayName": "Aravind Bhimanathini",
      "userId": "06486059456027652245"
     },
     "user_tz": 300
    },
    "id": "0ITiziDfI0qz",
    "outputId": "d8a0ecc3-08ee-402b-cbbd-79b9808e72ad"
   },
   "outputs": [
    {
     "name": "stdout",
     "output_type": "stream",
     "text": [
      "Chi-Square Statistic: 0.9150329892546948\n",
      "P-value: 0.3387825358066928\n"
     ]
    }
   ],
   "source": [
    "from scipy.stats import chi2_contingency\n",
    "\n",
    "contingency_table = pd.crosstab(service_churn_df['Phone Service'], service_churn_df['Churn Label'])\n",
    "chi2, p, _, _ = chi2_contingency(contingency_table)\n",
    "print(f'Chi-Square Statistic: {chi2}\\nP-value: {p}')"
   ]
  },
  {
   "cell_type": "markdown",
   "metadata": {
    "id": "1XXt7UqYK7IQ"
   },
   "source": [
    "Lets look at other charges as well"
   ]
  },
  {
   "cell_type": "code",
   "execution_count": 73,
   "metadata": {
    "colab": {
     "base_uri": "https://localhost:8080/",
     "height": 419
    },
    "executionInfo": {
     "elapsed": 494,
     "status": "ok",
     "timestamp": 1702915270242,
     "user": {
      "displayName": "Aravind Bhimanathini",
      "userId": "06486059456027652245"
     },
     "user_tz": 300
    },
    "id": "SYUq2taPK942",
    "outputId": "09528f4a-0196-4ccf-c660-d7b7f261ddb6"
   },
   "outputs": [
    {
     "data": {
      "image/png": "[encoded data removed]",
      "text/plain": [
       "<Figure size 500x400 with 1 Axes>"
      ]
     },
     "metadata": {},
     "output_type": "display_data"
    }
   ],
   "source": [
    "plt.figure(figsize=(5, 4))\n",
    "sns.countplot(x=service_churn_df['Multiple Lines'], hue=service_churn_df['Churn Label'], data=service_churn_df)\n",
    "plt.title('Relationship between Multiple Lines of customers and churn label')\n",
    "plt.xlabel('Multiple Lines')\n",
    "plt.ylabel('Count')\n",
    "plt.show()"
   ]
  },
  {
   "cell_type": "markdown",
   "metadata": {
    "id": "wjrjI4zKLcx_"
   },
   "source": [
    "There is no big difference between all the customers and the customers who have multiples lines"
   ]
  },
  {
   "cell_type": "code",
   "execution_count": 74,
   "metadata": {
    "colab": {
     "base_uri": "https://localhost:8080/",
     "height": 54
    },
    "executionInfo": {
     "elapsed": 232,
     "status": "ok",
     "timestamp": 1702915270459,
     "user": {
      "displayName": "Aravind Bhimanathini",
      "userId": "06486059456027652245"
     },
     "user_tz": 300
    },
    "id": "r6QFAz74LPwD",
    "outputId": "b06d915d-30cb-472a-9b00-a24104006924"
   },
   "outputs": [
    {
     "data": {
      "image/png": "[encoded data removed]",
      "text/plain": [
       "<Figure size 500x400 with 1 Axes>"
      ]
     },
     "metadata": {},
     "output_type": "display_data"
    }
   ],
   "source": [
    "plt.figure(figsize=(5, 4))\n",
    "sns.countplot(x=service_churn_df['Internet Service'], hue=service_churn_df['Churn Label'], data=service_churn_df)\n",
    "plt.title('Relationship between Internet Service of customers and churn label')\n",
    "plt.xlabel('Internet Service')\n",
    "plt.ylabel('Count')\n",
    "plt.show()"
   ]
  },
  {
   "cell_type": "markdown",
   "metadata": {
    "id": "4EOIjrWJMY0m"
   },
   "source": [
    "The customers who have opted internet service have churned out more than the customer who are still continuing the subscription."
   ]
  },
  {
   "cell_type": "code",
   "execution_count": 75,
   "metadata": {
    "colab": {
     "base_uri": "https://localhost:8080/",
     "height": 54
    },
    "executionInfo": {
     "elapsed": 466,
     "status": "ok",
     "timestamp": 1702915270915,
     "user": {
      "displayName": "Aravind Bhimanathini",
      "userId": "06486059456027652245"
     },
     "user_tz": 300
    },
    "id": "0SGtVcVA4M-O",
    "outputId": "280184c3-ae32-483a-e008-638a872aee3d"
   },
   "outputs": [
    {
     "data": {
      "image/png": "[encoded data removed]",
      "text/plain": [
       "<Figure size 500x400 with 1 Axes>"
      ]
     },
     "metadata": {},
     "output_type": "display_data"
    }
   ],
   "source": [
    "plt.figure(figsize=(5, 4))\n",
    "sns.countplot(x=service_churn_df['Device Protection Plan'], hue=service_churn_df['Churn Label'], data=service_churn_df)\n",
    "plt.title('Relationship between Device Protection Plan and churn label')\n",
    "plt.xlabel('Device Protection Plan')\n",
    "plt.ylabel('Count')\n",
    "plt.show()"
   ]
  },
  {
   "cell_type": "markdown",
   "metadata": {
    "id": "mtSswKeq4nrC"
   },
   "source": [
    "From the above graph we can see that even though there is a device protection plan for customers there are significant amount of customers those have churned."
   ]
  },
  {
   "cell_type": "code",
   "execution_count": 76,
   "metadata": {
    "colab": {
     "base_uri": "https://localhost:8080/",
     "height": 54
    },
    "executionInfo": {
     "elapsed": 504,
     "status": "ok",
     "timestamp": 1702915271408,
     "user": {
      "displayName": "Aravind Bhimanathini",
      "userId": "06486059456027652245"
     },
     "user_tz": 300
    },
    "id": "YVU1zJfN4cYZ",
    "outputId": "d53532de-4c67-4e23-b219-b28d8bfb0783"
   },
   "outputs": [
    {
     "data": {
      "image/png": "[encoded data removed]",
      "text/plain": [
       "<Figure size 500x400 with 1 Axes>"
      ]
     },
     "metadata": {},
     "output_type": "display_data"
    }
   ],
   "source": [
    "plt.figure(figsize=(5, 4))\n",
    "sns.countplot(x=service_churn_df['Premium Tech Support'], hue=service_churn_df['Churn Label'], data=service_churn_df)\n",
    "plt.title('Relationship between Premium Tech Support and churn label')\n",
    "plt.xlabel('Premium Tech Support')\n",
    "plt.ylabel('Count')\n",
    "plt.show()"
   ]
  },
  {
   "cell_type": "markdown",
   "metadata": {
    "id": "DXCSJvrQ45J4"
   },
   "source": [
    "Lack of premium tech support is one of the reason's for customer churn"
   ]
  },
  {
   "cell_type": "code",
   "execution_count": 77,
   "metadata": {
    "colab": {
     "base_uri": "https://localhost:8080/"
    },
    "executionInfo": {
     "elapsed": 21,
     "status": "ok",
     "timestamp": 1702915271409,
     "user": {
      "displayName": "Aravind Bhimanathini",
      "userId": "06486059456027652245"
     },
     "user_tz": 300
    },
    "id": "ZbAmi3k0L7nZ",
    "outputId": "eb1b7466-260f-4609-f57b-bbb1db9cc9fe"
   },
   "outputs": [
    {
     "name": "stdout",
     "output_type": "stream",
     "text": [
      "Chi-Square Statistic: 194.5492167239403\n",
      "P-value: 3.2314344412572294e-44\n"
     ]
    }
   ],
   "source": [
    "from scipy.stats import chi2_contingency\n",
    "\n",
    "contingency_table = pd.crosstab(service_churn_df['Unlimited Data'], service_churn_df['Churn Label'])\n",
    "chi2, p, _, _ = chi2_contingency(contingency_table)\n",
    "print(f'Chi-Square Statistic: {chi2}\\nP-value: {p}')"
   ]
  },
  {
   "cell_type": "code",
   "execution_count": 78,
   "metadata": {
    "colab": {
     "base_uri": "https://localhost:8080/",
     "height": 54
    },
    "executionInfo": {
     "elapsed": 553,
     "status": "ok",
     "timestamp": 1702915271944,
     "user": {
      "displayName": "Aravind Bhimanathini",
      "userId": "06486059456027652245"
     },
     "user_tz": 300
    },
    "id": "WQXzEko1L4of",
    "outputId": "377f94cf-bcca-46d3-c2ee-03ed878834b7"
   },
   "outputs": [
    {
     "data": {
      "image/png": "[encoded data removed]",
      "text/plain": [
       "<Figure size 500x400 with 1 Axes>"
      ]
     },
     "metadata": {},
     "output_type": "display_data"
    }
   ],
   "source": [
    "plt.figure(figsize=(5, 4))\n",
    "sns.countplot(x=service_churn_df['Contract'], hue=service_churn_df['Churn Label'], data=service_churn_df)\n",
    "plt.title('Relationship between Contract and churn label')\n",
    "plt.xlabel('Contract')\n",
    "plt.ylabel('Count')\n",
    "plt.show()"
   ]
  },
  {
   "cell_type": "markdown",
   "metadata": {
    "id": "0MLPzSZENGnh"
   },
   "source": [
    "Here we can see that more customers who have churned out have Month-to-Month charges."
   ]
  },
  {
   "cell_type": "code",
   "execution_count": null,
   "metadata": {
    "executionInfo": {
     "elapsed": 30,
     "status": "ok",
     "timestamp": 1702915271945,
     "user": {
      "displayName": "Aravind Bhimanathini",
      "userId": "06486059456027652245"
     },
     "user_tz": 300
    },
    "id": "R1gxazIH2Kib"
   },
   "outputs": [],
   "source": []
  },
  {
   "cell_type": "code",
   "execution_count": 79,
   "metadata": {
    "colab": {
     "base_uri": "https://localhost:8080/",
     "height": 54
    },
    "executionInfo": {
     "elapsed": 562,
     "status": "ok",
     "timestamp": 1702915272486,
     "user": {
      "displayName": "Aravind Bhimanathini",
      "userId": "06486059456027652245"
     },
     "user_tz": 300
    },
    "id": "wdjVoglFNF_d",
    "outputId": "0051bf19-581e-4453-b4c1-d4a7d4b5e330"
   },
   "outputs": [
    {
     "data": {
      "image/png": "[encoded data removed]",
      "text/plain": [
       "<Figure size 500x400 with 1 Axes>"
      ]
     },
     "metadata": {},
     "output_type": "display_data"
    }
   ],
   "source": [
    "plt.figure(figsize=(5, 4))\n",
    "sns.countplot(x=service_churn_df['Payment Method'], hue=service_churn_df['Churn Label'], data=service_churn_df)\n",
    "plt.title('Relationship between Payment Method  and churn label')\n",
    "plt.xlabel('Payment Method')\n",
    "plt.ylabel('Count')\n",
    "plt.show()"
   ]
  },
  {
   "cell_type": "markdown",
   "metadata": {
    "id": "xK4QbfgoOkea"
   },
   "source": [
    "Here we can see that more customers who have churned out who have opted for bank wihdrawl and credit card payment methods."
   ]
  },
  {
   "cell_type": "markdown",
   "metadata": {
    "id": "sVS5g0pjZ7IZ"
   },
   "source": [
    "### Analysis between churn label column and status opted by a customer"
   ]
  },
  {
   "cell_type": "code",
   "execution_count": 80,
   "metadata": {
    "colab": {
     "base_uri": "https://localhost:8080/",
     "height": 331
    },
    "executionInfo": {
     "elapsed": 27,
     "status": "ok",
     "timestamp": 1702915272487,
     "user": {
      "displayName": "Aravind Bhimanathini",
      "userId": "06486059456027652245"
     },
     "user_tz": 300
    },
    "id": "6JFUeQzjY8q1",
    "outputId": "7890bfa9-6372-4c2d-9e6f-7498220dda9e"
   },
   "outputs": [
    {
     "data": {
      "text/html": [
       "<div>\n",
       "<style scoped>\n",
       "    .dataframe tbody tr th:only-of-type {\n",
       "        vertical-align: middle;\n",
       "    }\n",
       "\n",
       "    .dataframe tbody tr th {\n",
       "        vertical-align: top;\n",
       "    }\n",
       "\n",
       "    .dataframe thead th {\n",
       "        text-align: right;\n",
       "    }\n",
       "</style>\n",
       "<table border=\"1\" class=\"dataframe\">\n",
       "  <thead>\n",
       "    <tr style=\"text-align: right;\">\n",
       "      <th></th>\n",
       "      <th>Customer ID</th>\n",
       "      <th>Count</th>\n",
       "      <th>Quarter</th>\n",
       "      <th>Satisfaction Score</th>\n",
       "      <th>Customer Status</th>\n",
       "      <th>Churn Label</th>\n",
       "      <th>Churn Value</th>\n",
       "      <th>Churn Score</th>\n",
       "      <th>CLTV</th>\n",
       "    </tr>\n",
       "  </thead>\n",
       "  <tbody>\n",
       "    <tr>\n",
       "      <th>0</th>\n",
       "      <td>8779-QRDMV</td>\n",
       "      <td>1</td>\n",
       "      <td>Q3</td>\n",
       "      <td>3</td>\n",
       "      <td>Churned</td>\n",
       "      <td>Yes</td>\n",
       "      <td>1</td>\n",
       "      <td>91</td>\n",
       "      <td>5433</td>\n",
       "    </tr>\n",
       "    <tr>\n",
       "      <th>1</th>\n",
       "      <td>7495-OOKFY</td>\n",
       "      <td>1</td>\n",
       "      <td>Q3</td>\n",
       "      <td>3</td>\n",
       "      <td>Churned</td>\n",
       "      <td>Yes</td>\n",
       "      <td>1</td>\n",
       "      <td>69</td>\n",
       "      <td>5302</td>\n",
       "    </tr>\n",
       "    <tr>\n",
       "      <th>2</th>\n",
       "      <td>1658-BYGOY</td>\n",
       "      <td>1</td>\n",
       "      <td>Q3</td>\n",
       "      <td>2</td>\n",
       "      <td>Churned</td>\n",
       "      <td>Yes</td>\n",
       "      <td>1</td>\n",
       "      <td>81</td>\n",
       "      <td>3179</td>\n",
       "    </tr>\n",
       "    <tr>\n",
       "      <th>3</th>\n",
       "      <td>4598-XLKNJ</td>\n",
       "      <td>1</td>\n",
       "      <td>Q3</td>\n",
       "      <td>2</td>\n",
       "      <td>Churned</td>\n",
       "      <td>Yes</td>\n",
       "      <td>1</td>\n",
       "      <td>88</td>\n",
       "      <td>5337</td>\n",
       "    </tr>\n",
       "    <tr>\n",
       "      <th>4</th>\n",
       "      <td>4846-WHAFZ</td>\n",
       "      <td>1</td>\n",
       "      <td>Q3</td>\n",
       "      <td>2</td>\n",
       "      <td>Churned</td>\n",
       "      <td>Yes</td>\n",
       "      <td>1</td>\n",
       "      <td>67</td>\n",
       "      <td>2793</td>\n",
       "    </tr>\n",
       "  </tbody>\n",
       "</table>\n",
       "</div>"
      ],
      "text/plain": [
       "  Customer ID  Count Quarter  Satisfaction Score Customer Status Churn Label  \\\n",
       "0  8779-QRDMV      1      Q3                   3         Churned         Yes   \n",
       "1  7495-OOKFY      1      Q3                   3         Churned         Yes   \n",
       "2  1658-BYGOY      1      Q3                   2         Churned         Yes   \n",
       "3  4598-XLKNJ      1      Q3                   2         Churned         Yes   \n",
       "4  4846-WHAFZ      1      Q3                   2         Churned         Yes   \n",
       "\n",
       "   Churn Value  Churn Score  CLTV  \n",
       "0            1           91  5433  \n",
       "1            1           69  5302  \n",
       "2            1           81  3179  \n",
       "3            1           88  5337  \n",
       "4            1           67  2793  "
      ]
     },
     "execution_count": 80,
     "metadata": {},
     "output_type": "execute_result"
    }
   ],
   "source": [
    "status.head()"
   ]
  },
  {
   "cell_type": "code",
   "execution_count": 81,
   "metadata": {
    "colab": {
     "base_uri": "https://localhost:8080/",
     "height": 479
    },
    "executionInfo": {
     "elapsed": 24,
     "status": "ok",
     "timestamp": 1702915272488,
     "user": {
      "displayName": "Aravind Bhimanathini",
      "userId": "06486059456027652245"
     },
     "user_tz": 300
    },
    "id": "vvjJ6w2716Nf",
    "outputId": "62c08a1c-5ca1-4405-bc05-fee4e2cb06b4"
   },
   "outputs": [
    {
     "data": {
      "text/html": [
       "<div>\n",
       "<style scoped>\n",
       "    .dataframe tbody tr th:only-of-type {\n",
       "        vertical-align: middle;\n",
       "    }\n",
       "\n",
       "    .dataframe tbody tr th {\n",
       "        vertical-align: top;\n",
       "    }\n",
       "\n",
       "    .dataframe thead th {\n",
       "        text-align: right;\n",
       "    }\n",
       "</style>\n",
       "<table border=\"1\" class=\"dataframe\">\n",
       "  <thead>\n",
       "    <tr style=\"text-align: right;\">\n",
       "      <th></th>\n",
       "      <th>Churn Score</th>\n",
       "    </tr>\n",
       "  </thead>\n",
       "  <tbody>\n",
       "    <tr>\n",
       "      <th>476</th>\n",
       "      <td>38</td>\n",
       "    </tr>\n",
       "    <tr>\n",
       "      <th>477</th>\n",
       "      <td>69</td>\n",
       "    </tr>\n",
       "    <tr>\n",
       "      <th>478</th>\n",
       "      <td>40</td>\n",
       "    </tr>\n",
       "    <tr>\n",
       "      <th>479</th>\n",
       "      <td>52</td>\n",
       "    </tr>\n",
       "    <tr>\n",
       "      <th>480</th>\n",
       "      <td>25</td>\n",
       "    </tr>\n",
       "    <tr>\n",
       "      <th>...</th>\n",
       "      <td>...</td>\n",
       "    </tr>\n",
       "    <tr>\n",
       "      <th>653</th>\n",
       "      <td>43</td>\n",
       "    </tr>\n",
       "    <tr>\n",
       "      <th>674</th>\n",
       "      <td>51</td>\n",
       "    </tr>\n",
       "    <tr>\n",
       "      <th>729</th>\n",
       "      <td>72</td>\n",
       "    </tr>\n",
       "    <tr>\n",
       "      <th>2594</th>\n",
       "      <td>9</td>\n",
       "    </tr>\n",
       "    <tr>\n",
       "      <th>2778</th>\n",
       "      <td>5</td>\n",
       "    </tr>\n",
       "  </tbody>\n",
       "</table>\n",
       "<p>65 rows × 1 columns</p>\n",
       "</div>"
      ],
      "text/plain": [
       "      Churn Score\n",
       "476            38\n",
       "477            69\n",
       "478            40\n",
       "479            52\n",
       "480            25\n",
       "...           ...\n",
       "653            43\n",
       "674            51\n",
       "729            72\n",
       "2594            9\n",
       "2778            5\n",
       "\n",
       "[65 rows x 1 columns]"
      ]
     },
     "execution_count": 81,
     "metadata": {},
     "output_type": "execute_result"
    }
   ],
   "source": [
    "status[status['Churn Value']==0][['Churn Score']].drop_duplicates()"
   ]
  },
  {
   "cell_type": "code",
   "execution_count": 82,
   "metadata": {
    "colab": {
     "base_uri": "https://localhost:8080/",
     "height": 54
    },
    "executionInfo": {
     "elapsed": 406,
     "status": "ok",
     "timestamp": 1702915272876,
     "user": {
      "displayName": "Aravind Bhimanathini",
      "userId": "06486059456027652245"
     },
     "user_tz": 300
    },
    "id": "Qr84Odaz8b7h",
    "outputId": "85c18945-acc5-4e72-e89d-fe132d6f7a8b"
   },
   "outputs": [
    {
     "data": {
      "image/png": "[encoded data removed]",
      "text/plain": [
       "<Figure size 500x400 with 1 Axes>"
      ]
     },
     "metadata": {},
     "output_type": "display_data"
    }
   ],
   "source": [
    "plt.figure(figsize=(5, 4))\n",
    "sns.boxplot(x=status['Churn Label'], y=status['Churn Score'])\n",
    "plt.title('Box Plot of Churn score by Churn label')\n",
    "plt.xlabel('Churn Label')\n",
    "plt.ylabel('Churn Score')\n",
    "plt.show()"
   ]
  },
  {
   "cell_type": "markdown",
   "metadata": {
    "id": "MBKwivg0_WrO"
   },
   "source": [
    "The average churn score for the churned customers is more"
   ]
  },
  {
   "cell_type": "code",
   "execution_count": 83,
   "metadata": {
    "colab": {
     "base_uri": "https://localhost:8080/",
     "height": 377
    },
    "executionInfo": {
     "elapsed": 252,
     "status": "ok",
     "timestamp": 1702915273112,
     "user": {
      "displayName": "Aravind Bhimanathini",
      "userId": "06486059456027652245"
     },
     "user_tz": 300
    },
    "id": "GFTMqiBd-JiR",
    "outputId": "8ff593ff-f9ca-46b6-fa51-df950507604f"
   },
   "outputs": [
    {
     "data": {
      "text/html": [
       "<div>\n",
       "<style scoped>\n",
       "    .dataframe tbody tr th:only-of-type {\n",
       "        vertical-align: middle;\n",
       "    }\n",
       "\n",
       "    .dataframe tbody tr th {\n",
       "        vertical-align: top;\n",
       "    }\n",
       "\n",
       "    .dataframe thead th {\n",
       "        text-align: right;\n",
       "    }\n",
       "</style>\n",
       "<table border=\"1\" class=\"dataframe\">\n",
       "  <thead>\n",
       "    <tr style=\"text-align: right;\">\n",
       "      <th></th>\n",
       "      <th>CustomerID</th>\n",
       "      <th>Count</th>\n",
       "      <th>Country</th>\n",
       "      <th>State</th>\n",
       "      <th>City</th>\n",
       "      <th>Zip Code</th>\n",
       "      <th>Lat Long</th>\n",
       "      <th>Latitude</th>\n",
       "      <th>Longitude</th>\n",
       "      <th>Gender</th>\n",
       "      <th>...</th>\n",
       "      <th>Streaming Movies</th>\n",
       "      <th>Contract</th>\n",
       "      <th>Paperless Billing</th>\n",
       "      <th>Payment Method</th>\n",
       "      <th>Monthly Charges</th>\n",
       "      <th>Total Charges</th>\n",
       "      <th>Churn Label</th>\n",
       "      <th>Churn Value</th>\n",
       "      <th>Churn Score</th>\n",
       "      <th>CLTV</th>\n",
       "    </tr>\n",
       "  </thead>\n",
       "  <tbody>\n",
       "    <tr>\n",
       "      <th>0</th>\n",
       "      <td>3668-QPYBK</td>\n",
       "      <td>1</td>\n",
       "      <td>United States</td>\n",
       "      <td>California</td>\n",
       "      <td>Los Angeles</td>\n",
       "      <td>90003</td>\n",
       "      <td>33.964131, -118.272783</td>\n",
       "      <td>33.964131</td>\n",
       "      <td>-118.272783</td>\n",
       "      <td>Male</td>\n",
       "      <td>...</td>\n",
       "      <td>No</td>\n",
       "      <td>Month-to-month</td>\n",
       "      <td>Yes</td>\n",
       "      <td>Mailed check</td>\n",
       "      <td>53.85</td>\n",
       "      <td>108.15</td>\n",
       "      <td>Yes</td>\n",
       "      <td>1</td>\n",
       "      <td>86</td>\n",
       "      <td>3239</td>\n",
       "    </tr>\n",
       "    <tr>\n",
       "      <th>1</th>\n",
       "      <td>9237-HQITU</td>\n",
       "      <td>1</td>\n",
       "      <td>United States</td>\n",
       "      <td>California</td>\n",
       "      <td>Los Angeles</td>\n",
       "      <td>90005</td>\n",
       "      <td>34.059281, -118.30742</td>\n",
       "      <td>34.059281</td>\n",
       "      <td>-118.307420</td>\n",
       "      <td>Female</td>\n",
       "      <td>...</td>\n",
       "      <td>No</td>\n",
       "      <td>Month-to-month</td>\n",
       "      <td>Yes</td>\n",
       "      <td>Electronic check</td>\n",
       "      <td>70.70</td>\n",
       "      <td>151.65</td>\n",
       "      <td>Yes</td>\n",
       "      <td>1</td>\n",
       "      <td>67</td>\n",
       "      <td>2701</td>\n",
       "    </tr>\n",
       "    <tr>\n",
       "      <th>2</th>\n",
       "      <td>9305-CDSKC</td>\n",
       "      <td>1</td>\n",
       "      <td>United States</td>\n",
       "      <td>California</td>\n",
       "      <td>Los Angeles</td>\n",
       "      <td>90006</td>\n",
       "      <td>34.048013, -118.293953</td>\n",
       "      <td>34.048013</td>\n",
       "      <td>-118.293953</td>\n",
       "      <td>Female</td>\n",
       "      <td>...</td>\n",
       "      <td>Yes</td>\n",
       "      <td>Month-to-month</td>\n",
       "      <td>Yes</td>\n",
       "      <td>Electronic check</td>\n",
       "      <td>99.65</td>\n",
       "      <td>820.5</td>\n",
       "      <td>Yes</td>\n",
       "      <td>1</td>\n",
       "      <td>86</td>\n",
       "      <td>5372</td>\n",
       "    </tr>\n",
       "    <tr>\n",
       "      <th>3</th>\n",
       "      <td>7892-POOKP</td>\n",
       "      <td>1</td>\n",
       "      <td>United States</td>\n",
       "      <td>California</td>\n",
       "      <td>Los Angeles</td>\n",
       "      <td>90010</td>\n",
       "      <td>34.062125, -118.315709</td>\n",
       "      <td>34.062125</td>\n",
       "      <td>-118.315709</td>\n",
       "      <td>Female</td>\n",
       "      <td>...</td>\n",
       "      <td>Yes</td>\n",
       "      <td>Month-to-month</td>\n",
       "      <td>Yes</td>\n",
       "      <td>Electronic check</td>\n",
       "      <td>104.80</td>\n",
       "      <td>3046.05</td>\n",
       "      <td>Yes</td>\n",
       "      <td>1</td>\n",
       "      <td>84</td>\n",
       "      <td>5003</td>\n",
       "    </tr>\n",
       "    <tr>\n",
       "      <th>4</th>\n",
       "      <td>0280-XJGEX</td>\n",
       "      <td>1</td>\n",
       "      <td>United States</td>\n",
       "      <td>California</td>\n",
       "      <td>Los Angeles</td>\n",
       "      <td>90015</td>\n",
       "      <td>34.039224, -118.266293</td>\n",
       "      <td>34.039224</td>\n",
       "      <td>-118.266293</td>\n",
       "      <td>Male</td>\n",
       "      <td>...</td>\n",
       "      <td>Yes</td>\n",
       "      <td>Month-to-month</td>\n",
       "      <td>Yes</td>\n",
       "      <td>Bank transfer (automatic)</td>\n",
       "      <td>103.70</td>\n",
       "      <td>5036.3</td>\n",
       "      <td>Yes</td>\n",
       "      <td>1</td>\n",
       "      <td>89</td>\n",
       "      <td>5340</td>\n",
       "    </tr>\n",
       "  </tbody>\n",
       "</table>\n",
       "<p>5 rows × 32 columns</p>\n",
       "</div>"
      ],
      "text/plain": [
       "   CustomerID  Count        Country       State         City  Zip Code  \\\n",
       "0  3668-QPYBK      1  United States  California  Los Angeles     90003   \n",
       "1  9237-HQITU      1  United States  California  Los Angeles     90005   \n",
       "2  9305-CDSKC      1  United States  California  Los Angeles     90006   \n",
       "3  7892-POOKP      1  United States  California  Los Angeles     90010   \n",
       "4  0280-XJGEX      1  United States  California  Los Angeles     90015   \n",
       "\n",
       "                 Lat Long   Latitude   Longitude  Gender  ...  \\\n",
       "0  33.964131, -118.272783  33.964131 -118.272783    Male  ...   \n",
       "1   34.059281, -118.30742  34.059281 -118.307420  Female  ...   \n",
       "2  34.048013, -118.293953  34.048013 -118.293953  Female  ...   \n",
       "3  34.062125, -118.315709  34.062125 -118.315709  Female  ...   \n",
       "4  34.039224, -118.266293  34.039224 -118.266293    Male  ...   \n",
       "\n",
       "  Streaming Movies        Contract Paperless Billing  \\\n",
       "0               No  Month-to-month               Yes   \n",
       "1               No  Month-to-month               Yes   \n",
       "2              Yes  Month-to-month               Yes   \n",
       "3              Yes  Month-to-month               Yes   \n",
       "4              Yes  Month-to-month               Yes   \n",
       "\n",
       "              Payment Method Monthly Charges Total Charges Churn Label  \\\n",
       "0               Mailed check           53.85        108.15         Yes   \n",
       "1           Electronic check           70.70        151.65         Yes   \n",
       "2           Electronic check           99.65         820.5         Yes   \n",
       "3           Electronic check          104.80       3046.05         Yes   \n",
       "4  Bank transfer (automatic)          103.70        5036.3         Yes   \n",
       "\n",
       "  Churn Value Churn Score  CLTV  \n",
       "0           1          86  3239  \n",
       "1           1          67  2701  \n",
       "2           1          86  5372  \n",
       "3           1          84  5003  \n",
       "4           1          89  5340  \n",
       "\n",
       "[5 rows x 32 columns]"
      ]
     },
     "execution_count": 83,
     "metadata": {},
     "output_type": "execute_result"
    }
   ],
   "source": [
    "churn.head()"
   ]
  },
  {
   "cell_type": "code",
   "execution_count": 84,
   "metadata": {
    "colab": {
     "base_uri": "https://localhost:8080/"
    },
    "executionInfo": {
     "elapsed": 51,
     "status": "ok",
     "timestamp": 1702915273113,
     "user": {
      "displayName": "Aravind Bhimanathini",
      "userId": "06486059456027652245"
     },
     "user_tz": 300
    },
    "id": "Iq4Li4l4FbLa",
    "outputId": "a6b7ca2c-24dd-400a-84f1-aa977e86ec8b"
   },
   "outputs": [
    {
     "name": "stdout",
     "output_type": "stream",
     "text": [
      "<class 'pandas.core.frame.DataFrame'>\n",
      "RangeIndex: 7043 entries, 0 to 7042\n",
      "Data columns (total 32 columns):\n",
      " #   Column             Non-Null Count  Dtype  \n",
      "---  ------             --------------  -----  \n",
      " 0   CustomerID         7043 non-null   object \n",
      " 1   Count              7043 non-null   int64  \n",
      " 2   Country            7043 non-null   object \n",
      " 3   State              7043 non-null   object \n",
      " 4   City               7043 non-null   object \n",
      " 5   Zip Code           7043 non-null   int64  \n",
      " 6   Lat Long           7043 non-null   object \n",
      " 7   Latitude           7043 non-null   float64\n",
      " 8   Longitude          7043 non-null   float64\n",
      " 9   Gender             7043 non-null   object \n",
      " 10  Senior Citizen     7043 non-null   object \n",
      " 11  Partner            7043 non-null   object \n",
      " 12  Dependents         7043 non-null   object \n",
      " 13  Tenure Months      7043 non-null   int64  \n",
      " 14  Phone Service      7043 non-null   object \n",
      " 15  Multiple Lines     7043 non-null   object \n",
      " 16  Internet Service   7043 non-null   object \n",
      " 17  Online Security    7043 non-null   object \n",
      " 18  Online Backup      7043 non-null   object \n",
      " 19  Device Protection  7043 non-null   object \n",
      " 20  Tech Support       7043 non-null   object \n",
      " 21  Streaming TV       7043 non-null   object \n",
      " 22  Streaming Movies   7043 non-null   object \n",
      " 23  Contract           7043 non-null   object \n",
      " 24  Paperless Billing  7043 non-null   object \n",
      " 25  Payment Method     7043 non-null   object \n",
      " 26  Monthly Charges    7043 non-null   float64\n",
      " 27  Total Charges      7043 non-null   object \n",
      " 28  Churn Label        7043 non-null   object \n",
      " 29  Churn Value        7043 non-null   int64  \n",
      " 30  Churn Score        7043 non-null   int64  \n",
      " 31  CLTV               7043 non-null   int64  \n",
      "dtypes: float64(3), int64(6), object(23)\n",
      "memory usage: 1.7+ MB\n"
     ]
    }
   ],
   "source": [
    "churn.info()"
   ]
  },
  {
   "cell_type": "markdown",
   "metadata": {
    "id": "rPM9pnJe5h6d"
   },
   "source": [
    "### Summary of EDA"
   ]
  },
  {
   "cell_type": "markdown",
   "metadata": {
    "id": "pr0C-LoI5uO_"
   },
   "source": [
    "After exploratory data analysis. lets look at some of the interesting findings.\n",
    "\n",
    "1. Out of all the customers there are only 16.2% of the customers who are senior citizens.\n",
    "\n",
    "2. The customers who are of age above 30 and have churned out are more than the customers who are of age below 30 and are still under subscription.\n",
    "\n",
    "3. The customers who have churned out doesn't have more dependents as customers who are still under subscription.\n",
    "\n",
    "4. Different locations have topped in both with customers who have churned and with customer who are still under subscriptions.\n",
    "\n",
    "5. The customers who are still continuing the subscription have given more referals.\n",
    "\n",
    "6. The customers who haven't churned whould obviously have more tenure in their subscription plan.\n",
    "\n",
    "7. Offer B and Offer E are the offers that have been more opted by the Customers.\n",
    "\n",
    "8. The customers who are using phone service have churned out more.\n",
    "\n",
    "9. The customers who have opted for internet service are also churned out more.\n",
    "\n",
    "10. Most of the customers who have churned out are using Banking withdrawl as their payment method.\n",
    "\n",
    "11. Most of the customers who have churned out doesn't have any premium tech support for their subscription.\n",
    "\n",
    "12. The churn score is more for the customer who have churned out."
   ]
  },
  {
   "cell_type": "markdown",
   "metadata": {
    "id": "N0-i7qKqWob5"
   },
   "source": [
    "# Feature Engineering"
   ]
  },
  {
   "cell_type": "markdown",
   "metadata": {
    "id": "Wp_8SmSYBj3n"
   },
   "source": [
    "After the exploratory analysis, these are the columns/features from all the tables that need to be fit into a model for classifying whether the customer will churn out or not.\n",
    "\n",
    "1. Under 30 - Binary Variable\n",
    "2. Dependents - Binary Variable\n",
    "3. Number of Dependents - Numerical Variable\n",
    "4. City - Categorical Variable\n",
    "5. Number of referrals - Numerical Variable\n",
    "6. Tenure in months - Numerical Variable\n",
    "7. Offer - Categorical Variable\n",
    "8. Phone service - Binary Variable\n",
    "9. Internet Service - Binary Variable\n",
    "10. Premium Tech Support - Binary Variable\n",
    "11. Payment Method - Categorical Variable\n",
    "12. CLTV - Numerical Variable"
   ]
  },
  {
   "cell_type": "markdown",
   "metadata": {
    "id": "z8re3FFobnk1"
   },
   "source": [
    "Lets join all these tables to create master table with the selected columns."
   ]
  },
  {
   "cell_type": "code",
   "execution_count": 85,
   "metadata": {
    "colab": {
     "base_uri": "https://localhost:8080/",
     "height": 424
    },
    "executionInfo": {
     "elapsed": 49,
     "status": "ok",
     "timestamp": 1702915273114,
     "user": {
      "displayName": "Aravind Bhimanathini",
      "userId": "06486059456027652245"
     },
     "user_tz": 300
    },
    "id": "nkyNMDHXWt2_",
    "outputId": "9ba065d7-1b1c-42b7-9f90-5fb4a39babf7"
   },
   "outputs": [
    {
     "data": {
      "text/html": [
       "<div>\n",
       "<style scoped>\n",
       "    .dataframe tbody tr th:only-of-type {\n",
       "        vertical-align: middle;\n",
       "    }\n",
       "\n",
       "    .dataframe tbody tr th {\n",
       "        vertical-align: top;\n",
       "    }\n",
       "\n",
       "    .dataframe thead th {\n",
       "        text-align: right;\n",
       "    }\n",
       "</style>\n",
       "<table border=\"1\" class=\"dataframe\">\n",
       "  <thead>\n",
       "    <tr style=\"text-align: right;\">\n",
       "      <th></th>\n",
       "      <th>Customer ID</th>\n",
       "      <th>Under 30</th>\n",
       "      <th>Dependents</th>\n",
       "      <th>Number of Dependents</th>\n",
       "      <th>CLTV</th>\n",
       "      <th>Churn Value</th>\n",
       "    </tr>\n",
       "  </thead>\n",
       "  <tbody>\n",
       "    <tr>\n",
       "      <th>0</th>\n",
       "      <td>8779-QRDMV</td>\n",
       "      <td>No</td>\n",
       "      <td>No</td>\n",
       "      <td>0</td>\n",
       "      <td>5433</td>\n",
       "      <td>1</td>\n",
       "    </tr>\n",
       "    <tr>\n",
       "      <th>1</th>\n",
       "      <td>7495-OOKFY</td>\n",
       "      <td>No</td>\n",
       "      <td>Yes</td>\n",
       "      <td>1</td>\n",
       "      <td>5302</td>\n",
       "      <td>1</td>\n",
       "    </tr>\n",
       "    <tr>\n",
       "      <th>2</th>\n",
       "      <td>1658-BYGOY</td>\n",
       "      <td>No</td>\n",
       "      <td>Yes</td>\n",
       "      <td>3</td>\n",
       "      <td>3179</td>\n",
       "      <td>1</td>\n",
       "    </tr>\n",
       "    <tr>\n",
       "      <th>3</th>\n",
       "      <td>4598-XLKNJ</td>\n",
       "      <td>No</td>\n",
       "      <td>Yes</td>\n",
       "      <td>1</td>\n",
       "      <td>5337</td>\n",
       "      <td>1</td>\n",
       "    </tr>\n",
       "    <tr>\n",
       "      <th>4</th>\n",
       "      <td>4846-WHAFZ</td>\n",
       "      <td>No</td>\n",
       "      <td>Yes</td>\n",
       "      <td>1</td>\n",
       "      <td>2793</td>\n",
       "      <td>1</td>\n",
       "    </tr>\n",
       "    <tr>\n",
       "      <th>...</th>\n",
       "      <td>...</td>\n",
       "      <td>...</td>\n",
       "      <td>...</td>\n",
       "      <td>...</td>\n",
       "      <td>...</td>\n",
       "      <td>...</td>\n",
       "    </tr>\n",
       "    <tr>\n",
       "      <th>7038</th>\n",
       "      <td>2569-WGERO</td>\n",
       "      <td>No</td>\n",
       "      <td>No</td>\n",
       "      <td>0</td>\n",
       "      <td>5306</td>\n",
       "      <td>0</td>\n",
       "    </tr>\n",
       "    <tr>\n",
       "      <th>7039</th>\n",
       "      <td>6840-RESVB</td>\n",
       "      <td>No</td>\n",
       "      <td>Yes</td>\n",
       "      <td>2</td>\n",
       "      <td>2140</td>\n",
       "      <td>0</td>\n",
       "    </tr>\n",
       "    <tr>\n",
       "      <th>7040</th>\n",
       "      <td>2234-XADUH</td>\n",
       "      <td>No</td>\n",
       "      <td>Yes</td>\n",
       "      <td>2</td>\n",
       "      <td>5560</td>\n",
       "      <td>0</td>\n",
       "    </tr>\n",
       "    <tr>\n",
       "      <th>7041</th>\n",
       "      <td>4801-JZAZL</td>\n",
       "      <td>No</td>\n",
       "      <td>Yes</td>\n",
       "      <td>2</td>\n",
       "      <td>2793</td>\n",
       "      <td>0</td>\n",
       "    </tr>\n",
       "    <tr>\n",
       "      <th>7042</th>\n",
       "      <td>3186-AJIEK</td>\n",
       "      <td>No</td>\n",
       "      <td>No</td>\n",
       "      <td>0</td>\n",
       "      <td>5097</td>\n",
       "      <td>0</td>\n",
       "    </tr>\n",
       "  </tbody>\n",
       "</table>\n",
       "<p>7043 rows × 6 columns</p>\n",
       "</div>"
      ],
      "text/plain": [
       "     Customer ID Under 30 Dependents  Number of Dependents  CLTV  Churn Value\n",
       "0     8779-QRDMV       No         No                     0  5433            1\n",
       "1     7495-OOKFY       No        Yes                     1  5302            1\n",
       "2     1658-BYGOY       No        Yes                     3  3179            1\n",
       "3     4598-XLKNJ       No        Yes                     1  5337            1\n",
       "4     4846-WHAFZ       No        Yes                     1  2793            1\n",
       "...          ...      ...        ...                   ...   ...          ...\n",
       "7038  2569-WGERO       No         No                     0  5306            0\n",
       "7039  6840-RESVB       No        Yes                     2  2140            0\n",
       "7040  2234-XADUH       No        Yes                     2  5560            0\n",
       "7041  4801-JZAZL       No        Yes                     2  2793            0\n",
       "7042  3186-AJIEK       No         No                     0  5097            0\n",
       "\n",
       "[7043 rows x 6 columns]"
      ]
     },
     "execution_count": 85,
     "metadata": {},
     "output_type": "execute_result"
    }
   ],
   "source": [
    "demo_df = pd.merge(demographics, churn[['CustomerID', 'CLTV', 'Churn Value']], left_on='Customer ID',\n",
    "                         right_on= 'CustomerID', how='inner')\n",
    "demo_df = demo_df[['Customer ID', 'Under 30', 'Dependents', 'Number of Dependents', 'CLTV', 'Churn Value']]\n",
    "demo_df"
   ]
  },
  {
   "cell_type": "code",
   "execution_count": 86,
   "metadata": {
    "colab": {
     "base_uri": "https://localhost:8080/",
     "height": 424
    },
    "executionInfo": {
     "elapsed": 45,
     "status": "ok",
     "timestamp": 1702915273115,
     "user": {
      "displayName": "Aravind Bhimanathini",
      "userId": "06486059456027652245"
     },
     "user_tz": 300
    },
    "id": "BQ_l8sjAFinS",
    "outputId": "b118d0b5-24d5-4a93-a1b2-a79c700fdd97"
   },
   "outputs": [
    {
     "data": {
      "text/html": [
       "<div>\n",
       "<style scoped>\n",
       "    .dataframe tbody tr th:only-of-type {\n",
       "        vertical-align: middle;\n",
       "    }\n",
       "\n",
       "    .dataframe tbody tr th {\n",
       "        vertical-align: top;\n",
       "    }\n",
       "\n",
       "    .dataframe thead th {\n",
       "        text-align: right;\n",
       "    }\n",
       "</style>\n",
       "<table border=\"1\" class=\"dataframe\">\n",
       "  <thead>\n",
       "    <tr style=\"text-align: right;\">\n",
       "      <th></th>\n",
       "      <th>Customer ID</th>\n",
       "      <th>Under 30</th>\n",
       "      <th>Dependents</th>\n",
       "      <th>Number of Dependents</th>\n",
       "      <th>City</th>\n",
       "      <th>CLTV</th>\n",
       "      <th>Churn Value</th>\n",
       "    </tr>\n",
       "  </thead>\n",
       "  <tbody>\n",
       "    <tr>\n",
       "      <th>0</th>\n",
       "      <td>8779-QRDMV</td>\n",
       "      <td>No</td>\n",
       "      <td>No</td>\n",
       "      <td>0</td>\n",
       "      <td>Los Angeles</td>\n",
       "      <td>5433</td>\n",
       "      <td>1</td>\n",
       "    </tr>\n",
       "    <tr>\n",
       "      <th>1</th>\n",
       "      <td>7495-OOKFY</td>\n",
       "      <td>No</td>\n",
       "      <td>Yes</td>\n",
       "      <td>1</td>\n",
       "      <td>Los Angeles</td>\n",
       "      <td>5302</td>\n",
       "      <td>1</td>\n",
       "    </tr>\n",
       "    <tr>\n",
       "      <th>2</th>\n",
       "      <td>1658-BYGOY</td>\n",
       "      <td>No</td>\n",
       "      <td>Yes</td>\n",
       "      <td>3</td>\n",
       "      <td>Los Angeles</td>\n",
       "      <td>3179</td>\n",
       "      <td>1</td>\n",
       "    </tr>\n",
       "    <tr>\n",
       "      <th>3</th>\n",
       "      <td>4598-XLKNJ</td>\n",
       "      <td>No</td>\n",
       "      <td>Yes</td>\n",
       "      <td>1</td>\n",
       "      <td>Inglewood</td>\n",
       "      <td>5337</td>\n",
       "      <td>1</td>\n",
       "    </tr>\n",
       "    <tr>\n",
       "      <th>4</th>\n",
       "      <td>4846-WHAFZ</td>\n",
       "      <td>No</td>\n",
       "      <td>Yes</td>\n",
       "      <td>1</td>\n",
       "      <td>Whittier</td>\n",
       "      <td>2793</td>\n",
       "      <td>1</td>\n",
       "    </tr>\n",
       "    <tr>\n",
       "      <th>...</th>\n",
       "      <td>...</td>\n",
       "      <td>...</td>\n",
       "      <td>...</td>\n",
       "      <td>...</td>\n",
       "      <td>...</td>\n",
       "      <td>...</td>\n",
       "      <td>...</td>\n",
       "    </tr>\n",
       "    <tr>\n",
       "      <th>7038</th>\n",
       "      <td>2569-WGERO</td>\n",
       "      <td>No</td>\n",
       "      <td>No</td>\n",
       "      <td>0</td>\n",
       "      <td>Landers</td>\n",
       "      <td>5306</td>\n",
       "      <td>0</td>\n",
       "    </tr>\n",
       "    <tr>\n",
       "      <th>7039</th>\n",
       "      <td>6840-RESVB</td>\n",
       "      <td>No</td>\n",
       "      <td>Yes</td>\n",
       "      <td>2</td>\n",
       "      <td>Adelanto</td>\n",
       "      <td>2140</td>\n",
       "      <td>0</td>\n",
       "    </tr>\n",
       "    <tr>\n",
       "      <th>7040</th>\n",
       "      <td>2234-XADUH</td>\n",
       "      <td>No</td>\n",
       "      <td>Yes</td>\n",
       "      <td>2</td>\n",
       "      <td>Amboy</td>\n",
       "      <td>5560</td>\n",
       "      <td>0</td>\n",
       "    </tr>\n",
       "    <tr>\n",
       "      <th>7041</th>\n",
       "      <td>4801-JZAZL</td>\n",
       "      <td>No</td>\n",
       "      <td>Yes</td>\n",
       "      <td>2</td>\n",
       "      <td>Angelus Oaks</td>\n",
       "      <td>2793</td>\n",
       "      <td>0</td>\n",
       "    </tr>\n",
       "    <tr>\n",
       "      <th>7042</th>\n",
       "      <td>3186-AJIEK</td>\n",
       "      <td>No</td>\n",
       "      <td>No</td>\n",
       "      <td>0</td>\n",
       "      <td>Apple Valley</td>\n",
       "      <td>5097</td>\n",
       "      <td>0</td>\n",
       "    </tr>\n",
       "  </tbody>\n",
       "</table>\n",
       "<p>7043 rows × 7 columns</p>\n",
       "</div>"
      ],
      "text/plain": [
       "     Customer ID Under 30 Dependents  Number of Dependents          City  \\\n",
       "0     8779-QRDMV       No         No                     0   Los Angeles   \n",
       "1     7495-OOKFY       No        Yes                     1   Los Angeles   \n",
       "2     1658-BYGOY       No        Yes                     3   Los Angeles   \n",
       "3     4598-XLKNJ       No        Yes                     1     Inglewood   \n",
       "4     4846-WHAFZ       No        Yes                     1      Whittier   \n",
       "...          ...      ...        ...                   ...           ...   \n",
       "7038  2569-WGERO       No         No                     0       Landers   \n",
       "7039  6840-RESVB       No        Yes                     2      Adelanto   \n",
       "7040  2234-XADUH       No        Yes                     2         Amboy   \n",
       "7041  4801-JZAZL       No        Yes                     2  Angelus Oaks   \n",
       "7042  3186-AJIEK       No         No                     0  Apple Valley   \n",
       "\n",
       "      CLTV  Churn Value  \n",
       "0     5433            1  \n",
       "1     5302            1  \n",
       "2     3179            1  \n",
       "3     5337            1  \n",
       "4     2793            1  \n",
       "...    ...          ...  \n",
       "7038  5306            0  \n",
       "7039  2140            0  \n",
       "7040  5560            0  \n",
       "7041  2793            0  \n",
       "7042  5097            0  \n",
       "\n",
       "[7043 rows x 7 columns]"
      ]
     },
     "execution_count": 86,
     "metadata": {},
     "output_type": "execute_result"
    }
   ],
   "source": [
    "loc_df = pd.merge(demo_df, location, left_on='Customer ID',\n",
    "                         right_on= 'Customer ID', how='inner')\n",
    "loc_df = loc_df[['Customer ID', 'Under 30', 'Dependents', 'Number of Dependents', 'City', 'CLTV', 'Churn Value']]\n",
    "loc_df"
   ]
  },
  {
   "cell_type": "code",
   "execution_count": 87,
   "metadata": {
    "colab": {
     "base_uri": "https://localhost:8080/",
     "height": 615
    },
    "executionInfo": {
     "elapsed": 44,
     "status": "ok",
     "timestamp": 1702915273117,
     "user": {
      "displayName": "Aravind Bhimanathini",
      "userId": "06486059456027652245"
     },
     "user_tz": 300
    },
    "id": "ZGTA_1QBmXPu",
    "outputId": "b7085a2d-356f-48aa-a636-26ec697aa4c4"
   },
   "outputs": [
    {
     "data": {
      "text/html": [
       "<div>\n",
       "<style scoped>\n",
       "    .dataframe tbody tr th:only-of-type {\n",
       "        vertical-align: middle;\n",
       "    }\n",
       "\n",
       "    .dataframe tbody tr th {\n",
       "        vertical-align: top;\n",
       "    }\n",
       "\n",
       "    .dataframe thead th {\n",
       "        text-align: right;\n",
       "    }\n",
       "</style>\n",
       "<table border=\"1\" class=\"dataframe\">\n",
       "  <thead>\n",
       "    <tr style=\"text-align: right;\">\n",
       "      <th></th>\n",
       "      <th>Under 30</th>\n",
       "      <th>Dependents</th>\n",
       "      <th>Number of Dependents</th>\n",
       "      <th>City</th>\n",
       "      <th>Number of Referrals</th>\n",
       "      <th>Tenure in Months</th>\n",
       "      <th>Offer</th>\n",
       "      <th>Phone Service</th>\n",
       "      <th>Internet Service</th>\n",
       "      <th>Premium Tech Support</th>\n",
       "      <th>Payment Method</th>\n",
       "      <th>CLTV</th>\n",
       "      <th>Churn Value</th>\n",
       "    </tr>\n",
       "  </thead>\n",
       "  <tbody>\n",
       "    <tr>\n",
       "      <th>0</th>\n",
       "      <td>No</td>\n",
       "      <td>No</td>\n",
       "      <td>0</td>\n",
       "      <td>Los Angeles</td>\n",
       "      <td>0</td>\n",
       "      <td>1</td>\n",
       "      <td>None</td>\n",
       "      <td>No</td>\n",
       "      <td>Yes</td>\n",
       "      <td>No</td>\n",
       "      <td>Bank Withdrawal</td>\n",
       "      <td>5433</td>\n",
       "      <td>1</td>\n",
       "    </tr>\n",
       "    <tr>\n",
       "      <th>1</th>\n",
       "      <td>No</td>\n",
       "      <td>Yes</td>\n",
       "      <td>1</td>\n",
       "      <td>Los Angeles</td>\n",
       "      <td>1</td>\n",
       "      <td>8</td>\n",
       "      <td>Offer E</td>\n",
       "      <td>Yes</td>\n",
       "      <td>Yes</td>\n",
       "      <td>No</td>\n",
       "      <td>Credit Card</td>\n",
       "      <td>5302</td>\n",
       "      <td>1</td>\n",
       "    </tr>\n",
       "    <tr>\n",
       "      <th>2</th>\n",
       "      <td>No</td>\n",
       "      <td>Yes</td>\n",
       "      <td>3</td>\n",
       "      <td>Los Angeles</td>\n",
       "      <td>0</td>\n",
       "      <td>18</td>\n",
       "      <td>Offer D</td>\n",
       "      <td>Yes</td>\n",
       "      <td>Yes</td>\n",
       "      <td>No</td>\n",
       "      <td>Bank Withdrawal</td>\n",
       "      <td>3179</td>\n",
       "      <td>1</td>\n",
       "    </tr>\n",
       "    <tr>\n",
       "      <th>3</th>\n",
       "      <td>No</td>\n",
       "      <td>Yes</td>\n",
       "      <td>1</td>\n",
       "      <td>Inglewood</td>\n",
       "      <td>1</td>\n",
       "      <td>25</td>\n",
       "      <td>Offer C</td>\n",
       "      <td>Yes</td>\n",
       "      <td>Yes</td>\n",
       "      <td>No</td>\n",
       "      <td>Bank Withdrawal</td>\n",
       "      <td>5337</td>\n",
       "      <td>1</td>\n",
       "    </tr>\n",
       "    <tr>\n",
       "      <th>4</th>\n",
       "      <td>No</td>\n",
       "      <td>Yes</td>\n",
       "      <td>1</td>\n",
       "      <td>Whittier</td>\n",
       "      <td>1</td>\n",
       "      <td>37</td>\n",
       "      <td>Offer C</td>\n",
       "      <td>Yes</td>\n",
       "      <td>Yes</td>\n",
       "      <td>No</td>\n",
       "      <td>Bank Withdrawal</td>\n",
       "      <td>2793</td>\n",
       "      <td>1</td>\n",
       "    </tr>\n",
       "    <tr>\n",
       "      <th>...</th>\n",
       "      <td>...</td>\n",
       "      <td>...</td>\n",
       "      <td>...</td>\n",
       "      <td>...</td>\n",
       "      <td>...</td>\n",
       "      <td>...</td>\n",
       "      <td>...</td>\n",
       "      <td>...</td>\n",
       "      <td>...</td>\n",
       "      <td>...</td>\n",
       "      <td>...</td>\n",
       "      <td>...</td>\n",
       "      <td>...</td>\n",
       "    </tr>\n",
       "    <tr>\n",
       "      <th>7038</th>\n",
       "      <td>No</td>\n",
       "      <td>No</td>\n",
       "      <td>0</td>\n",
       "      <td>Landers</td>\n",
       "      <td>0</td>\n",
       "      <td>72</td>\n",
       "      <td>None</td>\n",
       "      <td>Yes</td>\n",
       "      <td>No</td>\n",
       "      <td>No</td>\n",
       "      <td>Bank Withdrawal</td>\n",
       "      <td>5306</td>\n",
       "      <td>0</td>\n",
       "    </tr>\n",
       "    <tr>\n",
       "      <th>7039</th>\n",
       "      <td>No</td>\n",
       "      <td>Yes</td>\n",
       "      <td>2</td>\n",
       "      <td>Adelanto</td>\n",
       "      <td>1</td>\n",
       "      <td>24</td>\n",
       "      <td>Offer C</td>\n",
       "      <td>Yes</td>\n",
       "      <td>Yes</td>\n",
       "      <td>Yes</td>\n",
       "      <td>Mailed Check</td>\n",
       "      <td>2140</td>\n",
       "      <td>0</td>\n",
       "    </tr>\n",
       "    <tr>\n",
       "      <th>7040</th>\n",
       "      <td>No</td>\n",
       "      <td>Yes</td>\n",
       "      <td>2</td>\n",
       "      <td>Amboy</td>\n",
       "      <td>4</td>\n",
       "      <td>72</td>\n",
       "      <td>None</td>\n",
       "      <td>Yes</td>\n",
       "      <td>Yes</td>\n",
       "      <td>No</td>\n",
       "      <td>Credit Card</td>\n",
       "      <td>5560</td>\n",
       "      <td>0</td>\n",
       "    </tr>\n",
       "    <tr>\n",
       "      <th>7041</th>\n",
       "      <td>No</td>\n",
       "      <td>Yes</td>\n",
       "      <td>2</td>\n",
       "      <td>Angelus Oaks</td>\n",
       "      <td>1</td>\n",
       "      <td>11</td>\n",
       "      <td>None</td>\n",
       "      <td>No</td>\n",
       "      <td>Yes</td>\n",
       "      <td>No</td>\n",
       "      <td>Bank Withdrawal</td>\n",
       "      <td>2793</td>\n",
       "      <td>0</td>\n",
       "    </tr>\n",
       "    <tr>\n",
       "      <th>7042</th>\n",
       "      <td>No</td>\n",
       "      <td>No</td>\n",
       "      <td>0</td>\n",
       "      <td>Apple Valley</td>\n",
       "      <td>0</td>\n",
       "      <td>66</td>\n",
       "      <td>None</td>\n",
       "      <td>Yes</td>\n",
       "      <td>Yes</td>\n",
       "      <td>Yes</td>\n",
       "      <td>Bank Withdrawal</td>\n",
       "      <td>5097</td>\n",
       "      <td>0</td>\n",
       "    </tr>\n",
       "  </tbody>\n",
       "</table>\n",
       "<p>7043 rows × 13 columns</p>\n",
       "</div>"
      ],
      "text/plain": [
       "     Under 30 Dependents  Number of Dependents          City  \\\n",
       "0          No         No                     0   Los Angeles   \n",
       "1          No        Yes                     1   Los Angeles   \n",
       "2          No        Yes                     3   Los Angeles   \n",
       "3          No        Yes                     1     Inglewood   \n",
       "4          No        Yes                     1      Whittier   \n",
       "...       ...        ...                   ...           ...   \n",
       "7038       No         No                     0       Landers   \n",
       "7039       No        Yes                     2      Adelanto   \n",
       "7040       No        Yes                     2         Amboy   \n",
       "7041       No        Yes                     2  Angelus Oaks   \n",
       "7042       No         No                     0  Apple Valley   \n",
       "\n",
       "      Number of Referrals  Tenure in Months    Offer Phone Service  \\\n",
       "0                       0                 1     None            No   \n",
       "1                       1                 8  Offer E           Yes   \n",
       "2                       0                18  Offer D           Yes   \n",
       "3                       1                25  Offer C           Yes   \n",
       "4                       1                37  Offer C           Yes   \n",
       "...                   ...               ...      ...           ...   \n",
       "7038                    0                72     None           Yes   \n",
       "7039                    1                24  Offer C           Yes   \n",
       "7040                    4                72     None           Yes   \n",
       "7041                    1                11     None            No   \n",
       "7042                    0                66     None           Yes   \n",
       "\n",
       "     Internet Service Premium Tech Support   Payment Method  CLTV  Churn Value  \n",
       "0                 Yes                   No  Bank Withdrawal  5433            1  \n",
       "1                 Yes                   No      Credit Card  5302            1  \n",
       "2                 Yes                   No  Bank Withdrawal  3179            1  \n",
       "3                 Yes                   No  Bank Withdrawal  5337            1  \n",
       "4                 Yes                   No  Bank Withdrawal  2793            1  \n",
       "...               ...                  ...              ...   ...          ...  \n",
       "7038               No                   No  Bank Withdrawal  5306            0  \n",
       "7039              Yes                  Yes     Mailed Check  2140            0  \n",
       "7040              Yes                   No      Credit Card  5560            0  \n",
       "7041              Yes                   No  Bank Withdrawal  2793            0  \n",
       "7042              Yes                  Yes  Bank Withdrawal  5097            0  \n",
       "\n",
       "[7043 rows x 13 columns]"
      ]
     },
     "execution_count": 87,
     "metadata": {},
     "output_type": "execute_result"
    }
   ],
   "source": [
    "service_df = pd.merge(loc_df, services, left_on='Customer ID',\n",
    "                         right_on= 'Customer ID', how='inner')\n",
    "service_df =  service_df[['Under 30', 'Dependents', 'Number of Dependents', 'City', 'Number of Referrals', 'Tenure in Months',\n",
    "               'Offer', 'Phone Service', 'Internet Service', 'Premium Tech Support', 'Payment Method', 'CLTV', 'Churn Value']]\n",
    "service_df"
   ]
  },
  {
   "cell_type": "code",
   "execution_count": 88,
   "metadata": {
    "executionInfo": {
     "elapsed": 356,
     "status": "ok",
     "timestamp": 1702915273431,
     "user": {
      "displayName": "Aravind Bhimanathini",
      "userId": "06486059456027652245"
     },
     "user_tz": 300
    },
    "id": "RPnEqtrnPaXg"
   },
   "outputs": [],
   "source": [
    "final_df = service_df"
   ]
  },
  {
   "cell_type": "markdown",
   "metadata": {
    "id": "nF4-Gn3MER2J"
   },
   "source": [
    "Replacing the binary variable values(Yes, No) with binary numerical values."
   ]
  },
  {
   "cell_type": "code",
   "execution_count": 89,
   "metadata": {
    "executionInfo": {
     "elapsed": 23,
     "status": "ok",
     "timestamp": 1702915273431,
     "user": {
      "displayName": "Aravind Bhimanathini",
      "userId": "06486059456027652245"
     },
     "user_tz": 300
    },
    "id": "g6zSFEkVmXIX"
   },
   "outputs": [],
   "source": [
    "final_df['Under 30'].replace(['Yes','No'],[1,0], inplace = True)\n",
    "final_df['Dependents'].replace(['Yes','No'],[1,0],inplace = True)\n",
    "final_df['Phone Service'].replace(['Yes','No'],[1,0],inplace = True)\n",
    "final_df['Internet Service'].replace(['Yes','No'],[1,0],inplace = True)\n",
    "final_df['Premium Tech Support'].replace(['Yes','No'],[1,0],inplace = True)"
   ]
  },
  {
   "cell_type": "code",
   "execution_count": 90,
   "metadata": {
    "colab": {
     "base_uri": "https://localhost:8080/",
     "height": 328
    },
    "executionInfo": {
     "elapsed": 26,
     "status": "ok",
     "timestamp": 1702915273435,
     "user": {
      "displayName": "Aravind Bhimanathini",
      "userId": "06486059456027652245"
     },
     "user_tz": 300
    },
    "id": "j9gjBjRJPm3-",
    "outputId": "f5e32355-7264-43dd-ef6e-836cfc2baa7d"
   },
   "outputs": [
    {
     "data": {
      "text/html": [
       "<div>\n",
       "<style scoped>\n",
       "    .dataframe tbody tr th:only-of-type {\n",
       "        vertical-align: middle;\n",
       "    }\n",
       "\n",
       "    .dataframe tbody tr th {\n",
       "        vertical-align: top;\n",
       "    }\n",
       "\n",
       "    .dataframe thead th {\n",
       "        text-align: right;\n",
       "    }\n",
       "</style>\n",
       "<table border=\"1\" class=\"dataframe\">\n",
       "  <thead>\n",
       "    <tr style=\"text-align: right;\">\n",
       "      <th></th>\n",
       "      <th>Under 30</th>\n",
       "      <th>Dependents</th>\n",
       "      <th>Number of Dependents</th>\n",
       "      <th>City</th>\n",
       "      <th>Number of Referrals</th>\n",
       "      <th>Tenure in Months</th>\n",
       "      <th>Offer</th>\n",
       "      <th>Phone Service</th>\n",
       "      <th>Internet Service</th>\n",
       "      <th>Premium Tech Support</th>\n",
       "      <th>Payment Method</th>\n",
       "      <th>CLTV</th>\n",
       "    </tr>\n",
       "  </thead>\n",
       "  <tbody>\n",
       "    <tr>\n",
       "      <th>0</th>\n",
       "      <td>0</td>\n",
       "      <td>0</td>\n",
       "      <td>0</td>\n",
       "      <td>Los Angeles</td>\n",
       "      <td>0</td>\n",
       "      <td>1</td>\n",
       "      <td>None</td>\n",
       "      <td>0</td>\n",
       "      <td>1</td>\n",
       "      <td>0</td>\n",
       "      <td>Bank Withdrawal</td>\n",
       "      <td>5433</td>\n",
       "    </tr>\n",
       "    <tr>\n",
       "      <th>1</th>\n",
       "      <td>0</td>\n",
       "      <td>1</td>\n",
       "      <td>1</td>\n",
       "      <td>Los Angeles</td>\n",
       "      <td>1</td>\n",
       "      <td>8</td>\n",
       "      <td>Offer E</td>\n",
       "      <td>1</td>\n",
       "      <td>1</td>\n",
       "      <td>0</td>\n",
       "      <td>Credit Card</td>\n",
       "      <td>5302</td>\n",
       "    </tr>\n",
       "    <tr>\n",
       "      <th>2</th>\n",
       "      <td>0</td>\n",
       "      <td>1</td>\n",
       "      <td>3</td>\n",
       "      <td>Los Angeles</td>\n",
       "      <td>0</td>\n",
       "      <td>18</td>\n",
       "      <td>Offer D</td>\n",
       "      <td>1</td>\n",
       "      <td>1</td>\n",
       "      <td>0</td>\n",
       "      <td>Bank Withdrawal</td>\n",
       "      <td>3179</td>\n",
       "    </tr>\n",
       "    <tr>\n",
       "      <th>3</th>\n",
       "      <td>0</td>\n",
       "      <td>1</td>\n",
       "      <td>1</td>\n",
       "      <td>Inglewood</td>\n",
       "      <td>1</td>\n",
       "      <td>25</td>\n",
       "      <td>Offer C</td>\n",
       "      <td>1</td>\n",
       "      <td>1</td>\n",
       "      <td>0</td>\n",
       "      <td>Bank Withdrawal</td>\n",
       "      <td>5337</td>\n",
       "    </tr>\n",
       "    <tr>\n",
       "      <th>4</th>\n",
       "      <td>0</td>\n",
       "      <td>1</td>\n",
       "      <td>1</td>\n",
       "      <td>Whittier</td>\n",
       "      <td>1</td>\n",
       "      <td>37</td>\n",
       "      <td>Offer C</td>\n",
       "      <td>1</td>\n",
       "      <td>1</td>\n",
       "      <td>0</td>\n",
       "      <td>Bank Withdrawal</td>\n",
       "      <td>2793</td>\n",
       "    </tr>\n",
       "  </tbody>\n",
       "</table>\n",
       "</div>"
      ],
      "text/plain": [
       "   Under 30  Dependents  Number of Dependents         City  \\\n",
       "0         0           0                     0  Los Angeles   \n",
       "1         0           1                     1  Los Angeles   \n",
       "2         0           1                     3  Los Angeles   \n",
       "3         0           1                     1    Inglewood   \n",
       "4         0           1                     1     Whittier   \n",
       "\n",
       "   Number of Referrals  Tenure in Months    Offer  Phone Service  \\\n",
       "0                    0                 1     None              0   \n",
       "1                    1                 8  Offer E              1   \n",
       "2                    0                18  Offer D              1   \n",
       "3                    1                25  Offer C              1   \n",
       "4                    1                37  Offer C              1   \n",
       "\n",
       "   Internet Service  Premium Tech Support   Payment Method  CLTV  \n",
       "0                 1                     0  Bank Withdrawal  5433  \n",
       "1                 1                     0      Credit Card  5302  \n",
       "2                 1                     0  Bank Withdrawal  3179  \n",
       "3                 1                     0  Bank Withdrawal  5337  \n",
       "4                 1                     0  Bank Withdrawal  2793  "
      ]
     },
     "execution_count": 90,
     "metadata": {},
     "output_type": "execute_result"
    }
   ],
   "source": [
    "X = final_df.iloc[:,:-1]\n",
    "X.head()"
   ]
  },
  {
   "cell_type": "code",
   "execution_count": 91,
   "metadata": {
    "colab": {
     "base_uri": "https://localhost:8080/"
    },
    "executionInfo": {
     "elapsed": 21,
     "status": "ok",
     "timestamp": 1702915273436,
     "user": {
      "displayName": "Aravind Bhimanathini",
      "userId": "06486059456027652245"
     },
     "user_tz": 300
    },
    "id": "5eVumzd5z8yI",
    "outputId": "a96d19fd-a934-4b47-f3af-49c5b7118191"
   },
   "outputs": [
    {
     "data": {
      "text/plain": [
       "0    1\n",
       "1    1\n",
       "2    1\n",
       "3    1\n",
       "4    1\n",
       "Name: Churn Value, dtype: int64"
      ]
     },
     "execution_count": 91,
     "metadata": {},
     "output_type": "execute_result"
    }
   ],
   "source": [
    "Y = final_df.iloc[:,-1]\n",
    "Y.head()"
   ]
  },
  {
   "cell_type": "markdown",
   "metadata": {
    "id": "J0PbRvFBEF0t"
   },
   "source": [
    "Applying one-hot encoding before giving the data to the model"
   ]
  },
  {
   "cell_type": "code",
   "execution_count": 92,
   "metadata": {
    "colab": {
     "base_uri": "https://localhost:8080/",
     "height": 479
    },
    "executionInfo": {
     "elapsed": 201,
     "status": "ok",
     "timestamp": 1702915273623,
     "user": {
      "displayName": "Aravind Bhimanathini",
      "userId": "06486059456027652245"
     },
     "user_tz": 300
    },
    "id": "IxR94EXVmXMM",
    "outputId": "ea432497-564c-4608-b001-63fc60ec135b"
   },
   "outputs": [
    {
     "data": {
      "text/html": [
       "<div>\n",
       "<style scoped>\n",
       "    .dataframe tbody tr th:only-of-type {\n",
       "        vertical-align: middle;\n",
       "    }\n",
       "\n",
       "    .dataframe tbody tr th {\n",
       "        vertical-align: top;\n",
       "    }\n",
       "\n",
       "    .dataframe thead th {\n",
       "        text-align: right;\n",
       "    }\n",
       "</style>\n",
       "<table border=\"1\" class=\"dataframe\">\n",
       "  <thead>\n",
       "    <tr style=\"text-align: right;\">\n",
       "      <th></th>\n",
       "      <th>Under 30</th>\n",
       "      <th>Dependents</th>\n",
       "      <th>Number of Dependents</th>\n",
       "      <th>Number of Referrals</th>\n",
       "      <th>Tenure in Months</th>\n",
       "      <th>Phone Service</th>\n",
       "      <th>Internet Service</th>\n",
       "      <th>Premium Tech Support</th>\n",
       "      <th>CLTV</th>\n",
       "      <th>City_Acampo</th>\n",
       "      <th>...</th>\n",
       "      <th>City_Zenia</th>\n",
       "      <th>Offer_None</th>\n",
       "      <th>Offer_Offer A</th>\n",
       "      <th>Offer_Offer B</th>\n",
       "      <th>Offer_Offer C</th>\n",
       "      <th>Offer_Offer D</th>\n",
       "      <th>Offer_Offer E</th>\n",
       "      <th>Payment Method_Bank Withdrawal</th>\n",
       "      <th>Payment Method_Credit Card</th>\n",
       "      <th>Payment Method_Mailed Check</th>\n",
       "    </tr>\n",
       "  </thead>\n",
       "  <tbody>\n",
       "    <tr>\n",
       "      <th>0</th>\n",
       "      <td>0</td>\n",
       "      <td>0</td>\n",
       "      <td>0</td>\n",
       "      <td>0</td>\n",
       "      <td>1</td>\n",
       "      <td>0</td>\n",
       "      <td>1</td>\n",
       "      <td>0</td>\n",
       "      <td>5433</td>\n",
       "      <td>0</td>\n",
       "      <td>...</td>\n",
       "      <td>0</td>\n",
       "      <td>1</td>\n",
       "      <td>0</td>\n",
       "      <td>0</td>\n",
       "      <td>0</td>\n",
       "      <td>0</td>\n",
       "      <td>0</td>\n",
       "      <td>1</td>\n",
       "      <td>0</td>\n",
       "      <td>0</td>\n",
       "    </tr>\n",
       "    <tr>\n",
       "      <th>1</th>\n",
       "      <td>0</td>\n",
       "      <td>1</td>\n",
       "      <td>1</td>\n",
       "      <td>1</td>\n",
       "      <td>8</td>\n",
       "      <td>1</td>\n",
       "      <td>1</td>\n",
       "      <td>0</td>\n",
       "      <td>5302</td>\n",
       "      <td>0</td>\n",
       "      <td>...</td>\n",
       "      <td>0</td>\n",
       "      <td>0</td>\n",
       "      <td>0</td>\n",
       "      <td>0</td>\n",
       "      <td>0</td>\n",
       "      <td>0</td>\n",
       "      <td>1</td>\n",
       "      <td>0</td>\n",
       "      <td>1</td>\n",
       "      <td>0</td>\n",
       "    </tr>\n",
       "    <tr>\n",
       "      <th>2</th>\n",
       "      <td>0</td>\n",
       "      <td>1</td>\n",
       "      <td>3</td>\n",
       "      <td>0</td>\n",
       "      <td>18</td>\n",
       "      <td>1</td>\n",
       "      <td>1</td>\n",
       "      <td>0</td>\n",
       "      <td>3179</td>\n",
       "      <td>0</td>\n",
       "      <td>...</td>\n",
       "      <td>0</td>\n",
       "      <td>0</td>\n",
       "      <td>0</td>\n",
       "      <td>0</td>\n",
       "      <td>0</td>\n",
       "      <td>1</td>\n",
       "      <td>0</td>\n",
       "      <td>1</td>\n",
       "      <td>0</td>\n",
       "      <td>0</td>\n",
       "    </tr>\n",
       "    <tr>\n",
       "      <th>3</th>\n",
       "      <td>0</td>\n",
       "      <td>1</td>\n",
       "      <td>1</td>\n",
       "      <td>1</td>\n",
       "      <td>25</td>\n",
       "      <td>1</td>\n",
       "      <td>1</td>\n",
       "      <td>0</td>\n",
       "      <td>5337</td>\n",
       "      <td>0</td>\n",
       "      <td>...</td>\n",
       "      <td>0</td>\n",
       "      <td>0</td>\n",
       "      <td>0</td>\n",
       "      <td>0</td>\n",
       "      <td>1</td>\n",
       "      <td>0</td>\n",
       "      <td>0</td>\n",
       "      <td>1</td>\n",
       "      <td>0</td>\n",
       "      <td>0</td>\n",
       "    </tr>\n",
       "    <tr>\n",
       "      <th>4</th>\n",
       "      <td>0</td>\n",
       "      <td>1</td>\n",
       "      <td>1</td>\n",
       "      <td>1</td>\n",
       "      <td>37</td>\n",
       "      <td>1</td>\n",
       "      <td>1</td>\n",
       "      <td>0</td>\n",
       "      <td>2793</td>\n",
       "      <td>0</td>\n",
       "      <td>...</td>\n",
       "      <td>0</td>\n",
       "      <td>0</td>\n",
       "      <td>0</td>\n",
       "      <td>0</td>\n",
       "      <td>1</td>\n",
       "      <td>0</td>\n",
       "      <td>0</td>\n",
       "      <td>1</td>\n",
       "      <td>0</td>\n",
       "      <td>0</td>\n",
       "    </tr>\n",
       "    <tr>\n",
       "      <th>...</th>\n",
       "      <td>...</td>\n",
       "      <td>...</td>\n",
       "      <td>...</td>\n",
       "      <td>...</td>\n",
       "      <td>...</td>\n",
       "      <td>...</td>\n",
       "      <td>...</td>\n",
       "      <td>...</td>\n",
       "      <td>...</td>\n",
       "      <td>...</td>\n",
       "      <td>...</td>\n",
       "      <td>...</td>\n",
       "      <td>...</td>\n",
       "      <td>...</td>\n",
       "      <td>...</td>\n",
       "      <td>...</td>\n",
       "      <td>...</td>\n",
       "      <td>...</td>\n",
       "      <td>...</td>\n",
       "      <td>...</td>\n",
       "      <td>...</td>\n",
       "    </tr>\n",
       "    <tr>\n",
       "      <th>7038</th>\n",
       "      <td>0</td>\n",
       "      <td>0</td>\n",
       "      <td>0</td>\n",
       "      <td>0</td>\n",
       "      <td>72</td>\n",
       "      <td>1</td>\n",
       "      <td>0</td>\n",
       "      <td>0</td>\n",
       "      <td>5306</td>\n",
       "      <td>0</td>\n",
       "      <td>...</td>\n",
       "      <td>0</td>\n",
       "      <td>1</td>\n",
       "      <td>0</td>\n",
       "      <td>0</td>\n",
       "      <td>0</td>\n",
       "      <td>0</td>\n",
       "      <td>0</td>\n",
       "      <td>1</td>\n",
       "      <td>0</td>\n",
       "      <td>0</td>\n",
       "    </tr>\n",
       "    <tr>\n",
       "      <th>7039</th>\n",
       "      <td>0</td>\n",
       "      <td>1</td>\n",
       "      <td>2</td>\n",
       "      <td>1</td>\n",
       "      <td>24</td>\n",
       "      <td>1</td>\n",
       "      <td>1</td>\n",
       "      <td>1</td>\n",
       "      <td>2140</td>\n",
       "      <td>0</td>\n",
       "      <td>...</td>\n",
       "      <td>0</td>\n",
       "      <td>0</td>\n",
       "      <td>0</td>\n",
       "      <td>0</td>\n",
       "      <td>1</td>\n",
       "      <td>0</td>\n",
       "      <td>0</td>\n",
       "      <td>0</td>\n",
       "      <td>0</td>\n",
       "      <td>1</td>\n",
       "    </tr>\n",
       "    <tr>\n",
       "      <th>7040</th>\n",
       "      <td>0</td>\n",
       "      <td>1</td>\n",
       "      <td>2</td>\n",
       "      <td>4</td>\n",
       "      <td>72</td>\n",
       "      <td>1</td>\n",
       "      <td>1</td>\n",
       "      <td>0</td>\n",
       "      <td>5560</td>\n",
       "      <td>0</td>\n",
       "      <td>...</td>\n",
       "      <td>0</td>\n",
       "      <td>1</td>\n",
       "      <td>0</td>\n",
       "      <td>0</td>\n",
       "      <td>0</td>\n",
       "      <td>0</td>\n",
       "      <td>0</td>\n",
       "      <td>0</td>\n",
       "      <td>1</td>\n",
       "      <td>0</td>\n",
       "    </tr>\n",
       "    <tr>\n",
       "      <th>7041</th>\n",
       "      <td>0</td>\n",
       "      <td>1</td>\n",
       "      <td>2</td>\n",
       "      <td>1</td>\n",
       "      <td>11</td>\n",
       "      <td>0</td>\n",
       "      <td>1</td>\n",
       "      <td>0</td>\n",
       "      <td>2793</td>\n",
       "      <td>0</td>\n",
       "      <td>...</td>\n",
       "      <td>0</td>\n",
       "      <td>1</td>\n",
       "      <td>0</td>\n",
       "      <td>0</td>\n",
       "      <td>0</td>\n",
       "      <td>0</td>\n",
       "      <td>0</td>\n",
       "      <td>1</td>\n",
       "      <td>0</td>\n",
       "      <td>0</td>\n",
       "    </tr>\n",
       "    <tr>\n",
       "      <th>7042</th>\n",
       "      <td>0</td>\n",
       "      <td>0</td>\n",
       "      <td>0</td>\n",
       "      <td>0</td>\n",
       "      <td>66</td>\n",
       "      <td>1</td>\n",
       "      <td>1</td>\n",
       "      <td>1</td>\n",
       "      <td>5097</td>\n",
       "      <td>0</td>\n",
       "      <td>...</td>\n",
       "      <td>0</td>\n",
       "      <td>1</td>\n",
       "      <td>0</td>\n",
       "      <td>0</td>\n",
       "      <td>0</td>\n",
       "      <td>0</td>\n",
       "      <td>0</td>\n",
       "      <td>1</td>\n",
       "      <td>0</td>\n",
       "      <td>0</td>\n",
       "    </tr>\n",
       "  </tbody>\n",
       "</table>\n",
       "<p>7043 rows × 1124 columns</p>\n",
       "</div>"
      ],
      "text/plain": [
       "      Under 30  Dependents  Number of Dependents  Number of Referrals  \\\n",
       "0            0           0                     0                    0   \n",
       "1            0           1                     1                    1   \n",
       "2            0           1                     3                    0   \n",
       "3            0           1                     1                    1   \n",
       "4            0           1                     1                    1   \n",
       "...        ...         ...                   ...                  ...   \n",
       "7038         0           0                     0                    0   \n",
       "7039         0           1                     2                    1   \n",
       "7040         0           1                     2                    4   \n",
       "7041         0           1                     2                    1   \n",
       "7042         0           0                     0                    0   \n",
       "\n",
       "      Tenure in Months  Phone Service  Internet Service  Premium Tech Support  \\\n",
       "0                    1              0                 1                     0   \n",
       "1                    8              1                 1                     0   \n",
       "2                   18              1                 1                     0   \n",
       "3                   25              1                 1                     0   \n",
       "4                   37              1                 1                     0   \n",
       "...                ...            ...               ...                   ...   \n",
       "7038                72              1                 0                     0   \n",
       "7039                24              1                 1                     1   \n",
       "7040                72              1                 1                     0   \n",
       "7041                11              0                 1                     0   \n",
       "7042                66              1                 1                     1   \n",
       "\n",
       "      CLTV  City_Acampo  ...  City_Zenia  Offer_None  Offer_Offer A  \\\n",
       "0     5433            0  ...           0           1              0   \n",
       "1     5302            0  ...           0           0              0   \n",
       "2     3179            0  ...           0           0              0   \n",
       "3     5337            0  ...           0           0              0   \n",
       "4     2793            0  ...           0           0              0   \n",
       "...    ...          ...  ...         ...         ...            ...   \n",
       "7038  5306            0  ...           0           1              0   \n",
       "7039  2140            0  ...           0           0              0   \n",
       "7040  5560            0  ...           0           1              0   \n",
       "7041  2793            0  ...           0           1              0   \n",
       "7042  5097            0  ...           0           1              0   \n",
       "\n",
       "      Offer_Offer B  Offer_Offer C  Offer_Offer D  Offer_Offer E  \\\n",
       "0                 0              0              0              0   \n",
       "1                 0              0              0              1   \n",
       "2                 0              0              1              0   \n",
       "3                 0              1              0              0   \n",
       "4                 0              1              0              0   \n",
       "...             ...            ...            ...            ...   \n",
       "7038              0              0              0              0   \n",
       "7039              0              1              0              0   \n",
       "7040              0              0              0              0   \n",
       "7041              0              0              0              0   \n",
       "7042              0              0              0              0   \n",
       "\n",
       "      Payment Method_Bank Withdrawal  Payment Method_Credit Card  \\\n",
       "0                                  1                           0   \n",
       "1                                  0                           1   \n",
       "2                                  1                           0   \n",
       "3                                  1                           0   \n",
       "4                                  1                           0   \n",
       "...                              ...                         ...   \n",
       "7038                               1                           0   \n",
       "7039                               0                           0   \n",
       "7040                               0                           1   \n",
       "7041                               1                           0   \n",
       "7042                               1                           0   \n",
       "\n",
       "      Payment Method_Mailed Check  \n",
       "0                               0  \n",
       "1                               0  \n",
       "2                               0  \n",
       "3                               0  \n",
       "4                               0  \n",
       "...                           ...  \n",
       "7038                            0  \n",
       "7039                            1  \n",
       "7040                            0  \n",
       "7041                            0  \n",
       "7042                            0  \n",
       "\n",
       "[7043 rows x 1124 columns]"
      ]
     },
     "execution_count": 92,
     "metadata": {},
     "output_type": "execute_result"
    }
   ],
   "source": [
    "X = pd.get_dummies(X, columns=['City', 'Offer', 'Payment Method'])\n",
    "X"
   ]
  },
  {
   "cell_type": "code",
   "execution_count": 93,
   "metadata": {
    "colab": {
     "base_uri": "https://localhost:8080/"
    },
    "executionInfo": {
     "elapsed": 18,
     "status": "ok",
     "timestamp": 1702915273623,
     "user": {
      "displayName": "Aravind Bhimanathini",
      "userId": "06486059456027652245"
     },
     "user_tz": 300
    },
    "id": "JfY4mI9zmXDK",
    "outputId": "6d5a297a-e51c-44a9-881d-489278764010"
   },
   "outputs": [
    {
     "data": {
      "text/plain": [
       "(7043, 1124)"
      ]
     },
     "execution_count": 93,
     "metadata": {},
     "output_type": "execute_result"
    }
   ],
   "source": [
    "X.shape"
   ]
  },
  {
   "cell_type": "markdown",
   "metadata": {
    "id": "aMa_atydWfuV"
   },
   "source": [
    "## Partitioning the data 80%, 20%"
   ]
  },
  {
   "cell_type": "markdown",
   "metadata": {
    "id": "-caPXYQREldC"
   },
   "source": [
    "Partitioning the data by 80, 20 split for train and testing the data."
   ]
  },
  {
   "cell_type": "code",
   "execution_count": 94,
   "metadata": {
    "executionInfo": {
     "elapsed": 545,
     "status": "ok",
     "timestamp": 1702915274153,
     "user": {
      "displayName": "Aravind Bhimanathini",
      "userId": "06486059456027652245"
     },
     "user_tz": 300
    },
    "id": "2SOUr2R7mW_w"
   },
   "outputs": [],
   "source": [
    "from sklearn.model_selection import train_test_split\n",
    "X_train,X_test,Y_train,Y_test = train_test_split(X,Y,test_size = 0.2,random_state = 42)"
   ]
  },
  {
   "cell_type": "markdown",
   "metadata": {
    "id": "soY4vP-8X7OC"
   },
   "source": [
    "# Logistic Regression Model"
   ]
  },
  {
   "cell_type": "markdown",
   "metadata": {
    "id": "WxM9UKN6E-2m"
   },
   "source": [
    "Using logistic regression model for classifying the training the data."
   ]
  },
  {
   "cell_type": "code",
   "execution_count": 95,
   "metadata": {
    "executionInfo": {
     "elapsed": 11,
     "status": "ok",
     "timestamp": 1702915274155,
     "user": {
      "displayName": "Aravind Bhimanathini",
      "userId": "06486059456027652245"
     },
     "user_tz": 300
    },
    "id": "lqfBabK7X8Co"
   },
   "outputs": [],
   "source": [
    "from sklearn.linear_model import LogisticRegression"
   ]
  },
  {
   "cell_type": "code",
   "execution_count": 96,
   "metadata": {
    "executionInfo": {
     "elapsed": 10,
     "status": "ok",
     "timestamp": 1702915274156,
     "user": {
      "displayName": "Aravind Bhimanathini",
      "userId": "06486059456027652245"
     },
     "user_tz": 300
    },
    "id": "Ds4RJnabYg5F"
   },
   "outputs": [],
   "source": [
    "lr = LogisticRegression()"
   ]
  },
  {
   "cell_type": "code",
   "execution_count": 97,
   "metadata": {
    "colab": {
     "base_uri": "https://localhost:8080/",
     "height": 218
    },
    "executionInfo": {
     "elapsed": 2382,
     "status": "ok",
     "timestamp": 1702915276529,
     "user": {
      "displayName": "Aravind Bhimanathini",
      "userId": "06486059456027652245"
     },
     "user_tz": 300
    },
    "id": "DA7paGpZYlnw",
    "outputId": "6ca60090-b8f3-4fb8-d1cc-56b7a740970b"
   },
   "outputs": [
    {
     "name": "stderr",
     "output_type": "stream",
     "text": [
      "C:\\ProgramData\\anaconda3\\Lib\\site-packages\\sklearn\\linear_model\\_logistic.py:460: ConvergenceWarning: lbfgs failed to converge (status=1):\n",
      "STOP: TOTAL NO. of ITERATIONS REACHED LIMIT.\n",
      "\n",
      "Increase the number of iterations (max_iter) or scale the data as shown in:\n",
      "    https://scikit-learn.org/stable/modules/preprocessing.html\n",
      "Please also refer to the documentation for alternative solver options:\n",
      "    https://scikit-learn.org/stable/modules/linear_model.html#logistic-regression\n",
      "  n_iter_i = _check_optimize_result(\n"
     ]
    },
    {
     "data": {
      "text/html": [
       "<style>#sk-container-id-1 {color: black;}#sk-container-id-1 pre{padding: 0;}#sk-container-id-1 div.sk-toggleable {background-color: white;}#sk-container-id-1 label.sk-toggleable__label {cursor: pointer;display: block;width: 100%;margin-bottom: 0;padding: 0.3em;box-sizing: border-box;text-align: center;}#sk-container-id-1 label.sk-toggleable__label-arrow:before {content: \"▸\";float: left;margin-right: 0.25em;color: #696969;}#sk-container-id-1 label.sk-toggleable__label-arrow:hover:before {color: black;}#sk-container-id-1 div.sk-estimator:hover label.sk-toggleable__label-arrow:before {color: black;}#sk-container-id-1 div.sk-toggleable__content {max-height: 0;max-width: 0;overflow: hidden;text-align: left;background-color: #f0f8ff;}#sk-container-id-1 div.sk-toggleable__content pre {margin: 0.2em;color: black;border-radius: 0.25em;background-color: #f0f8ff;}#sk-container-id-1 input.sk-toggleable__control:checked~div.sk-toggleable__content {max-height: 200px;max-width: 100%;overflow: auto;}#sk-container-id-1 input.sk-toggleable__control:checked~label.sk-toggleable__label-arrow:before {content: \"▾\";}#sk-container-id-1 div.sk-estimator input.sk-toggleable__control:checked~label.sk-toggleable__label {background-color: #d4ebff;}#sk-container-id-1 div.sk-label input.sk-toggleable__control:checked~label.sk-toggleable__label {background-color: #d4ebff;}#sk-container-id-1 input.sk-hidden--visually {border: 0;clip: rect(1px 1px 1px 1px);clip: rect(1px, 1px, 1px, 1px);height: 1px;margin: -1px;overflow: hidden;padding: 0;position: absolute;width: 1px;}#sk-container-id-1 div.sk-estimator {font-family: monospace;background-color: #f0f8ff;border: 1px dotted black;border-radius: 0.25em;box-sizing: border-box;margin-bottom: 0.5em;}#sk-container-id-1 div.sk-estimator:hover {background-color: #d4ebff;}#sk-container-id-1 div.sk-parallel-item::after {content: \"\";width: 100%;border-bottom: 1px solid gray;flex-grow: 1;}#sk-container-id-1 div.sk-label:hover label.sk-toggleable__label {background-color: #d4ebff;}#sk-container-id-1 div.sk-serial::before {content: \"\";position: absolute;border-left: 1px solid gray;box-sizing: border-box;top: 0;bottom: 0;left: 50%;z-index: 0;}#sk-container-id-1 div.sk-serial {display: flex;flex-direction: column;align-items: center;background-color: white;padding-right: 0.2em;padding-left: 0.2em;position: relative;}#sk-container-id-1 div.sk-item {position: relative;z-index: 1;}#sk-container-id-1 div.sk-parallel {display: flex;align-items: stretch;justify-content: center;background-color: white;position: relative;}#sk-container-id-1 div.sk-item::before, #sk-container-id-1 div.sk-parallel-item::before {content: \"\";position: absolute;border-left: 1px solid gray;box-sizing: border-box;top: 0;bottom: 0;left: 50%;z-index: -1;}#sk-container-id-1 div.sk-parallel-item {display: flex;flex-direction: column;z-index: 1;position: relative;background-color: white;}#sk-container-id-1 div.sk-parallel-item:first-child::after {align-self: flex-end;width: 50%;}#sk-container-id-1 div.sk-parallel-item:last-child::after {align-self: flex-start;width: 50%;}#sk-container-id-1 div.sk-parallel-item:only-child::after {width: 0;}#sk-container-id-1 div.sk-dashed-wrapped {border: 1px dashed gray;margin: 0 0.4em 0.5em 0.4em;box-sizing: border-box;padding-bottom: 0.4em;background-color: white;}#sk-container-id-1 div.sk-label label {font-family: monospace;font-weight: bold;display: inline-block;line-height: 1.2em;}#sk-container-id-1 div.sk-label-container {text-align: center;}#sk-container-id-1 div.sk-container {/* jupyter's `normalize.less` sets `[hidden] { display: none; }` but bootstrap.min.css set `[hidden] { display: none !important; }` so we also need the `!important` here to be able to override the default hidden behavior on the sphinx rendered scikit-learn.org. See: https://github.com/scikit-learn/scikit-learn/issues/21755 */display: inline-block !important;position: relative;}#sk-container-id-1 div.sk-text-repr-fallback {display: none;}</style><div id=\"sk-container-id-1\" class=\"sk-top-container\"><div class=\"sk-text-repr-fallback\"><pre>LogisticRegression()</pre><b>In a Jupyter environment, please rerun this cell to show the HTML representation or trust the notebook. <br />On GitHub, the HTML representation is unable to render, please try loading this page with nbviewer.org.</b></div><div class=\"sk-container\" hidden><div class=\"sk-item\"><div class=\"sk-estimator sk-toggleable\"><input class=\"sk-toggleable__control sk-hidden--visually\" id=\"sk-estimator-id-1\" type=\"checkbox\" checked><label for=\"sk-estimator-id-1\" class=\"sk-toggleable__label sk-toggleable__label-arrow\">LogisticRegression</label><div class=\"sk-toggleable__content\"><pre>LogisticRegression()</pre></div></div></div></div></div>"
      ],
      "text/plain": [
       "LogisticRegression()"
      ]
     },
     "execution_count": 97,
     "metadata": {},
     "output_type": "execute_result"
    }
   ],
   "source": [
    "lr.fit(X_train,Y_train)"
   ]
  },
  {
   "cell_type": "code",
   "execution_count": 98,
   "metadata": {
    "executionInfo": {
     "elapsed": 200,
     "status": "ok",
     "timestamp": 1702915276720,
     "user": {
      "displayName": "Aravind Bhimanathini",
      "userId": "06486059456027652245"
     },
     "user_tz": 300
    },
    "id": "No0oX5CvauB0"
   },
   "outputs": [],
   "source": [
    "Y_pred = lr.predict(X_test)"
   ]
  },
  {
   "cell_type": "markdown",
   "metadata": {
    "id": "GpBDAPCLIX3N"
   },
   "source": [
    "## Model Evaluation"
   ]
  },
  {
   "cell_type": "code",
   "execution_count": 99,
   "metadata": {
    "executionInfo": {
     "elapsed": 7,
     "status": "ok",
     "timestamp": 1702915276720,
     "user": {
      "displayName": "Aravind Bhimanathini",
      "userId": "06486059456027652245"
     },
     "user_tz": 300
    },
    "id": "be5hp5lvacXa"
   },
   "outputs": [],
   "source": [
    "from sklearn.metrics import accuracy_score,recall_score,roc_auc_score,confusion_matrix, precision_score, f1_score, roc_curve"
   ]
  },
  {
   "cell_type": "code",
   "execution_count": 100,
   "metadata": {
    "colab": {
     "base_uri": "https://localhost:8080/"
    },
    "executionInfo": {
     "elapsed": 233,
     "status": "ok",
     "timestamp": 1702915276948,
     "user": {
      "displayName": "Aravind Bhimanathini",
      "userId": "06486059456027652245"
     },
     "user_tz": 300
    },
    "id": "75leMtUuaf13",
    "outputId": "b0a36822-72f4-422b-a07f-ef25e3f05a25"
   },
   "outputs": [
    {
     "name": "stdout",
     "output_type": "stream",
     "text": [
      "Accuracy: 0.7928\n",
      "Precision: 0.6598\n",
      "Recall: 0.5575\n",
      "F1 Score: 0.6043\n",
      "ROC AUC: 1.0000\n",
      "Confusion Matrix:\n",
      "[[894 115]\n",
      " [177 223]]\n"
     ]
    }
   ],
   "source": [
    "accuracy = accuracy_score(Y_test, Y_pred)\n",
    "precision = precision_score(Y_test, Y_pred)\n",
    "recall = recall_score(Y_test, Y_pred)\n",
    "f1 = f1_score(Y_test, Y_pred)\n",
    "roc_auc = roc_auc_score(Y_pred, lr.predict_proba(X_test)[:, 1])\n",
    "conf_matrix = confusion_matrix(Y_test,Y_pred)\n",
    "\n",
    "print(f\"Accuracy: {accuracy:.4f}\")\n",
    "print(f\"Precision: {precision:.4f}\")\n",
    "print(f\"Recall: {recall:.4f}\")\n",
    "print(f\"F1 Score: {f1:.4f}\")\n",
    "print(f\"ROC AUC: {roc_auc:.4f}\")\n",
    "\n",
    "# Display the confusion matrix\n",
    "print(\"Confusion Matrix:\")\n",
    "print(conf_matrix)\n"
   ]
  },
  {
   "cell_type": "code",
   "execution_count": 101,
   "metadata": {
    "colab": {
     "base_uri": "https://localhost:8080/",
     "height": 496
    },
    "executionInfo": {
     "elapsed": 347,
     "status": "ok",
     "timestamp": 1702915277289,
     "user": {
      "displayName": "Aravind Bhimanathini",
      "userId": "06486059456027652245"
     },
     "user_tz": 300
    },
    "id": "5OZwxSSkKBka",
    "outputId": "354db45d-ddec-4779-98ab-0c14d00b7240"
   },
   "outputs": [
    {
     "data": {
      "image/png": "[encoded data removed]",
      "text/plain": [
       "<Figure size 600x500 with 1 Axes>"
      ]
     },
     "metadata": {},
     "output_type": "display_data"
    }
   ],
   "source": [
    "# Plot the ROC curve\n",
    "fpr, tpr, thresholds = roc_curve(Y_test, lr.predict_proba(X_test)[:, 1])\n",
    "plt.figure(figsize=(6, 5))\n",
    "plt.plot(fpr, tpr, label=f'ROC Curve (AUC = {roc_auc:.2f})')\n",
    "plt.plot([0, 1], [0, 1], linestyle='--', color='gray', label='Random')\n",
    "plt.title('Receiver Operating Characteristic (ROC) Curve')\n",
    "plt.xlabel('False Positive Rate')\n",
    "plt.ylabel('True Positive Rate (Recall)')\n",
    "plt.legend()\n",
    "plt.show()"
   ]
  },
  {
   "cell_type": "markdown",
   "metadata": {
    "id": "orO4xj0uGgzK"
   },
   "source": [
    "# Conclusion"
   ]
  },
  {
   "cell_type": "markdown",
   "metadata": {
    "id": "gC_qb-LrF2I8"
   },
   "source": [
    "1. Accuracy: 0.7928\n",
    "  The model correctly predicted the class of approximately 79.28% of instances in the dataset.\n",
    "\n",
    "2. Precision: 0.6598\n",
    "   Out of the instances predicted as positive, around 65.98% were actually true positives. This metric emphasizes the accuracy of positive predictions.\n",
    "\n",
    "3. Recall: 0.5575\n",
    "   The model captured approximately 55.75% of all actual positive instances. This metric emphasizes the ability of the model to find all positive instances.\n",
    "\n",
    "4. F1 Score: 0.6043\n",
    "   The F1 score is approximately 60.43%, indicating a balanced performance between precision and recall. A higher F1 score is desirable, especially when precision and recall are equally important.\n",
    "\n",
    "5. ROC AUC: 1.0000\n",
    "   An ROC AUC of 1.0000 indicates perfect discrimination between classes. The model has a flawless ability to separate positive and negative instances.\n",
    "\n",
    "Confusion Matrix:\n",
    "True Positives (TP): 223 instances were correctly predicted as positive.\n",
    "True Negatives (TN): 894 instances were correctly predicted as negative.\n",
    "False Positives (FP): 115 instances were incorrectly predicted as positive.\n",
    "False Negatives (FN): 177 instances were incorrectly predicted as negative.\n",
    "\n",
    "In summary, the model has a high overall accuracy, decent precision, recall, and F1 score. The perfect ROC AUC suggests excellent discrimination capability. The confusion matrix provides a detailed breakdown of correct and incorrect predictions, which can be useful for understanding the model's performance in different aspects."
   ]
  }
 ],
 "metadata": {
  "colab": {
   "authorship_tag": "ABX9TyMRA0M8wz3n0DcbrhPMKpfA",
   "collapsed_sections": [
    "VVbqyBZRDRzD",
    "x8x8S4KLakO2",
    "XnTE_ffHuBJ6",
    "JHq5XgrkSUKR",
    "LcTyp4FBScWd",
    "NeIVlvbJZn9h",
    "bQN_WH9QszmC",
    "N0-i7qKqWob5",
    "soY4vP-8X7OC",
    "orO4xj0uGgzK"
   ],
   "provenance": [],
   "toc_visible": true
  },
  "kernelspec": {
   "display_name": "Python 3 (ipykernel)",
   "language": "python",
   "name": "python3"
  },
  "language_info": {
   "codemirror_mode": {
    "name": "ipython",
    "version": 3
   },
   "file_extension": ".py",
   "mimetype": "text/x-python",
   "name": "python",
   "nbconvert_exporter": "python",
   "pygments_lexer": "ipython3",
   "version": "3.11.4"
  }
 },
 "nbformat": 4,
 "nbformat_minor": 4
}
